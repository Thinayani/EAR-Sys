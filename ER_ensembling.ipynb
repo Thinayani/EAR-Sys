{
 "cells": [
  {
   "cell_type": "markdown",
   "id": "fff413c3",
   "metadata": {
    "_cell_guid": "b1076dfc-b9ad-4769-8c92-a6c4dae69d19",
    "_uuid": "8f2839f25d086af736a60e9eeb907d3b93b6e0e5",
    "id": "fff413c3",
    "papermill": {
     "duration": 0.012521,
     "end_time": "2023-01-28T05:45:28.992433",
     "exception": false,
     "start_time": "2023-01-28T05:45:28.979912",
     "status": "completed"
    },
    "tags": []
   },
   "source": [
    "# Introduction\n",
    "\n",
    "The dataset for this competition (both train and test) was generated from a deep learning model trained on a [Employee Attrition](https://www.kaggle.com/datasets/pavansubhasht/ibm-hr-analytics-attrition-dataset). Feature distributions are close to, but not exactly the same, as the original.\n",
    "\n",
    "For each `EmployeeNumber` in the test set, you must predict the probability for the target variable `Attrition`.\n",
    "\n",
    "## About Dataset\n",
    "\n",
    "* `Age`                     \n",
    "* `BusinessTravel`          \n",
    "* `DailyRate`               \n",
    "* `Department`              \n",
    "* `DistanceFromHome`        \n",
    "* `Education`               \n",
    "* `EducationField`          \n",
    "* `EmployeeCount`           \n",
    "* `EnvironmentSatisfaction` \n",
    "* `Gender`                  \n",
    "* `HourlyRate`              \n",
    "* `JobInvolvement`          \n",
    "* `JobLevel`                \n",
    "* `JobRole`                 \n",
    "* `JobSatisfaction`         \n",
    "* `MaritalStatus`           \n",
    "* `MonthlyIncome`           \n",
    "* `MonthlyRate`             \n",
    "* `NumCompaniesWorked`      \n",
    "* `Over18`                  \n",
    "* `OverTime`                \n",
    "* `PercentSalaryHike`       \n",
    "* `PerformanceRating`       \n",
    "* `RelationshipSatisfaction`\n",
    "* `StandardHours`           \n",
    "* `StockOptionLevel`        \n",
    "* `TotalWorkingYears`       \n",
    "* `TrainingTimesLastYear`   \n",
    "* `WorkLifeBalance`         \n",
    "* `YearsAtCompany`          \n",
    "* `YearsInCurrentRole`      \n",
    "* `YearsSinceLastPromotion` \n",
    "* `YearsWithCurrManager`    \n",
    "* `Attrition` \n",
    "\n",
    "Submissions are evaluated on **area under the ROC** curve between the predicted probability and the observed target."
   ]
  },
  {
   "cell_type": "markdown",
   "id": "43ec06e2",
   "metadata": {
    "id": "43ec06e2",
    "papermill": {
     "duration": 0.012259,
     "end_time": "2023-01-28T05:45:29.015947",
     "exception": false,
     "start_time": "2023-01-28T05:45:29.003688",
     "status": "completed"
    },
    "tags": []
   },
   "source": [
    "# Library Import\n",
    "* Some library import and some configurations of seaborn."
   ]
  },
  {
   "cell_type": "code",
   "execution_count": 1,
   "id": "Vye-IQNPEJ8b",
   "metadata": {
    "colab": {
     "base_uri": "https://localhost:8080/"
    },
    "id": "Vye-IQNPEJ8b",
    "outputId": "d69afc74-4180-4d13-be95-fe7f7c578334"
   },
   "outputs": [
    {
     "name": "stdout",
     "output_type": "stream",
     "text": [
      "Requirement already satisfied: category_encoders in c:\\users\\thinayani\\anaconda3\\lib\\site-packages (2.6.0)\n",
      "Requirement already satisfied: pandas>=1.0.5 in c:\\users\\thinayani\\anaconda3\\lib\\site-packages (from category_encoders) (1.4.4)\n",
      "Requirement already satisfied: patsy>=0.5.1 in c:\\users\\thinayani\\anaconda3\\lib\\site-packages (from category_encoders) (0.5.2)\n",
      "Requirement already satisfied: scipy>=1.0.0 in c:\\users\\thinayani\\anaconda3\\lib\\site-packages (from category_encoders) (1.9.1)\n",
      "Requirement already satisfied: numpy>=1.14.0 in c:\\users\\thinayani\\anaconda3\\lib\\site-packages (from category_encoders) (1.21.5)\n",
      "Requirement already satisfied: statsmodels>=0.9.0 in c:\\users\\thinayani\\anaconda3\\lib\\site-packages (from category_encoders) (0.13.2)\n",
      "Requirement already satisfied: scikit-learn>=0.20.0 in c:\\users\\thinayani\\anaconda3\\lib\\site-packages (from category_encoders) (1.0.2)\n",
      "Requirement already satisfied: pytz>=2020.1 in c:\\users\\thinayani\\anaconda3\\lib\\site-packages (from pandas>=1.0.5->category_encoders) (2022.1)\n",
      "Requirement already satisfied: python-dateutil>=2.8.1 in c:\\users\\thinayani\\anaconda3\\lib\\site-packages (from pandas>=1.0.5->category_encoders) (2.8.2)\n",
      "Requirement already satisfied: six in c:\\users\\thinayani\\anaconda3\\lib\\site-packages (from patsy>=0.5.1->category_encoders) (1.16.0)\n",
      "Requirement already satisfied: threadpoolctl>=2.0.0 in c:\\users\\thinayani\\anaconda3\\lib\\site-packages (from scikit-learn>=0.20.0->category_encoders) (2.2.0)\n",
      "Requirement already satisfied: joblib>=0.11 in c:\\users\\thinayani\\anaconda3\\lib\\site-packages (from scikit-learn>=0.20.0->category_encoders) (1.2.0)\n",
      "Requirement already satisfied: packaging>=21.3 in c:\\users\\thinayani\\anaconda3\\lib\\site-packages (from statsmodels>=0.9.0->category_encoders) (21.3)\n",
      "Requirement already satisfied: pyparsing!=3.0.5,>=2.0.2 in c:\\users\\thinayani\\anaconda3\\lib\\site-packages (from packaging>=21.3->statsmodels>=0.9.0->category_encoders) (3.0.9)\n",
      "Note: you may need to restart the kernel to use updated packages.\n"
     ]
    }
   ],
   "source": [
    "pip install category_encoders"
   ]
  },
  {
   "cell_type": "code",
   "execution_count": 2,
   "id": "yMUbVHteKX9-",
   "metadata": {
    "colab": {
     "base_uri": "https://localhost:8080/"
    },
    "id": "yMUbVHteKX9-",
    "outputId": "2409d581-b31b-4899-bbe6-7d8b3f638ebf"
   },
   "outputs": [
    {
     "name": "stdout",
     "output_type": "stream",
     "text": [
      "Requirement already satisfied: optuna in c:\\users\\thinayani\\anaconda3\\lib\\site-packages (3.1.1)\n",
      "Requirement already satisfied: cmaes>=0.9.1 in c:\\users\\thinayani\\anaconda3\\lib\\site-packages (from optuna) (0.9.1)\n",
      "Requirement already satisfied: tqdm in c:\\users\\thinayani\\anaconda3\\lib\\site-packages (from optuna) (4.64.1)\n",
      "Requirement already satisfied: alembic>=1.5.0 in c:\\users\\thinayani\\anaconda3\\lib\\site-packages (from optuna) (1.10.4)\n",
      "Requirement already satisfied: numpy in c:\\users\\thinayani\\anaconda3\\lib\\site-packages (from optuna) (1.21.5)\n",
      "Requirement already satisfied: sqlalchemy>=1.3.0 in c:\\users\\thinayani\\anaconda3\\lib\\site-packages (from optuna) (1.4.39)\n",
      "Requirement already satisfied: packaging>=20.0 in c:\\users\\thinayani\\anaconda3\\lib\\site-packages (from optuna) (21.3)\n",
      "Requirement already satisfied: colorlog in c:\\users\\thinayani\\anaconda3\\lib\\site-packages (from optuna) (6.7.0)\n",
      "Requirement already satisfied: PyYAML in c:\\users\\thinayani\\anaconda3\\lib\\site-packages (from optuna) (6.0)\n",
      "Requirement already satisfied: typing-extensions>=4 in c:\\users\\thinayani\\anaconda3\\lib\\site-packages (from alembic>=1.5.0->optuna) (4.3.0)\n",
      "Requirement already satisfied: Mako in c:\\users\\thinayani\\anaconda3\\lib\\site-packages (from alembic>=1.5.0->optuna) (1.2.4)\n",
      "Requirement already satisfied: pyparsing!=3.0.5,>=2.0.2 in c:\\users\\thinayani\\anaconda3\\lib\\site-packages (from packaging>=20.0->optuna) (3.0.9)\n",
      "Requirement already satisfied: greenlet!=0.4.17 in c:\\users\\thinayani\\anaconda3\\lib\\site-packages (from sqlalchemy>=1.3.0->optuna) (1.1.1)\n",
      "Requirement already satisfied: colorama in c:\\users\\thinayani\\anaconda3\\lib\\site-packages (from colorlog->optuna) (0.4.5)\n",
      "Requirement already satisfied: MarkupSafe>=0.9.2 in c:\\users\\thinayani\\anaconda3\\lib\\site-packages (from Mako->alembic>=1.5.0->optuna) (2.0.1)\n",
      "Note: you may need to restart the kernel to use updated packages.\n"
     ]
    }
   ],
   "source": [
    "pip install optuna"
   ]
  },
  {
   "cell_type": "code",
   "execution_count": 3,
   "id": "e08fc321",
   "metadata": {
    "id": "e08fc321",
    "outputId": "bdd165c4-baab-40e8-decc-f5d043fe8b2d"
   },
   "outputs": [
    {
     "name": "stdout",
     "output_type": "stream",
     "text": [
      "Requirement already satisfied: xgboost in c:\\users\\thinayani\\anaconda3\\lib\\site-packages (1.7.5)\n",
      "Requirement already satisfied: numpy in c:\\users\\thinayani\\anaconda3\\lib\\site-packages (from xgboost) (1.21.5)\n",
      "Requirement already satisfied: scipy in c:\\users\\thinayani\\anaconda3\\lib\\site-packages (from xgboost) (1.9.1)\n",
      "Note: you may need to restart the kernel to use updated packages.\n"
     ]
    }
   ],
   "source": [
    "pip install xgboost"
   ]
  },
  {
   "cell_type": "code",
   "execution_count": 4,
   "id": "156bd0ff",
   "metadata": {
    "id": "156bd0ff",
    "outputId": "b8e77b8c-d927-4062-b768-b5a7af558b21"
   },
   "outputs": [
    {
     "name": "stdout",
     "output_type": "stream",
     "text": [
      "Requirement already satisfied: lightgbm in c:\\users\\thinayani\\anaconda3\\lib\\site-packages (3.3.5)\n",
      "Requirement already satisfied: scikit-learn!=0.22.0 in c:\\users\\thinayani\\anaconda3\\lib\\site-packages (from lightgbm) (1.0.2)\n",
      "Requirement already satisfied: scipy in c:\\users\\thinayani\\anaconda3\\lib\\site-packages (from lightgbm) (1.9.1)\n",
      "Requirement already satisfied: wheel in c:\\users\\thinayani\\anaconda3\\lib\\site-packages (from lightgbm) (0.37.1)\n",
      "Requirement already satisfied: numpy in c:\\users\\thinayani\\anaconda3\\lib\\site-packages (from lightgbm) (1.21.5)\n",
      "Requirement already satisfied: threadpoolctl>=2.0.0 in c:\\users\\thinayani\\anaconda3\\lib\\site-packages (from scikit-learn!=0.22.0->lightgbm) (2.2.0)\n",
      "Requirement already satisfied: joblib>=0.11 in c:\\users\\thinayani\\anaconda3\\lib\\site-packages (from scikit-learn!=0.22.0->lightgbm) (1.2.0)\n",
      "Note: you may need to restart the kernel to use updated packages.\n"
     ]
    }
   ],
   "source": [
    "pip install lightgbm"
   ]
  },
  {
   "cell_type": "code",
   "execution_count": 5,
   "id": "750b0c07",
   "metadata": {},
   "outputs": [
    {
     "name": "stdout",
     "output_type": "stream",
     "text": [
      "Requirement already satisfied: mlens in c:\\users\\thinayani\\anaconda3\\lib\\site-packages (0.2.3)\n",
      "Requirement already satisfied: scipy>=0.17 in c:\\users\\thinayani\\anaconda3\\lib\\site-packages (from mlens) (1.9.1)\n",
      "Requirement already satisfied: numpy>=1.11 in c:\\users\\thinayani\\anaconda3\\lib\\site-packages (from mlens) (1.21.5)\n",
      "Note: you may need to restart the kernel to use updated packages.\n"
     ]
    }
   ],
   "source": [
    "pip install mlens"
   ]
  },
  {
   "cell_type": "code",
   "execution_count": 6,
   "id": "3fc5255d",
   "metadata": {},
   "outputs": [
    {
     "name": "stdout",
     "output_type": "stream",
     "text": [
      "Requirement already satisfied: imblearn in c:\\users\\thinayani\\anaconda3\\lib\\site-packages (0.0)\n",
      "Requirement already satisfied: imbalanced-learn in c:\\users\\thinayani\\anaconda3\\lib\\site-packages (from imblearn) (0.10.1)\n",
      "Requirement already satisfied: joblib>=1.1.1 in c:\\users\\thinayani\\anaconda3\\lib\\site-packages (from imbalanced-learn->imblearn) (1.2.0)\n",
      "Requirement already satisfied: scipy>=1.3.2 in c:\\users\\thinayani\\anaconda3\\lib\\site-packages (from imbalanced-learn->imblearn) (1.9.1)\n",
      "Requirement already satisfied: scikit-learn>=1.0.2 in c:\\users\\thinayani\\anaconda3\\lib\\site-packages (from imbalanced-learn->imblearn) (1.0.2)\n",
      "Requirement already satisfied: threadpoolctl>=2.0.0 in c:\\users\\thinayani\\anaconda3\\lib\\site-packages (from imbalanced-learn->imblearn) (2.2.0)\n",
      "Requirement already satisfied: numpy>=1.17.3 in c:\\users\\thinayani\\anaconda3\\lib\\site-packages (from imbalanced-learn->imblearn) (1.21.5)\n",
      "Note: you may need to restart the kernel to use updated packages.\n"
     ]
    }
   ],
   "source": [
    "pip install imblearn"
   ]
  },
  {
   "cell_type": "code",
   "execution_count": 1,
   "id": "5c614472",
   "metadata": {
    "execution": {
     "iopub.execute_input": "2023-01-28T05:45:29.039479Z",
     "iopub.status.busy": "2023-01-28T05:45:29.038928Z",
     "iopub.status.idle": "2023-01-28T05:45:31.848166Z",
     "shell.execute_reply": "2023-01-28T05:45:31.847219Z"
    },
    "id": "5c614472",
    "papermill": {
     "duration": 2.824036,
     "end_time": "2023-01-28T05:45:31.850867",
     "exception": false,
     "start_time": "2023-01-28T05:45:29.026831",
     "status": "completed"
    },
    "tags": []
   },
   "outputs": [
    {
     "name": "stderr",
     "output_type": "stream",
     "text": [
      "[MLENS] backend: threading\n"
     ]
    }
   ],
   "source": [
    "import numpy as np\n",
    "import pandas as pd\n",
    "import seaborn as sns\n",
    "from scipy import stats\n",
    "from pathlib import Path\n",
    "import joblib\n",
    "import matplotlib.pyplot as plt\n",
    "from sklearn.model_selection import train_test_split\n",
    "from mlens.ensemble import SuperLearner\n",
    "\n",
    "from sklearn.model_selection import KFold\n",
    "from sklearn.model_selection import StratifiedKFold\n",
    "from sklearn.metrics import roc_auc_score\n",
    "from sklearn.metrics import roc_curve, auc\n",
    "from sklearn.metrics import accuracy_score\n",
    "from sklearn.metrics import f1_score\n",
    "from sklearn.model_selection import cross_val_score\n",
    "#from sklearn.ensemble import VotingClassifier\n",
    "from sklearn.metrics import confusion_matrix\n",
    "\n",
    "#from category_encoders import WOEEncoder\n",
    "from sklearn.preprocessing import StandardScaler\n",
    "from sklearn.preprocessing import LabelEncoder, OneHotEncoder, OrdinalEncoder\n",
    "import optuna\n",
    "\n",
    "import xgboost as xgb\n",
    "import lightgbm as lgbm\n",
    "from xgboost import XGBClassifier\n",
    "from lightgbm.sklearn import LGBMClassifier, LGBMRegressor\n",
    "#from sklearn.ensemble import StackingClassifier\n",
    "from sklearn.linear_model import LogisticRegression\n",
    "from sklearn.ensemble import RandomForestClassifier\n",
    "from sklearn.neighbors import KNeighborsClassifier\n",
    "from sklearn.naive_bayes import GaussianNB\n",
    "from sklearn.svm import SVC\n",
    "\n",
    "from numpy import hstack\n",
    "from numpy import vstack\n",
    "from numpy import asarray\n",
    "from mlens.ensemble import SuperLearner\n",
    "\n",
    "import warnings\n",
    "warnings.filterwarnings('ignore')\n",
    "sns.set_theme(style='darkgrid')"
   ]
  },
  {
   "cell_type": "markdown",
   "id": "af08c37c",
   "metadata": {
    "id": "af08c37c",
    "papermill": {
     "duration": 0.010953,
     "end_time": "2023-01-28T05:45:31.873244",
     "exception": false,
     "start_time": "2023-01-28T05:45:31.862291",
     "status": "completed"
    },
    "tags": []
   },
   "source": [
    "# Data"
   ]
  },
  {
   "cell_type": "code",
   "execution_count": 2,
   "id": "307ddce2",
   "metadata": {
    "execution": {
     "iopub.execute_input": "2023-01-28T05:45:31.898263Z",
     "iopub.status.busy": "2023-01-28T05:45:31.896819Z",
     "iopub.status.idle": "2023-01-28T05:45:31.944209Z",
     "shell.execute_reply": "2023-01-28T05:45:31.943366Z"
    },
    "id": "307ddce2",
    "papermill": {
     "duration": 0.061511,
     "end_time": "2023-01-28T05:45:31.946237",
     "exception": false,
     "start_time": "2023-01-28T05:45:31.884726",
     "status": "completed"
    },
    "tags": []
   },
   "outputs": [],
   "source": [
    "traindf = pd.read_csv('https://raw.githubusercontent.com/Thinayani/ER-Sys/main/train.csv')\n",
    "testdf = pd.read_csv('https://raw.githubusercontent.com/Thinayani/ER-Sys/main/test.csv')"
   ]
  },
  {
   "cell_type": "code",
   "execution_count": 3,
   "id": "cnXJ6_bKg_lb",
   "metadata": {
    "colab": {
     "base_uri": "https://localhost:8080/"
    },
    "id": "cnXJ6_bKg_lb",
    "outputId": "28ae1eab-be9e-45f7-e265-21c918223ab8"
   },
   "outputs": [
    {
     "name": "stdout",
     "output_type": "stream",
     "text": [
      "Train shape:  (1677, 35)\n",
      "Test shape :  (1119, 35)\n"
     ]
    }
   ],
   "source": [
    "print('Train shape: ', traindf.shape)\n",
    "print('Test shape : ', testdf.shape)"
   ]
  },
  {
   "cell_type": "code",
   "execution_count": 4,
   "id": "12cbd296",
   "metadata": {
    "id": "12cbd296",
    "outputId": "806f5f5e-5ab7-4f3f-e6a2-3b01fb19bd35"
   },
   "outputs": [
    {
     "data": {
      "text/html": [
       "<div>\n",
       "<style scoped>\n",
       "    .dataframe tbody tr th:only-of-type {\n",
       "        vertical-align: middle;\n",
       "    }\n",
       "\n",
       "    .dataframe tbody tr th {\n",
       "        vertical-align: top;\n",
       "    }\n",
       "\n",
       "    .dataframe thead th {\n",
       "        text-align: right;\n",
       "    }\n",
       "</style>\n",
       "<table border=\"1\" class=\"dataframe\">\n",
       "  <thead>\n",
       "    <tr style=\"text-align: right;\">\n",
       "      <th></th>\n",
       "      <th>id</th>\n",
       "      <th>Age</th>\n",
       "      <th>BusinessTravel</th>\n",
       "      <th>DailyRate</th>\n",
       "      <th>Department</th>\n",
       "      <th>DistanceFromHome</th>\n",
       "      <th>Education</th>\n",
       "      <th>EducationField</th>\n",
       "      <th>EmployeeCount</th>\n",
       "      <th>EnvironmentSatisfaction</th>\n",
       "      <th>...</th>\n",
       "      <th>StandardHours</th>\n",
       "      <th>StockOptionLevel</th>\n",
       "      <th>TotalWorkingYears</th>\n",
       "      <th>TrainingTimesLastYear</th>\n",
       "      <th>WorkLifeBalance</th>\n",
       "      <th>YearsAtCompany</th>\n",
       "      <th>YearsInCurrentRole</th>\n",
       "      <th>YearsSinceLastPromotion</th>\n",
       "      <th>YearsWithCurrManager</th>\n",
       "      <th>Attrition</th>\n",
       "    </tr>\n",
       "  </thead>\n",
       "  <tbody>\n",
       "    <tr>\n",
       "      <th>0</th>\n",
       "      <td>0</td>\n",
       "      <td>36</td>\n",
       "      <td>Travel_Frequently</td>\n",
       "      <td>599</td>\n",
       "      <td>Research &amp; Development</td>\n",
       "      <td>24</td>\n",
       "      <td>3</td>\n",
       "      <td>Medical</td>\n",
       "      <td>1</td>\n",
       "      <td>4</td>\n",
       "      <td>...</td>\n",
       "      <td>80</td>\n",
       "      <td>1</td>\n",
       "      <td>10</td>\n",
       "      <td>2</td>\n",
       "      <td>3</td>\n",
       "      <td>10</td>\n",
       "      <td>0</td>\n",
       "      <td>7</td>\n",
       "      <td>8</td>\n",
       "      <td>0</td>\n",
       "    </tr>\n",
       "    <tr>\n",
       "      <th>1</th>\n",
       "      <td>1</td>\n",
       "      <td>35</td>\n",
       "      <td>Travel_Rarely</td>\n",
       "      <td>921</td>\n",
       "      <td>Sales</td>\n",
       "      <td>8</td>\n",
       "      <td>3</td>\n",
       "      <td>Other</td>\n",
       "      <td>1</td>\n",
       "      <td>1</td>\n",
       "      <td>...</td>\n",
       "      <td>80</td>\n",
       "      <td>1</td>\n",
       "      <td>4</td>\n",
       "      <td>3</td>\n",
       "      <td>3</td>\n",
       "      <td>4</td>\n",
       "      <td>2</td>\n",
       "      <td>0</td>\n",
       "      <td>3</td>\n",
       "      <td>0</td>\n",
       "    </tr>\n",
       "    <tr>\n",
       "      <th>2</th>\n",
       "      <td>2</td>\n",
       "      <td>32</td>\n",
       "      <td>Travel_Rarely</td>\n",
       "      <td>718</td>\n",
       "      <td>Sales</td>\n",
       "      <td>26</td>\n",
       "      <td>3</td>\n",
       "      <td>Marketing</td>\n",
       "      <td>1</td>\n",
       "      <td>3</td>\n",
       "      <td>...</td>\n",
       "      <td>80</td>\n",
       "      <td>2</td>\n",
       "      <td>4</td>\n",
       "      <td>3</td>\n",
       "      <td>3</td>\n",
       "      <td>3</td>\n",
       "      <td>2</td>\n",
       "      <td>1</td>\n",
       "      <td>2</td>\n",
       "      <td>0</td>\n",
       "    </tr>\n",
       "    <tr>\n",
       "      <th>3</th>\n",
       "      <td>3</td>\n",
       "      <td>38</td>\n",
       "      <td>Travel_Rarely</td>\n",
       "      <td>1488</td>\n",
       "      <td>Research &amp; Development</td>\n",
       "      <td>2</td>\n",
       "      <td>3</td>\n",
       "      <td>Medical</td>\n",
       "      <td>1</td>\n",
       "      <td>3</td>\n",
       "      <td>...</td>\n",
       "      <td>80</td>\n",
       "      <td>0</td>\n",
       "      <td>15</td>\n",
       "      <td>1</td>\n",
       "      <td>1</td>\n",
       "      <td>6</td>\n",
       "      <td>0</td>\n",
       "      <td>0</td>\n",
       "      <td>2</td>\n",
       "      <td>0</td>\n",
       "    </tr>\n",
       "    <tr>\n",
       "      <th>4</th>\n",
       "      <td>4</td>\n",
       "      <td>50</td>\n",
       "      <td>Travel_Rarely</td>\n",
       "      <td>1017</td>\n",
       "      <td>Research &amp; Development</td>\n",
       "      <td>5</td>\n",
       "      <td>4</td>\n",
       "      <td>Medical</td>\n",
       "      <td>1</td>\n",
       "      <td>2</td>\n",
       "      <td>...</td>\n",
       "      <td>80</td>\n",
       "      <td>0</td>\n",
       "      <td>31</td>\n",
       "      <td>0</td>\n",
       "      <td>3</td>\n",
       "      <td>31</td>\n",
       "      <td>14</td>\n",
       "      <td>4</td>\n",
       "      <td>10</td>\n",
       "      <td>1</td>\n",
       "    </tr>\n",
       "  </tbody>\n",
       "</table>\n",
       "<p>5 rows × 35 columns</p>\n",
       "</div>"
      ],
      "text/plain": [
       "   id  Age     BusinessTravel  DailyRate              Department  \\\n",
       "0   0   36  Travel_Frequently        599  Research & Development   \n",
       "1   1   35      Travel_Rarely        921                   Sales   \n",
       "2   2   32      Travel_Rarely        718                   Sales   \n",
       "3   3   38      Travel_Rarely       1488  Research & Development   \n",
       "4   4   50      Travel_Rarely       1017  Research & Development   \n",
       "\n",
       "   DistanceFromHome  Education EducationField  EmployeeCount  \\\n",
       "0                24          3        Medical              1   \n",
       "1                 8          3          Other              1   \n",
       "2                26          3      Marketing              1   \n",
       "3                 2          3        Medical              1   \n",
       "4                 5          4        Medical              1   \n",
       "\n",
       "   EnvironmentSatisfaction  ... StandardHours  StockOptionLevel  \\\n",
       "0                        4  ...            80                 1   \n",
       "1                        1  ...            80                 1   \n",
       "2                        3  ...            80                 2   \n",
       "3                        3  ...            80                 0   \n",
       "4                        2  ...            80                 0   \n",
       "\n",
       "   TotalWorkingYears  TrainingTimesLastYear WorkLifeBalance  YearsAtCompany  \\\n",
       "0                 10                      2               3              10   \n",
       "1                  4                      3               3               4   \n",
       "2                  4                      3               3               3   \n",
       "3                 15                      1               1               6   \n",
       "4                 31                      0               3              31   \n",
       "\n",
       "  YearsInCurrentRole  YearsSinceLastPromotion  YearsWithCurrManager  Attrition  \n",
       "0                  0                        7                     8          0  \n",
       "1                  2                        0                     3          0  \n",
       "2                  2                        1                     2          0  \n",
       "3                  0                        0                     2          0  \n",
       "4                 14                        4                    10          1  \n",
       "\n",
       "[5 rows x 35 columns]"
      ]
     },
     "execution_count": 4,
     "metadata": {},
     "output_type": "execute_result"
    }
   ],
   "source": [
    "traindf.head()"
   ]
  },
  {
   "cell_type": "code",
   "execution_count": 5,
   "id": "5bdafb75",
   "metadata": {
    "id": "5bdafb75",
    "outputId": "2daad526-3077-4f52-fdd2-604ec06dcdb5"
   },
   "outputs": [
    {
     "data": {
      "text/html": [
       "<div>\n",
       "<style scoped>\n",
       "    .dataframe tbody tr th:only-of-type {\n",
       "        vertical-align: middle;\n",
       "    }\n",
       "\n",
       "    .dataframe tbody tr th {\n",
       "        vertical-align: top;\n",
       "    }\n",
       "\n",
       "    .dataframe thead th {\n",
       "        text-align: right;\n",
       "    }\n",
       "</style>\n",
       "<table border=\"1\" class=\"dataframe\">\n",
       "  <thead>\n",
       "    <tr style=\"text-align: right;\">\n",
       "      <th></th>\n",
       "      <th>id</th>\n",
       "      <th>Age</th>\n",
       "      <th>BusinessTravel</th>\n",
       "      <th>DailyRate</th>\n",
       "      <th>Department</th>\n",
       "      <th>DistanceFromHome</th>\n",
       "      <th>Education</th>\n",
       "      <th>EducationField</th>\n",
       "      <th>EmployeeCount</th>\n",
       "      <th>EnvironmentSatisfaction</th>\n",
       "      <th>...</th>\n",
       "      <th>StandardHours</th>\n",
       "      <th>StockOptionLevel</th>\n",
       "      <th>TotalWorkingYears</th>\n",
       "      <th>TrainingTimesLastYear</th>\n",
       "      <th>WorkLifeBalance</th>\n",
       "      <th>YearsAtCompany</th>\n",
       "      <th>YearsInCurrentRole</th>\n",
       "      <th>YearsSinceLastPromotion</th>\n",
       "      <th>YearsWithCurrManager</th>\n",
       "      <th>Attrition</th>\n",
       "    </tr>\n",
       "  </thead>\n",
       "  <tbody>\n",
       "    <tr>\n",
       "      <th>0</th>\n",
       "      <td>1677</td>\n",
       "      <td>19</td>\n",
       "      <td>Non-Travel</td>\n",
       "      <td>992</td>\n",
       "      <td>Research &amp; Development</td>\n",
       "      <td>1</td>\n",
       "      <td>1</td>\n",
       "      <td>Medical</td>\n",
       "      <td>1</td>\n",
       "      <td>4</td>\n",
       "      <td>...</td>\n",
       "      <td>80</td>\n",
       "      <td>0</td>\n",
       "      <td>1</td>\n",
       "      <td>2</td>\n",
       "      <td>2</td>\n",
       "      <td>1</td>\n",
       "      <td>0</td>\n",
       "      <td>0</td>\n",
       "      <td>0</td>\n",
       "      <td>0.188407</td>\n",
       "    </tr>\n",
       "    <tr>\n",
       "      <th>1</th>\n",
       "      <td>1678</td>\n",
       "      <td>45</td>\n",
       "      <td>Travel_Rarely</td>\n",
       "      <td>1136</td>\n",
       "      <td>Sales</td>\n",
       "      <td>4</td>\n",
       "      <td>4</td>\n",
       "      <td>Marketing</td>\n",
       "      <td>1</td>\n",
       "      <td>3</td>\n",
       "      <td>...</td>\n",
       "      <td>80</td>\n",
       "      <td>1</td>\n",
       "      <td>7</td>\n",
       "      <td>3</td>\n",
       "      <td>3</td>\n",
       "      <td>2</td>\n",
       "      <td>2</td>\n",
       "      <td>2</td>\n",
       "      <td>2</td>\n",
       "      <td>0.137034</td>\n",
       "    </tr>\n",
       "    <tr>\n",
       "      <th>2</th>\n",
       "      <td>1679</td>\n",
       "      <td>37</td>\n",
       "      <td>Travel_Rarely</td>\n",
       "      <td>155</td>\n",
       "      <td>Research &amp; Development</td>\n",
       "      <td>13</td>\n",
       "      <td>3</td>\n",
       "      <td>Life Sciences</td>\n",
       "      <td>1</td>\n",
       "      <td>4</td>\n",
       "      <td>...</td>\n",
       "      <td>80</td>\n",
       "      <td>2</td>\n",
       "      <td>13</td>\n",
       "      <td>2</td>\n",
       "      <td>2</td>\n",
       "      <td>7</td>\n",
       "      <td>7</td>\n",
       "      <td>1</td>\n",
       "      <td>7</td>\n",
       "      <td>0.044329</td>\n",
       "    </tr>\n",
       "    <tr>\n",
       "      <th>3</th>\n",
       "      <td>1680</td>\n",
       "      <td>32</td>\n",
       "      <td>Travel_Rarely</td>\n",
       "      <td>688</td>\n",
       "      <td>Research &amp; Development</td>\n",
       "      <td>1</td>\n",
       "      <td>4</td>\n",
       "      <td>Life Sciences</td>\n",
       "      <td>1</td>\n",
       "      <td>3</td>\n",
       "      <td>...</td>\n",
       "      <td>80</td>\n",
       "      <td>0</td>\n",
       "      <td>14</td>\n",
       "      <td>2</td>\n",
       "      <td>2</td>\n",
       "      <td>14</td>\n",
       "      <td>10</td>\n",
       "      <td>11</td>\n",
       "      <td>8</td>\n",
       "      <td>0.061096</td>\n",
       "    </tr>\n",
       "    <tr>\n",
       "      <th>4</th>\n",
       "      <td>1681</td>\n",
       "      <td>29</td>\n",
       "      <td>Travel_Frequently</td>\n",
       "      <td>464</td>\n",
       "      <td>Research &amp; Development</td>\n",
       "      <td>9</td>\n",
       "      <td>1</td>\n",
       "      <td>Life Sciences</td>\n",
       "      <td>1</td>\n",
       "      <td>3</td>\n",
       "      <td>...</td>\n",
       "      <td>80</td>\n",
       "      <td>0</td>\n",
       "      <td>1</td>\n",
       "      <td>5</td>\n",
       "      <td>3</td>\n",
       "      <td>1</td>\n",
       "      <td>0</td>\n",
       "      <td>0</td>\n",
       "      <td>0</td>\n",
       "      <td>0.512708</td>\n",
       "    </tr>\n",
       "  </tbody>\n",
       "</table>\n",
       "<p>5 rows × 35 columns</p>\n",
       "</div>"
      ],
      "text/plain": [
       "     id  Age     BusinessTravel  DailyRate              Department  \\\n",
       "0  1677   19         Non-Travel        992  Research & Development   \n",
       "1  1678   45      Travel_Rarely       1136                   Sales   \n",
       "2  1679   37      Travel_Rarely        155  Research & Development   \n",
       "3  1680   32      Travel_Rarely        688  Research & Development   \n",
       "4  1681   29  Travel_Frequently        464  Research & Development   \n",
       "\n",
       "   DistanceFromHome  Education EducationField  EmployeeCount  \\\n",
       "0                 1          1        Medical              1   \n",
       "1                 4          4      Marketing              1   \n",
       "2                13          3  Life Sciences              1   \n",
       "3                 1          4  Life Sciences              1   \n",
       "4                 9          1  Life Sciences              1   \n",
       "\n",
       "   EnvironmentSatisfaction  ... StandardHours  StockOptionLevel  \\\n",
       "0                        4  ...            80                 0   \n",
       "1                        3  ...            80                 1   \n",
       "2                        4  ...            80                 2   \n",
       "3                        3  ...            80                 0   \n",
       "4                        3  ...            80                 0   \n",
       "\n",
       "   TotalWorkingYears  TrainingTimesLastYear WorkLifeBalance  YearsAtCompany  \\\n",
       "0                  1                      2               2               1   \n",
       "1                  7                      3               3               2   \n",
       "2                 13                      2               2               7   \n",
       "3                 14                      2               2              14   \n",
       "4                  1                      5               3               1   \n",
       "\n",
       "  YearsInCurrentRole  YearsSinceLastPromotion  YearsWithCurrManager  Attrition  \n",
       "0                  0                        0                     0   0.188407  \n",
       "1                  2                        2                     2   0.137034  \n",
       "2                  7                        1                     7   0.044329  \n",
       "3                 10                       11                     8   0.061096  \n",
       "4                  0                        0                     0   0.512708  \n",
       "\n",
       "[5 rows x 35 columns]"
      ]
     },
     "execution_count": 5,
     "metadata": {},
     "output_type": "execute_result"
    }
   ],
   "source": [
    "testdf.head()"
   ]
  },
  {
   "cell_type": "code",
   "execution_count": 6,
   "id": "f1f2e048",
   "metadata": {},
   "outputs": [],
   "source": [
    "hehe_df = pd.concat([traindf, testdf], axis=0)"
   ]
  },
  {
   "cell_type": "markdown",
   "id": "l_qbFI_Ek8WE",
   "metadata": {
    "id": "l_qbFI_Ek8WE"
   },
   "source": [
    "# **Data Preprocessing**"
   ]
  },
  {
   "cell_type": "markdown",
   "id": "_JWUtwc8rYm6",
   "metadata": {
    "id": "_JWUtwc8rYm6"
   },
   "source": [
    "## Missing Data\n",
    "* There are no missing values!"
   ]
  },
  {
   "cell_type": "code",
   "execution_count": 7,
   "id": "i_4thhB2LiV0",
   "metadata": {
    "colab": {
     "base_uri": "https://localhost:8080/",
     "height": 1000
    },
    "id": "i_4thhB2LiV0",
    "outputId": "a4ee6242-6b03-4997-a414-2af9116742de",
    "scrolled": true
   },
   "outputs": [
    {
     "data": {
      "text/html": [
       "<div>\n",
       "<style scoped>\n",
       "    .dataframe tbody tr th:only-of-type {\n",
       "        vertical-align: middle;\n",
       "    }\n",
       "\n",
       "    .dataframe tbody tr th {\n",
       "        vertical-align: top;\n",
       "    }\n",
       "\n",
       "    .dataframe thead th {\n",
       "        text-align: right;\n",
       "    }\n",
       "</style>\n",
       "<table border=\"1\" class=\"dataframe\">\n",
       "  <thead>\n",
       "    <tr style=\"text-align: right;\">\n",
       "      <th></th>\n",
       "      <th>Missing in Train</th>\n",
       "      <th>Missing in Test</th>\n",
       "    </tr>\n",
       "  </thead>\n",
       "  <tbody>\n",
       "    <tr>\n",
       "      <th>id</th>\n",
       "      <td>0</td>\n",
       "      <td>0</td>\n",
       "    </tr>\n",
       "    <tr>\n",
       "      <th>NumCompaniesWorked</th>\n",
       "      <td>0</td>\n",
       "      <td>0</td>\n",
       "    </tr>\n",
       "    <tr>\n",
       "      <th>Over18</th>\n",
       "      <td>0</td>\n",
       "      <td>0</td>\n",
       "    </tr>\n",
       "    <tr>\n",
       "      <th>OverTime</th>\n",
       "      <td>0</td>\n",
       "      <td>0</td>\n",
       "    </tr>\n",
       "    <tr>\n",
       "      <th>PercentSalaryHike</th>\n",
       "      <td>0</td>\n",
       "      <td>0</td>\n",
       "    </tr>\n",
       "    <tr>\n",
       "      <th>PerformanceRating</th>\n",
       "      <td>0</td>\n",
       "      <td>0</td>\n",
       "    </tr>\n",
       "    <tr>\n",
       "      <th>RelationshipSatisfaction</th>\n",
       "      <td>0</td>\n",
       "      <td>0</td>\n",
       "    </tr>\n",
       "    <tr>\n",
       "      <th>MonthlyRate</th>\n",
       "      <td>0</td>\n",
       "      <td>0</td>\n",
       "    </tr>\n",
       "    <tr>\n",
       "      <th>StandardHours</th>\n",
       "      <td>0</td>\n",
       "      <td>0</td>\n",
       "    </tr>\n",
       "    <tr>\n",
       "      <th>TotalWorkingYears</th>\n",
       "      <td>0</td>\n",
       "      <td>0</td>\n",
       "    </tr>\n",
       "    <tr>\n",
       "      <th>TrainingTimesLastYear</th>\n",
       "      <td>0</td>\n",
       "      <td>0</td>\n",
       "    </tr>\n",
       "    <tr>\n",
       "      <th>WorkLifeBalance</th>\n",
       "      <td>0</td>\n",
       "      <td>0</td>\n",
       "    </tr>\n",
       "    <tr>\n",
       "      <th>YearsAtCompany</th>\n",
       "      <td>0</td>\n",
       "      <td>0</td>\n",
       "    </tr>\n",
       "    <tr>\n",
       "      <th>YearsInCurrentRole</th>\n",
       "      <td>0</td>\n",
       "      <td>0</td>\n",
       "    </tr>\n",
       "    <tr>\n",
       "      <th>YearsSinceLastPromotion</th>\n",
       "      <td>0</td>\n",
       "      <td>0</td>\n",
       "    </tr>\n",
       "    <tr>\n",
       "      <th>StockOptionLevel</th>\n",
       "      <td>0</td>\n",
       "      <td>0</td>\n",
       "    </tr>\n",
       "    <tr>\n",
       "      <th>YearsWithCurrManager</th>\n",
       "      <td>0</td>\n",
       "      <td>0</td>\n",
       "    </tr>\n",
       "    <tr>\n",
       "      <th>MonthlyIncome</th>\n",
       "      <td>0</td>\n",
       "      <td>0</td>\n",
       "    </tr>\n",
       "    <tr>\n",
       "      <th>JobSatisfaction</th>\n",
       "      <td>0</td>\n",
       "      <td>0</td>\n",
       "    </tr>\n",
       "    <tr>\n",
       "      <th>Age</th>\n",
       "      <td>0</td>\n",
       "      <td>0</td>\n",
       "    </tr>\n",
       "    <tr>\n",
       "      <th>BusinessTravel</th>\n",
       "      <td>0</td>\n",
       "      <td>0</td>\n",
       "    </tr>\n",
       "    <tr>\n",
       "      <th>DailyRate</th>\n",
       "      <td>0</td>\n",
       "      <td>0</td>\n",
       "    </tr>\n",
       "    <tr>\n",
       "      <th>Department</th>\n",
       "      <td>0</td>\n",
       "      <td>0</td>\n",
       "    </tr>\n",
       "    <tr>\n",
       "      <th>DistanceFromHome</th>\n",
       "      <td>0</td>\n",
       "      <td>0</td>\n",
       "    </tr>\n",
       "    <tr>\n",
       "      <th>Education</th>\n",
       "      <td>0</td>\n",
       "      <td>0</td>\n",
       "    </tr>\n",
       "    <tr>\n",
       "      <th>MaritalStatus</th>\n",
       "      <td>0</td>\n",
       "      <td>0</td>\n",
       "    </tr>\n",
       "    <tr>\n",
       "      <th>EducationField</th>\n",
       "      <td>0</td>\n",
       "      <td>0</td>\n",
       "    </tr>\n",
       "    <tr>\n",
       "      <th>EnvironmentSatisfaction</th>\n",
       "      <td>0</td>\n",
       "      <td>0</td>\n",
       "    </tr>\n",
       "    <tr>\n",
       "      <th>Gender</th>\n",
       "      <td>0</td>\n",
       "      <td>0</td>\n",
       "    </tr>\n",
       "    <tr>\n",
       "      <th>HourlyRate</th>\n",
       "      <td>0</td>\n",
       "      <td>0</td>\n",
       "    </tr>\n",
       "    <tr>\n",
       "      <th>JobInvolvement</th>\n",
       "      <td>0</td>\n",
       "      <td>0</td>\n",
       "    </tr>\n",
       "    <tr>\n",
       "      <th>JobLevel</th>\n",
       "      <td>0</td>\n",
       "      <td>0</td>\n",
       "    </tr>\n",
       "    <tr>\n",
       "      <th>JobRole</th>\n",
       "      <td>0</td>\n",
       "      <td>0</td>\n",
       "    </tr>\n",
       "    <tr>\n",
       "      <th>EmployeeCount</th>\n",
       "      <td>0</td>\n",
       "      <td>0</td>\n",
       "    </tr>\n",
       "    <tr>\n",
       "      <th>Attrition</th>\n",
       "      <td>0</td>\n",
       "      <td>0</td>\n",
       "    </tr>\n",
       "  </tbody>\n",
       "</table>\n",
       "</div>"
      ],
      "text/plain": [
       "                          Missing in Train  Missing in Test\n",
       "id                                       0                0\n",
       "NumCompaniesWorked                       0                0\n",
       "Over18                                   0                0\n",
       "OverTime                                 0                0\n",
       "PercentSalaryHike                        0                0\n",
       "PerformanceRating                        0                0\n",
       "RelationshipSatisfaction                 0                0\n",
       "MonthlyRate                              0                0\n",
       "StandardHours                            0                0\n",
       "TotalWorkingYears                        0                0\n",
       "TrainingTimesLastYear                    0                0\n",
       "WorkLifeBalance                          0                0\n",
       "YearsAtCompany                           0                0\n",
       "YearsInCurrentRole                       0                0\n",
       "YearsSinceLastPromotion                  0                0\n",
       "StockOptionLevel                         0                0\n",
       "YearsWithCurrManager                     0                0\n",
       "MonthlyIncome                            0                0\n",
       "JobSatisfaction                          0                0\n",
       "Age                                      0                0\n",
       "BusinessTravel                           0                0\n",
       "DailyRate                                0                0\n",
       "Department                               0                0\n",
       "DistanceFromHome                         0                0\n",
       "Education                                0                0\n",
       "MaritalStatus                            0                0\n",
       "EducationField                           0                0\n",
       "EnvironmentSatisfaction                  0                0\n",
       "Gender                                   0                0\n",
       "HourlyRate                               0                0\n",
       "JobInvolvement                           0                0\n",
       "JobLevel                                 0                0\n",
       "JobRole                                  0                0\n",
       "EmployeeCount                            0                0\n",
       "Attrition                                0                0"
      ]
     },
     "execution_count": 7,
     "metadata": {},
     "output_type": "execute_result"
    }
   ],
   "source": [
    "# checking for null values\n",
    "pd.concat([traindf.isnull().sum().rename(\"Missing in Train\"),\n",
    "           testdf.isnull().sum().rename(\"Missing in Test\")], axis=1).sort_values(by=\"Missing in Train\")"
   ]
  },
  {
   "cell_type": "code",
   "execution_count": 8,
   "id": "5da27eb1",
   "metadata": {},
   "outputs": [],
   "source": [
    "def testDataframe(test_df):\n",
    "    test_df['Attrition'] = test_df['Attrition'].apply(lambda x: 1 if x >= 0.5 else 0 if x <= 0.4 else x)\n",
    "    test_df.Attrition = test_df.Attrition.astype(int)\n",
    "    \n",
    "    return test_df"
   ]
  },
  {
   "cell_type": "code",
   "execution_count": 9,
   "id": "0d5ecab7",
   "metadata": {},
   "outputs": [],
   "source": [
    "testdf = testDataframe(testdf)"
   ]
  },
  {
   "cell_type": "markdown",
   "id": "rBUXQCKVkyxY",
   "metadata": {
    "id": "rBUXQCKVkyxY"
   },
   "source": [
    "# Categorical Features"
   ]
  },
  {
   "cell_type": "markdown",
   "id": "cpg4Fb6noMVo",
   "metadata": {
    "id": "cpg4Fb6noMVo"
   },
   "source": [
    "### Numerical Features\n",
    "* `EmployeeCount` , `StandardHours` and `Over18` are constant."
   ]
  },
  {
   "cell_type": "code",
   "execution_count": 10,
   "id": "117c4189",
   "metadata": {},
   "outputs": [],
   "source": [
    "def DropFeatures(dataframe):\n",
    "    feats_to_drop = [col for col in dataframe.columns if dataframe[col].nunique()==1]\n",
    "    cat_features = [col for col in dataframe.columns if dataframe[col].nunique() <= 20 and dataframe[col].nunique() > 1]\n",
    "    dataframe.drop(columns=feats_to_drop, inplace=True)\n",
    "    \n",
    "    ord_enc = OrdinalEncoder()\n",
    "    ord_enc.fit(dataframe[cat_features])\n",
    "    dataframe[cat_features] = ord_enc.transform(dataframe[cat_features])\n",
    "    \n",
    "    return dataframe"
   ]
  },
  {
   "cell_type": "markdown",
   "id": "6gWA5gwUwLkk",
   "metadata": {
    "id": "6gWA5gwUwLkk"
   },
   "source": [
    "## Construct New Features"
   ]
  },
  {
   "cell_type": "code",
   "execution_count": 11,
   "id": "b580c37d",
   "metadata": {},
   "outputs": [],
   "source": [
    "def CreateNewFeatures(dataframe):\n",
    "    dataframe['MonthlyIncome/Age'] = dataframe['MonthlyIncome'] / dataframe['Age']\n",
    "\n",
    "    dataframe[\"Age_risk\"] = (dataframe[\"Age\"] < 34).astype(int)\n",
    "    dataframe[\"HourlyRate_risk\"] = (dataframe[\"HourlyRate\"] < 60).astype(int)\n",
    "    dataframe[\"Distance_risk\"] = (dataframe[\"DistanceFromHome\"] >= 20).astype(int)\n",
    "    dataframe[\"YearsAtCo_risk\"] = (dataframe[\"YearsAtCompany\"] < 4).astype(int)\n",
    "\n",
    "    dataframe['NumCompaniesWorked'] = dataframe['NumCompaniesWorked'].replace(0, 1)\n",
    "    dataframe['AverageTenure'] = dataframe[\"TotalWorkingYears\"] / dataframe[\"NumCompaniesWorked\"]\n",
    "\n",
    "    dataframe['JobHopper'] = ((dataframe[\"NumCompaniesWorked\"] > 2) & (dataframe[\"AverageTenure\"] < 2.0)).astype(int)\n",
    "\n",
    "    #df[\"AttritionRisk\"] = df[\"Age_risk\"] + df[\"HourlyRate_risk\"] + df[\"Distance_risk\"] + df[\"YearsAtCo_risk\"] + df['JobHopper']\n",
    "\n",
    "    \n",
    "    \n",
    "    dataframe['feature_1'] = np.where(((dataframe['StockOptionLevel'] >= 1) & \n",
    "                                (dataframe['YearsAtCompany'] >= 3) & \n",
    "                                (dataframe['YearsWithCurrManager'] >= 1)), 1, 0)\n",
    "    \n",
    "    return dataframe"
   ]
  },
  {
   "cell_type": "markdown",
   "id": "6e58ec54",
   "metadata": {},
   "source": [
    "# Feature Selection"
   ]
  },
  {
   "cell_type": "code",
   "execution_count": 12,
   "id": "3de8a154",
   "metadata": {},
   "outputs": [],
   "source": [
    "# with the following function we can select highly correlated features\n",
    "# it will remove the first feature that is correlated with anything other feature\n",
    "\n",
    "def correlation(dataset, threshold):\n",
    "    col_corr = set()  # Set of all the names of correlated columns\n",
    "    corr_matrix = dataset.corr()\n",
    "    for i in range(len(corr_matrix.columns)):\n",
    "        for j in range(i):\n",
    "            if abs(corr_matrix.iloc[i, j]) > threshold: # we are interested in absolute coeff value\n",
    "                colname = corr_matrix.columns[i]  # getting the name of column\n",
    "                col_corr.add(colname)\n",
    "    return col_corr"
   ]
  },
  {
   "cell_type": "code",
   "execution_count": 13,
   "id": "c9193576",
   "metadata": {
    "id": "c9193576"
   },
   "outputs": [],
   "source": [
    "def Preprocessing(dataframe):\n",
    "    dataframe = DropFeatures(dataframe)\n",
    "    dataframe = CreateNewFeatures(dataframe)\n",
    "    corr_features = correlation(dataframe, 0.78)\n",
    "    \n",
    "    dataframe = dataframe.drop(columns=['id', 'Distance_risk', 'HourlyRate_risk', 'MonthlyIncome', 'MonthlyIncome/Age', 'YearsInCurrentRole', 'YearsWithCurrManager'])\n",
    "    dataframe.Attrition = dataframe.Attrition.astype(int)\n",
    "\n",
    "    cols_to_scale = [\"Age\", \"DailyRate\", \"DistanceFromHome\", \"HourlyRate\", \"MonthlyRate\", \"PercentSalaryHike\", \"TotalWorkingYears\", \"YearsAtCompany\", \"AverageTenure\", \"YearsSinceLastPromotion\"]\n",
    "    scaler = StandardScaler()\n",
    "    dataframe[cols_to_scale] = scaler.fit_transform(dataframe[cols_to_scale])\n",
    "    \n",
    "    return dataframe"
   ]
  },
  {
   "cell_type": "code",
   "execution_count": 14,
   "id": "9195b662",
   "metadata": {},
   "outputs": [],
   "source": [
    "df = pd.concat([traindf, testdf], axis=0)"
   ]
  },
  {
   "cell_type": "code",
   "execution_count": 15,
   "id": "ad39eef9",
   "metadata": {
    "scrolled": true
   },
   "outputs": [
    {
     "name": "stdout",
     "output_type": "stream",
     "text": [
      "id: [   0    1    2 ... 2793 2794 2795]\n",
      "Age: [36 35 32 38 50 27 34 40 51 25 29 48 26 39 33 52 42 30 43 24 41 47 31 56\n",
      " 44 28 46 18 45 37 49 53 54 23 59 22 55 20 57 19 21 58 60]\n",
      "BusinessTravel: ['Travel_Frequently' 'Travel_Rarely' 'Non-Travel']\n",
      "DailyRate: [ 599  921  718 1488 1017  566  944 1009 1297  806  885  694  138 1287\n",
      "  884  640  894  607 1495 1092 1392 1082 1107  530  746 1005  796  228\n",
      " 1358  959 1276 1349  154 1277  979  300  555  874 1443  933  833 1001\n",
      "  469 1217  301  119 1469  994  932  809 1179 1434  869 1198 1427 1383\n",
      "  528  548 1097 1413  322  319 1401  477  999 1223  769 1339  523 1003\n",
      " 1018  672 1099 1396  465 1333  604 1206 1313 1275  653 1219 1336  144\n",
      " 1137 1063 1403  942  723  571  442 1303 1450  857  807  682  790 1332\n",
      " 1168  598 1142  920  691  882  895  464  658  954  715  853 1136 1283\n",
      " 1448  804  546  775 1319 1146  359  383  821 1323  543 1288 1479  350\n",
      "  603  835  489  750  462  426  688  466 1311 1377  991  713 1211  304\n",
      " 1362  783  575  641  689 1302  136  602  207  632  652  887 1308  852\n",
      "  832 1371  326  549  192  329 1416  829  561 1169  735  622  990 1389\n",
      " 1435  468 1145  636  662  956  147 1237  791  335 1456  397 1054 1329\n",
      "  574  116 1180  370  252  918 1232  573  654 1064 1157  243 1445 1370\n",
      "  969 1040 1125 1346 1429  638  534 1089  855  360  862  699  708 1199\n",
      " 1193 1476  706 1485 1372 1402  798  117 1320 1210 1325 1115  945 1256\n",
      "  436 1463 1395 1189 1178  697  890  845 1224 1245  989  661  703 1002\n",
      "  977  721  590 1404  629 1324  325 1084  572 1467 1255  741 1498 1242\n",
      " 1184  722  827 1050  155 1091  267 1441  130  505 1411 1278  506 1299\n",
      "  996 1499  611  810  438  346 1147 1328  836  667  448 1085  218  458\n",
      "  583 1373  157  217  786  495  727  394  591 1316  552 1489  240 1490\n",
      "  342 1246  617 1291  427 1218  964 1109 1475  916  763  390 1334  461\n",
      "  586  955  906 1294  663 1356  781  625 1300 1202  848  334  648 1312\n",
      "  861  430  634 1229  444  589 1375  736 1035  185 1261 1220  395 1131\n",
      "  623 1226  594  970  557  200 1112  563  581  193  645  374  670  265\n",
      "  408  605  818  478  984 1225 1265  501  793 1075  740 1243 1480  310\n",
      " 1116  482 1387 1153  756 1398  562 1457 1204 1380 1318  805  443 1366\n",
      "  881  903  660  995  928  949  601  337 1369  896  930 1360  303 1378\n",
      "  428 1111 1252  498 1194  726  678 1391  797  216  177 1354 1452 1327\n",
      "  966 1382 1234  983 1462  201 1258  302  950 1127  472  141  447  891\n",
      "  849  352 1355 1117  621  559  878  630 1096 1330  628  828 1381  946\n",
      "  289 1351  570  587  734 1418  532 1343  526  792 1162  898  181 1195\n",
      "  889 1254  772  684  664  508  943  414  538  771  556  288  938  593\n",
      " 1120 1322  976  234 1052 1250 1164  170  492  665  446 1134  269  279\n",
      "  913  287  419  208 1222  488  490  115  441  917  454  929 1423  981\n",
      "  922 1400 1337  515  911  823  600 1176  459  118  704 1098  971 1102\n",
      "  542  813 1015  164  440 1076 1181  479  365 1167 1186 1239  541  924\n",
      " 1266  474 1397  655 1451 1309  439 1376  817  107  317  511  504 1421\n",
      "  669  742  635  676  584  719  364 1326 1138  923  135  683 1474  509\n",
      " 1282  496 1405  618 1449  410  975  616  867  535 1436  728  124  693\n",
      "  471  647 1271  819 1034 1216 1126  182 1244  422  333 1425  802 1385\n",
      " 1093  433  268 1213  373  470  527 1158  725  685 1440  674 1088 3921\n",
      " 1470  953 1062  381 1182  988  202 1212  982  363 1431  544  799 1274\n",
      " 1055 1251 1482 1038  986 1123  111 1492  967  841  330 1473 1128  868\n",
      "  507 1151 1059  776 1174 1129  941  992 1141 1066  717 1079  391 1144\n",
      "  516 1459  782 1046  644 1315 1262  968 1442 1230  675 1344 1236  585\n",
      " 1331  773  897  536 1090  316 1454 1273  770 1420  692 1296 1238  696\n",
      " 1065 1368 1460  305 1465  429 1103  759 1221 1010 1422  142 1240 1321\n",
      "  406 1352 1069  160 1214  206 1130  476  705 1466  249  371  974  657\n",
      "  481  343 1170 1030 1154 1464  883  935  748  525  524 1305  824 1269\n",
      " 1060  377 1272 1357  738 1200  309  318 1172  711 1439 1171 1379  905\n",
      "  760  567    6  483 1086 1342  588  163  582 1433  266  153  801  457\n",
      "  737 1012  766  529 1041  755]\n",
      "Department: ['Research & Development' 'Sales' 'Human Resources']\n",
      "DistanceFromHome: [24  8 26  2  5 10  6  9 28  1 25 11  7 18  3 17 14  4 16 15 23 20 12 29\n",
      " 19 22 13 27 21]\n",
      "Education: [ 3  4  1  2  5 15]\n",
      "EducationField: ['Medical' 'Other' 'Marketing' 'Life Sciences' 'Technical Degree'\n",
      " 'Human Resources']\n",
      "EmployeeCount: [1]\n",
      "EnvironmentSatisfaction: [4 1 3 2 0]\n",
      "Gender: ['Male' 'Female']\n",
      "HourlyRate: [ 42  46  80  40  37  56  36  74  43  82  68  65  95  81  62  83  87  96\n",
      "  77  60  59  51  86  76  75  54  73  48  52  71  78  79  70  72 100  93\n",
      "  90  64  97  84  38  33  53  58  98  89  92  50  66  30  61  91  44  63\n",
      "  32  39  88  45  41  69  99  49  57  35  31  94  85  55  47  67  34]\n",
      "JobInvolvement: [3 1 2 4 0]\n",
      "JobLevel: [1 2 5 3 4 7]\n",
      "JobRole: ['Laboratory Technician' 'Sales Representative' 'Sales Executive'\n",
      " 'Healthcare Representative' 'Manager' 'Manufacturing Director'\n",
      " 'Research Scientist' 'Human Resources' 'Research Director']\n",
      "JobSatisfaction: [4 1 2 3]\n",
      "MaritalStatus: ['Married' 'Divorced' 'Single']\n",
      "MonthlyIncome: [2596 2899 4627 ... 4078 2352 4799]\n",
      "MonthlyRate: [ 5099 10778 16495 ... 20462 25470 21173]\n",
      "NumCompaniesWorked: [ 1  0  3  5  2  8  6  7  9  4 17]\n",
      "Over18: ['Y']\n",
      "OverTime: ['Yes' 'No']\n",
      "PercentSalaryHike: [13 17 14 11 12 15 21 16 18 19 24 22 23 20 25]\n",
      "PerformanceRating: [3 4]\n",
      "RelationshipSatisfaction: [2 4 3 1]\n",
      "StandardHours: [80]\n",
      "StockOptionLevel: [1 2 0 3 4]\n",
      "TotalWorkingYears: [10  4 15 31  6  1 18  9 17 20 28 21  5  8 33  2 12 11 13 24 16  0 23  7\n",
      " 26 32 19 22 14  3 27 30 37 34 40 36 29 25 38 41 35]\n",
      "TrainingTimesLastYear: [2 3 1 0 5 4 6]\n",
      "WorkLifeBalance: [3 1 2 4]\n",
      "YearsAtCompany: [10  4  3  6 31  1 16  9  2  7  5 20 13  0  8 11 19 33 15 12 24 17 34 18\n",
      " 29 21 22 14 27 26 30 37 41 25 23 36 32]\n",
      "YearsInCurrentRole: [ 0  2 14  7  9  4  3  1  8 11  6  5 18 10 12 13 16 17 15]\n",
      "YearsSinceLastPromotion: [ 7  0  1  4  2  6  3 13  5 11 15  8  9 10 14 12]\n",
      "YearsWithCurrManager: [ 8  3  2 10  0  9  7  4  1 13 12  5  6 11 17 15 16 14]\n",
      "Attrition: [0 1]\n"
     ]
    }
   ],
   "source": [
    "for column in df:\n",
    "    print(f'{column}: {df[column].unique()}')"
   ]
  },
  {
   "cell_type": "code",
   "execution_count": 16,
   "id": "fc6be80f",
   "metadata": {},
   "outputs": [],
   "source": [
    "df = Preprocessing(df)"
   ]
  },
  {
   "cell_type": "code",
   "execution_count": 17,
   "id": "1686ee34",
   "metadata": {},
   "outputs": [
    {
     "name": "stdout",
     "output_type": "stream",
     "text": [
      "Age: [-0.00942186 -0.12547263 -0.47362495  0.22267968  1.61528896 -1.05387882\n",
      " -0.24152341  0.45478123  1.73133973 -1.28598036 -0.82177727  1.38318741\n",
      " -1.16992959  0.33873046 -0.35757418  1.8473905   0.68688277 -0.7057265\n",
      "  0.80293355 -1.40203113  0.570832    1.26713664 -0.58967573  2.31159359\n",
      "  0.91898432 -0.93782804  1.15108587 -2.09833577  1.03503509  0.10662891\n",
      "  1.49923818  1.96344127  2.07949205 -1.51808191  2.65974591 -1.63413268\n",
      "  2.19554282 -1.86623422  2.42764436 -1.982285   -1.75018345  2.54369514\n",
      "  2.77579668]\n",
      "BusinessTravel: [1. 2. 0.]\n",
      "DailyRate: [-7.81468675e-01  8.60277502e-02 -4.60872170e-01  1.61357580e+00\n",
      "  3.44660225e-01 -8.70373588e-01  1.47991781e-01  3.23107519e-01\n",
      "  1.09900494e+00 -2.23792402e-01 -1.09594278e-02 -5.25530289e-01\n",
      " -2.02344337e+00  1.07206406e+00 -1.36535161e-02 -6.71011056e-01\n",
      "  1.32873667e-02 -7.59915969e-01  1.63243442e+00  5.46716846e-01\n",
      "  1.35494333e+00  5.19775963e-01  5.87128170e-01 -9.67360766e-01\n",
      " -3.85437698e-01  3.12331166e-01 -2.50733285e-01 -1.78097543e+00\n",
      "  1.26334433e+00  1.88403105e-01  1.04242909e+00  1.23909753e+00\n",
      " -1.98033796e+00  1.04512318e+00  2.42284870e-01 -1.58700107e+00\n",
      " -9.00008559e-01 -4.05943988e-02  1.49234183e+00  1.18356810e-01\n",
      " -1.51052018e-01  3.01554812e-01 -1.13170015e+00  8.83477880e-01\n",
      " -1.58430698e+00 -2.07463105e+00  1.56238813e+00  2.82696195e-01\n",
      "  1.15662721e-01 -2.15710137e-01  7.81102526e-01  1.46809504e+00\n",
      " -5.40648402e-02  8.32290203e-01  1.44923642e+00  1.33069653e+00\n",
      " -9.72748943e-01 -9.18867177e-01  5.60187287e-01  1.41151918e+00\n",
      " -1.52773113e+00 -1.53581339e+00  1.37919012e+00 -1.11014745e+00\n",
      "  2.96166636e-01  8.99642410e-01 -3.23473668e-01  1.21215665e+00\n",
      " -9.86219384e-01  3.06942989e-01  3.47354313e-01 -5.84800231e-01\n",
      "  5.65575464e-01  1.36571968e+00 -1.14247650e+00  1.19599212e+00\n",
      " -7.67998234e-01  8.53842909e-01  1.14211036e+00  1.03973500e+00\n",
      " -6.35987908e-01  8.88866057e-01  1.20407439e+00 -2.00727884e+00\n",
      "  6.67950818e-01  4.68588286e-01  1.38457830e+00  1.42603604e-01\n",
      " -4.47401729e-01 -8.56903147e-01 -1.20444053e+00  1.11516947e+00\n",
      "  1.51120045e+00 -8.63938996e-02 -2.21098313e-01 -5.57859348e-01\n",
      " -2.66897814e-01  1.19329803e+00  7.51467555e-01 -7.84162764e-01\n",
      "  6.81421260e-01  8.33336619e-02 -5.33612554e-01 -1.90416926e-02\n",
      "  1.59814550e-02 -1.14517059e+00 -6.22517467e-01  1.74932663e-01\n",
      " -4.68954435e-01 -9.71702527e-02  6.65256730e-01  1.06128771e+00\n",
      "  1.50581227e+00 -2.29180578e-01 -9.24255354e-01 -3.07309138e-01\n",
      "  1.15827488e+00  6.92197613e-01 -1.42804986e+00 -1.36339174e+00\n",
      " -1.83381078e-01  1.16905124e+00 -9.32337619e-01  1.07475815e+00\n",
      "  1.58932901e+00 -1.45229666e+00 -7.70692322e-01 -1.45663842e-01\n",
      " -1.07781839e+00 -3.74661345e-01 -1.15055877e+00 -1.24754595e+00\n",
      " -5.41694819e-01 -1.13978242e+00  1.13672218e+00  1.31453200e+00\n",
      "  2.74613930e-01 -4.74342612e-01  8.67313351e-01 -1.57622472e+00\n",
      "  1.27412068e+00 -2.85756432e-01 -8.46126794e-01 -6.68316968e-01\n",
      " -5.39000730e-01  1.11247538e+00 -2.02883155e+00 -7.73386410e-01\n",
      " -1.83755128e+00 -6.92563762e-01 -6.38681997e-01 -5.57125122e-03\n",
      "  1.12863991e+00 -9.98643409e-02 -1.53746107e-01  1.29836748e+00\n",
      " -1.51695478e+00 -9.16173089e-01 -1.87796260e+00 -1.50887251e+00\n",
      "  1.41960145e+00 -1.61828371e-01 -8.83844030e-01  7.54161643e-01\n",
      " -4.15072669e-01 -7.19504645e-01  2.71919841e-01  1.34686106e+00\n",
      "  1.47078913e+00 -1.13439424e+00  6.89503524e-01 -6.81787409e-01\n",
      " -6.11741114e-01  1.80320840e-01 -1.99919658e+00  9.37359646e-01\n",
      " -2.64203726e-01 -1.49270798e+00  1.52736498e+00 -1.32567451e+00\n",
      "  4.44341491e-01  1.18521577e+00 -8.48820882e-01 -2.08271331e+00\n",
      "  7.83796614e-01 -1.39841489e+00 -1.71631731e+00  7.79454854e-02\n",
      "  9.23889205e-01 -8.51514970e-01 -6.33293820e-01  4.71282374e-01\n",
      "  7.21832584e-01 -1.74056410e+00  1.49773001e+00  1.29567339e+00\n",
      "  2.15343988e-01  4.06624255e-01  6.35621759e-01  1.23101527e+00\n",
      "  1.45462460e+00 -6.76399232e-01 -9.56584413e-01  5.38634581e-01\n",
      " -9.17820761e-02 -1.42535577e+00 -7.29234582e-02 -5.12059847e-01\n",
      " -4.87813053e-01  8.34984291e-01  8.18819762e-01  1.58124674e+00\n",
      " -4.93201230e-01  1.60549354e+00  1.30106156e+00  1.38188421e+00\n",
      " -2.45345108e-01 -2.08001923e+00  1.16096897e+00  8.64619263e-01\n",
      "  1.17443941e+00  6.08680876e-01  1.50685869e-01  9.88547323e-01\n",
      " -1.22060506e+00  1.54622360e+00  1.36302559e+00  8.08043409e-01\n",
      "  7.78408438e-01 -5.17448024e-01  2.51101361e-03 -1.18722959e-01\n",
      "  9.02336498e-01  9.58912352e-01  2.69225753e-01 -6.14435202e-01\n",
      " -5.01283494e-01  3.04248901e-01  2.36896694e-01 -4.52789905e-01\n",
      " -8.05715470e-01  1.38727239e+00 -7.00646027e-01  1.17174533e+00\n",
      " -1.51964886e+00  5.25164140e-01 -8.54209059e-01  1.55699995e+00\n",
      "  9.85853235e-01 -3.98908140e-01  1.64051669e+00  9.50830087e-01\n",
      "  7.94572967e-01 -4.50095817e-01 -1.67216548e-01  4.33565138e-01\n",
      " -1.97764387e+00  5.44022757e-01 -1.67590598e+00  1.48695365e+00\n",
      " -2.04499608e+00 -1.03471297e+00  1.40613101e+00  1.04781727e+00\n",
      " -1.03201889e+00  1.10439312e+00  2.88084371e-01  1.64321077e+00\n",
      " -7.49139616e-01 -2.13016049e-01 -1.21521689e+00 -1.46307301e+00\n",
      "  6.94891701e-01  1.18252168e+00 -1.42969753e-01 -5.98270672e-01\n",
      " -1.18827601e+00  5.27858228e-01 -1.80791631e+00 -1.16133512e+00\n",
      " -8.24574088e-01  1.30375565e+00 -1.97225569e+00 -1.81061040e+00\n",
      " -2.77674167e-01 -1.06165386e+00 -4.36625376e-01 -1.33375677e+00\n",
      " -8.03021381e-01  1.15019262e+00 -9.08090824e-01  1.61626989e+00\n",
      " -1.74864637e+00  1.61896398e+00 -1.47384936e+00  9.61606441e-01\n",
      " -7.32975086e-01  1.08284041e+00 -1.24485186e+00  8.86171969e-01\n",
      "  2.01873546e-01  5.92516346e-01  1.57855266e+00  7.25573088e-02\n",
      " -3.39638198e-01 -1.34453313e+00  1.19868621e+00 -1.15325286e+00\n",
      " -8.16491823e-01  1.77626752e-01  4.56164261e-02  1.09092268e+00\n",
      " -6.09047025e-01  1.25795615e+00 -2.91144609e-01 -7.11422380e-01\n",
      "  1.10708721e+00  8.43066556e-01 -1.10640694e-01 -1.49540207e+00\n",
      " -6.49458350e-01  1.13941627e+00 -7.56175464e-02 -1.23676959e+00\n",
      " -6.87175586e-01  9.15806940e-01 -1.19905236e+00 -8.08409558e-01\n",
      "  1.30914383e+00 -4.12378581e-01  3.93153814e-01 -1.89682122e+00\n",
      "  1.00201776e+00  8.91560145e-01 -1.33106268e+00  6.51786289e-01\n",
      " -7.16810557e-01  9.07724675e-01 -7.94939117e-01  2.18038076e-01\n",
      " -8.94620383e-01 -1.85640990e+00  6.00598611e-01 -8.78455853e-01\n",
      " -8.29962264e-01 -1.87526852e+00 -6.57540614e-01 -1.38763854e+00\n",
      " -5.90188408e-01 -1.68129416e+00 -1.29603954e+00 -7.65304146e-01\n",
      " -1.91463342e-01 -1.10745336e+00  2.55755312e-01  9.05030587e-01\n",
      "  1.01279412e+00 -1.04548933e+00 -2.58815549e-01  5.00917345e-01\n",
      " -4.01602228e-01  9.53524176e-01  1.59202310e+00 -1.56006019e+00\n",
      "  6.11374964e-01 -1.09667700e+00  1.34147289e+00  7.11056231e-01\n",
      " -3.58496816e-01  1.37110786e+00 -8.81149942e-01  1.53005907e+00\n",
      "  8.48454733e-01  1.32261427e+00  1.15558080e+00 -2.26486490e-01\n",
      " -1.20174645e+00  1.28489703e+00 -2.17357809e-02  3.75341612e-02\n",
      " -6.17129290e-01  2.85390283e-01  1.04886368e-01  1.61462222e-01\n",
      " -7.76080499e-01 -1.48731980e+00  1.29297930e+00  1.86755433e-02\n",
      "  1.10274545e-01  1.26873250e+00 -1.57891881e+00  1.31722609e+00\n",
      " -1.24215777e+00  5.97904523e-01  9.77770970e-01 -1.05357159e+00\n",
      "  8.21513850e-01 -4.39319464e-01 -5.68635701e-01  1.35224924e+00\n",
      " -2.48039196e-01 -1.81330449e+00 -1.91837393e+00  1.25256797e+00\n",
      "  1.51658863e+00  1.17982759e+00  2.07261723e-01  1.32800245e+00\n",
      "  9.29277381e-01  2.53061223e-01  1.54352951e+00 -1.85371581e+00\n",
      "  9.93935500e-01 -1.58161289e+00  1.64156310e-01  6.41009935e-01\n",
      " -1.12361789e+00 -2.01536111e+00 -1.19097009e+00  5.20510189e-03\n",
      " -1.07946606e-01 -1.44690848e+00  1.25526206e+00  6.14069053e-01\n",
      " -7.22198733e-01 -8.89232206e-01 -2.98180457e-02 -6.97951939e-01\n",
      "  5.57493199e-01  1.18790986e+00 -7.03340115e-01 -1.64522460e-01\n",
      "  1.32530836e+00  1.53379957e-01 -1.61663604e+00  1.24448571e+00\n",
      " -8.59597235e-01 -8.13797735e-01 -4.17766758e-01  1.42498962e+00\n",
      " -9.61972590e-01  1.22293300e+00 -9.78137120e-01 -2.61509638e-01\n",
      "  7.35303025e-01  2.40637198e-02 -1.90759758e+00  8.24207938e-01\n",
      " -1.83074668e-04  9.83159147e-01 -3.15391403e-01 -5.52471172e-01\n",
      " -6.06352937e-01 -1.02663071e+00  1.45297692e-01 -1.27987501e+00\n",
      " -9.45808060e-01 -3.18085491e-01 -8.97314471e-01 -1.61933013e+00\n",
      "  1.31827251e-01 -7.97633205e-01  6.22151318e-01  1.16635715e+00\n",
      "  2.34202606e-01 -1.76481090e+00  4.38953315e-01  9.72382794e-01\n",
      "  7.40691202e-01 -1.93723255e+00 -1.06973612e+00 -6.03658849e-01\n",
      " -1.19366418e+00  6.59868553e-01 -1.67051781e+00 -1.64357692e+00\n",
      "  6.44750440e-02 -1.62202422e+00 -1.26640457e+00 -1.83485719e+00\n",
      "  8.96948322e-01 -1.08051247e+00 -1.07512430e+00 -2.08540740e+00\n",
      " -1.20713462e+00  7.52513971e-02 -1.17211148e+00  1.07580456e-01\n",
      "  1.43846007e+00  2.47673047e-01  8.87218385e-02  1.37649604e+00\n",
      "  1.20676847e+00 -1.00777209e+00  5.90868674e-02 -1.77992901e-01\n",
      " -7.78774587e-01  7.73020261e-01 -1.15864103e+00 -2.07732514e+00\n",
      " -4.98589406e-01  5.62881375e-01  2.20732164e-01  5.73657729e-01\n",
      " -9.35031707e-01 -2.04933784e-01  3.39272048e-01 -1.95339708e+00\n",
      " -1.20982871e+00  5.03611433e-01  7.86490702e-01 -1.10475927e+00\n",
      " -1.41188533e+00  7.48773467e-01  7.99961144e-01  9.42747823e-01\n",
      " -9.37725795e-01  9.41100151e-02  1.01548821e+00 -1.11822971e+00\n",
      "  1.36841377e+00 -6.30599732e-01  1.51389454e+00  1.13133400e+00\n",
      " -1.21252280e+00  1.31183792e+00 -1.94157431e-01 -2.10696011e+00\n",
      " -1.54120157e+00 -1.01854844e+00 -1.03740706e+00  1.43307189e+00\n",
      " -5.92882496e-01 -3.96214052e-01 -6.84481497e-01 -5.74023878e-01\n",
      " -8.21879999e-01 -4.58178082e-01 -1.41457942e+00  1.17713350e+00\n",
      "  6.70644907e-01  9.14159268e-02 -2.03152564e+00 -5.55165260e-01\n",
      "  1.57585857e+00 -1.02393662e+00  1.05859362e+00 -1.05895977e+00\n",
      "  1.38996648e+00 -7.30280998e-01  1.50850636e+00 -1.29065136e+00\n",
      "  2.31508517e-01 -7.35669175e-01 -5.94530168e-02 -9.53890325e-01\n",
      "  1.47348321e+00 -4.33931287e-01 -2.06116061e+00 -5.28224377e-01\n",
      " -1.12631197e+00 -6.52152438e-01  1.02895865e+00 -1.88769254e-01\n",
      "  3.90459726e-01  8.80783792e-01  6.38315847e-01 -1.90490349e+00\n",
      "  9.56218264e-01 -1.25832230e+00 -1.49809616e+00  1.44384824e+00\n",
      " -2.34568755e-01  1.33608471e+00  5.49410934e-01 -1.22868733e+00\n",
      " -1.67321190e+00  8.72701527e-01 -1.39033263e+00 -1.12900606e+00\n",
      " -9.75443031e-01  7.24526672e-01 -4.42013552e-01 -5.49777083e-01\n",
      "  1.48425957e+00 -5.79412054e-01  5.35940493e-01  8.16829258e+00\n",
      "  1.56508221e+00  1.72238575e-01  4.65894197e-01 -1.36877992e+00\n",
      "  7.89184791e-01  2.66531665e-01 -1.85102172e+00  8.70007439e-01\n",
      "  2.50367135e-01 -1.41727351e+00  1.46001277e+00 -9.29643531e-01\n",
      " -2.42651020e-01  1.03704091e+00  4.47035579e-01  9.75076882e-01\n",
      "  1.59741127e+00  4.01236079e-01  2.61143488e-01  6.30233582e-01\n",
      " -2.09618375e+00  1.62435216e+00  2.09955811e-01 -1.29499312e-01\n",
      " -1.50617842e+00  1.57316448e+00  6.43704024e-01 -5.67589285e-02\n",
      " -1.02932480e+00  7.05668054e-01  4.57811933e-01 -3.04615050e-01\n",
      "  7.67632085e-01  6.46398112e-01  1.39909516e-01  2.77308018e-01\n",
      "  6.78727171e-01  4.76670551e-01 -4.63566258e-01  5.11693698e-01\n",
      " -1.34183904e+00  6.86809436e-01 -1.00507800e+00  1.53544724e+00\n",
      " -2.88450520e-01  4.22788785e-01 -6.60234703e-01  1.14749853e+00\n",
      "  1.00471185e+00  2.12649899e-01  1.48964774e+00  9.18501028e-01\n",
      " -5.76717966e-01  1.22562709e+00  9.34665558e-01 -8.19185911e-01\n",
      "  1.19060394e+00 -3.12697315e-01  2.13696316e-02 -9.51196237e-01\n",
      "  5.41328669e-01 -1.54389566e+00  1.52197680e+00  1.03434682e+00\n",
      " -3.20779580e-01  1.43037780e+00 -5.30918465e-01  1.09631085e+00\n",
      "  9.40053734e-01 -5.20142112e-01  4.73976462e-01  1.29028521e+00\n",
      "  1.53814133e+00 -1.57353063e+00  1.55161177e+00 -1.23946368e+00\n",
      "  5.76351817e-01 -3.50414551e-01  8.94254234e-01  3.25801607e-01\n",
      "  1.43576598e+00 -2.01266702e+00  9.45441911e-01  1.16366306e+00\n",
      " -1.30142771e+00  1.24717980e+00  4.84752815e-01 -1.96417343e+00\n",
      "  8.75395616e-01 -1.84024537e+00  6.49092200e-01 -1.11284153e+00\n",
      " -4.95895318e-01  1.55430586e+00 -1.72439957e+00 -1.39572080e+00\n",
      "  2.28814429e-01 -6.25211555e-01 -1.09937109e+00 -1.47115527e+00\n",
      "  7.56855731e-01  3.79683373e-01  7.13750319e-01  1.54891769e+00\n",
      " -1.63476043e-02  1.23744986e-01 -3.80049522e-01 -9.80831208e-01\n",
      " -9.83525296e-01  1.12055765e+00 -1.75298813e-01  1.02357047e+00\n",
      "  4.60506021e-01 -1.37955627e+00  1.03165274e+00  1.26065024e+00\n",
      " -4.06990405e-01  8.37678380e-01 -1.56275428e+00 -1.53850748e+00\n",
      "  7.62243908e-01 -4.79730788e-01  1.48156548e+00  7.59549820e-01\n",
      "  1.31992018e+00  4.29223378e-02 -3.47720463e-01 -8.67679500e-01\n",
      " -2.37906302e+00 -1.09398292e+00  5.30552316e-01  1.22023892e+00\n",
      " -8.11103646e-01 -1.95609116e+00 -8.27268176e-01  1.46540095e+00\n",
      " -1.67860007e+00 -1.98303205e+00 -2.37262843e-01 -1.16402921e+00\n",
      " -4.09684493e-01  3.31189784e-01 -3.31555933e-01 -9.70054855e-01\n",
      "  4.09318344e-01 -3.61190904e-01]\n",
      "Department: [1. 2. 0.]\n",
      "DistanceFromHome: [ 1.96396093 -0.08682466  2.22030913 -0.85586925 -0.47134696  0.16952354\n",
      " -0.34317286  0.04134944  2.47665733 -0.98404335  2.09213503  0.29769764\n",
      " -0.21499876  1.19491633 -0.72769515  1.06674223  0.68221994 -0.59952105\n",
      "  0.93856814  0.81039404  1.83578683  1.45126453  0.42587174  2.60483142\n",
      "  1.32309043  1.70761273  0.55404584  2.34848323  1.57943863]\n",
      "Education: [2. 3. 0. 1. 4. 5.]\n",
      "EducationField: [3. 4. 2. 1. 5. 0.]\n",
      "EnvironmentSatisfaction: [4. 1. 3. 2. 0.]\n",
      "Gender: [1. 0.]\n",
      "HourlyRate: [-1.33493251e+00 -1.12931786e+00  6.18406645e-01 -1.43773984e+00\n",
      " -1.59195082e+00 -6.15281243e-01 -1.64335448e+00  3.09984673e-01\n",
      " -1.28352885e+00  7.21213969e-01  1.56270074e-03 -1.52648285e-01\n",
      "  1.38946157e+00  6.69810307e-01 -3.06859271e-01  7.72617631e-01\n",
      "  9.78232279e-01  1.44086524e+00  4.64195659e-01 -4.09666595e-01\n",
      " -4.61070257e-01 -8.72299553e-01  9.26828617e-01  4.12791997e-01\n",
      "  3.61388335e-01 -7.18088567e-01  2.58581011e-01 -1.02651054e+00\n",
      " -8.20895891e-01  1.55773687e-01  5.15599321e-01  5.67002983e-01\n",
      "  1.04370025e-01  2.07177349e-01  1.64647988e+00  1.28665425e+00\n",
      "  1.13244326e+00 -2.04051947e-01  1.49226890e+00  8.24021293e-01\n",
      " -1.54054716e+00 -1.79756547e+00 -7.69492229e-01 -5.12473919e-01\n",
      "  1.54367256e+00  1.08103960e+00  1.23525059e+00 -9.23703215e-01\n",
      " -1.01244623e-01 -1.95177645e+00 -3.58262933e-01  1.18384693e+00\n",
      " -1.23212519e+00 -2.55455609e-01 -1.84896913e+00 -1.48914350e+00\n",
      "  1.02963594e+00 -1.18072153e+00 -1.38633617e+00  5.29663627e-02\n",
      "  1.59507622e+00 -9.75106877e-01 -5.63877581e-01 -1.69475814e+00\n",
      " -1.90037279e+00  1.33805791e+00  8.75424955e-01 -6.66684905e-01\n",
      " -1.07791420e+00 -4.98409613e-02 -1.74616181e+00]\n",
      "JobInvolvement: [3. 1. 2. 4. 0.]\n",
      "JobLevel: [0. 1. 4. 2. 3. 5.]\n",
      "JobRole: [2. 8. 7. 0. 3. 4. 6. 1. 5.]\n",
      "JobSatisfaction: [3. 0. 1. 2.]\n",
      "MaritalStatus: [1. 0. 2.]\n",
      "MonthlyRate: [-1.37203139 -0.56443338  0.24856853 ...  0.81270681  1.5248834\n",
      "  0.91381655]\n",
      "NumCompaniesWorked: [ 1.  3.  5.  2.  8.  6.  7.  9.  4. 10.]\n",
      "OverTime: [1. 0.]\n",
      "PercentSalaryHike: [-0.54156148  0.63110524 -0.2483948  -1.12789484 -0.83472816  0.04477188\n",
      "  1.80377195  0.33793856  0.92427192  1.2174386   2.68327199  2.09693863\n",
      "  2.39010531  1.51060528  2.97643867]\n",
      "PerformanceRating: [0. 1.]\n",
      "RelationshipSatisfaction: [1. 3. 2. 0.]\n",
      "StockOptionLevel: [1. 2. 0. 3. 4.]\n",
      "TotalWorkingYears: [-0.09652659 -0.92398193  0.59301953  2.7995671  -0.64816349 -1.3377096\n",
      "  1.0067472  -0.23443582  0.86883797  1.28256564  2.38583943  1.42047487\n",
      " -0.78607271 -0.37234504  3.07538555 -1.19980038  0.17929186  0.04138263\n",
      "  0.31720108  1.83420254  0.73092875 -1.47561883  1.69629331 -0.51025426\n",
      "  2.11002098  2.93747633  1.14465642  1.55838409  0.4551103  -1.06189116\n",
      "  2.24793021  2.66165788  3.62702244  3.21329477  4.04075011  3.48911322\n",
      "  2.52374865  1.97211176  3.76493167  4.17865934  3.351204  ]\n",
      "TrainingTimesLastYear: [2. 3. 1. 0. 5. 4. 6.]\n",
      "WorkLifeBalance: [2. 0. 1. 3.]\n",
      "YearsAtCompany: [ 0.5252636  -0.48840512 -0.65734991 -0.15051555  4.07310413 -0.99523948\n",
      "  1.53893232  0.35631882 -0.82629469  0.01842924 -0.31946033  2.21471147\n",
      "  1.03209796 -1.16418427  0.18737403  0.69420839  2.04576669  4.4109937\n",
      "  1.36998754  0.86315318  2.89049062  1.70787711  4.57993849  1.8768219\n",
      "  3.73521455  2.38365626  2.55260105  1.20104275  3.39732498  3.22838019\n",
      "  3.90415934  5.08677285  5.762552    3.05943541  2.72154583  4.91782806\n",
      "  4.24204892]\n",
      "YearsSinceLastPromotion: [ 1.58667123 -0.64264171 -0.32416844  0.6312514  -0.00569516  1.26819795\n",
      "  0.31277812  3.49751089  0.94972467  2.86056433  4.13445744  1.9051445\n",
      "  2.22361778  2.54209106  3.81598416  3.17903761]\n",
      "Attrition: [0 1]\n",
      "Age_risk: [0 1]\n",
      "YearsAtCo_risk: [0 1]\n",
      "AverageTenure: [ 0.6982385  -0.38908249 -0.20786233  4.50386197 -0.89649896 -0.93274299\n",
      " -0.57030266 -0.70621778  0.51701833 -1.02335307  0.42640825  2.51044015\n",
      "  2.69166032 -0.90685439  0.87945867 -0.02664216 -0.75152282 -0.63070938\n",
      " -0.81192954  1.241899    1.06067883 -0.72563423  1.78555949 -0.69974563\n",
      " -1.11396315 -0.87233627 -0.99314971 -0.52499762 -0.28035039  0.154578\n",
      "  0.33579817 -0.28552811 -0.91260741  4.8663023   1.96677966 -0.91009047\n",
      " -0.88743795  0.60762842  0.78884858 -0.86025492 -0.11725224  1.42311916\n",
      " -0.60050602 -0.8550772   1.60433933 -0.82401089  0.24518809 -0.34377745\n",
      " -0.44948921 -0.29847241  3.23532081 -0.66091274 -0.41497109 -0.90253963\n",
      " -0.95287856 -0.6911161  -0.50989594 -0.26826905  1.12108555  0.45661161\n",
      " -0.8809658   0.27539145 -0.47969257 -0.16255729  2.23860991  3.05410065\n",
      " -0.59619125  5.04752247  0.06396792 -0.85220069  3.96020148 -0.95863158\n",
      " -0.25963952 -0.71125168 -0.77741142 -0.67098053 -0.78172618 -0.96294635\n",
      " -0.6156077  -0.80330001  0.29049313 -0.32867577  2.14799982 -0.98452018\n",
      "  0.38110321 -0.14745561  0.19988305 -0.79682786  1.33250908 -0.31659443\n",
      " -0.84213291  0.97006875 -0.67385704 -0.97301414  0.57742506 -0.53405862\n",
      " -1.03342086 -0.83206512 -0.68356526 -0.43438753 -0.77417534  2.87288048\n",
      " -0.82918861  0.75864522  0.09417128  3.59776115 -0.62207985 -0.67903476\n",
      " -0.08704888 -0.46157056 -0.35283846  0.39620489  0.63783178 -0.7716584\n",
      " -0.51852547 -0.64279072 -0.59043823 -0.97804803  1.69494941  0.21498473\n",
      " -0.06288619  5.77240313  0.01866288 -0.13019654 -0.49781459 -0.54441406\n",
      "  1.15128891 -0.81948038  6.31606363 -0.78776686 -0.5400993  -1.04600559\n",
      " -0.3631939  -0.49263687 -0.09913023 -0.95539551  4.14142164 -0.79179397\n",
      "  2.32921999 -0.41928585  3.41654098 -1.05355643 -1.01040877 -0.46674828\n",
      " -1.00070055 -1.07369201 -0.24410636  0.10927296 -0.25316737 -0.0719472\n",
      " -0.64796844 -0.61057381 -0.18197373 -0.55016708  0.03376456  1.51372924\n",
      "  0.81905194 -0.72131946 -0.63826022 -0.80588887 -0.35887913 -1.01328528\n",
      " -0.3373053  -0.60654669 -1.03629737 -0.59295518 -0.89247184 -0.34881134\n",
      " -1.00523105  3.77898131  5.4099628  -1.06218596  4.68508214  5.59118296]\n",
      "JobHopper: [0 1]\n",
      "feature_1: [1 0]\n"
     ]
    }
   ],
   "source": [
    "for column in df:\n",
    "    print(f'{column}: {df[column].unique()}')"
   ]
  },
  {
   "cell_type": "code",
   "execution_count": 18,
   "id": "c12ce968",
   "metadata": {},
   "outputs": [
    {
     "data": {
      "text/html": [
       "<div>\n",
       "<style scoped>\n",
       "    .dataframe tbody tr th:only-of-type {\n",
       "        vertical-align: middle;\n",
       "    }\n",
       "\n",
       "    .dataframe tbody tr th {\n",
       "        vertical-align: top;\n",
       "    }\n",
       "\n",
       "    .dataframe thead th {\n",
       "        text-align: right;\n",
       "    }\n",
       "</style>\n",
       "<table border=\"1\" class=\"dataframe\">\n",
       "  <thead>\n",
       "    <tr style=\"text-align: right;\">\n",
       "      <th></th>\n",
       "      <th>Age</th>\n",
       "      <th>BusinessTravel</th>\n",
       "      <th>DailyRate</th>\n",
       "      <th>Department</th>\n",
       "      <th>DistanceFromHome</th>\n",
       "      <th>Education</th>\n",
       "      <th>EducationField</th>\n",
       "      <th>EnvironmentSatisfaction</th>\n",
       "      <th>Gender</th>\n",
       "      <th>HourlyRate</th>\n",
       "      <th>...</th>\n",
       "      <th>TrainingTimesLastYear</th>\n",
       "      <th>WorkLifeBalance</th>\n",
       "      <th>YearsAtCompany</th>\n",
       "      <th>YearsSinceLastPromotion</th>\n",
       "      <th>Attrition</th>\n",
       "      <th>Age_risk</th>\n",
       "      <th>YearsAtCo_risk</th>\n",
       "      <th>AverageTenure</th>\n",
       "      <th>JobHopper</th>\n",
       "      <th>feature_1</th>\n",
       "    </tr>\n",
       "  </thead>\n",
       "  <tbody>\n",
       "    <tr>\n",
       "      <th>0</th>\n",
       "      <td>-0.009422</td>\n",
       "      <td>1.0</td>\n",
       "      <td>-0.781469</td>\n",
       "      <td>1.0</td>\n",
       "      <td>1.963961</td>\n",
       "      <td>2.0</td>\n",
       "      <td>3.0</td>\n",
       "      <td>4.0</td>\n",
       "      <td>1.0</td>\n",
       "      <td>-1.334933</td>\n",
       "      <td>...</td>\n",
       "      <td>2.0</td>\n",
       "      <td>2.0</td>\n",
       "      <td>0.525264</td>\n",
       "      <td>1.586671</td>\n",
       "      <td>0</td>\n",
       "      <td>0</td>\n",
       "      <td>0</td>\n",
       "      <td>0.698238</td>\n",
       "      <td>0</td>\n",
       "      <td>1</td>\n",
       "    </tr>\n",
       "    <tr>\n",
       "      <th>1</th>\n",
       "      <td>-0.125473</td>\n",
       "      <td>2.0</td>\n",
       "      <td>0.086028</td>\n",
       "      <td>2.0</td>\n",
       "      <td>-0.086825</td>\n",
       "      <td>2.0</td>\n",
       "      <td>4.0</td>\n",
       "      <td>1.0</td>\n",
       "      <td>1.0</td>\n",
       "      <td>-1.129318</td>\n",
       "      <td>...</td>\n",
       "      <td>3.0</td>\n",
       "      <td>2.0</td>\n",
       "      <td>-0.488405</td>\n",
       "      <td>-0.642642</td>\n",
       "      <td>0</td>\n",
       "      <td>0</td>\n",
       "      <td>0</td>\n",
       "      <td>-0.389082</td>\n",
       "      <td>0</td>\n",
       "      <td>1</td>\n",
       "    </tr>\n",
       "    <tr>\n",
       "      <th>2</th>\n",
       "      <td>-0.473625</td>\n",
       "      <td>2.0</td>\n",
       "      <td>-0.460872</td>\n",
       "      <td>2.0</td>\n",
       "      <td>2.220309</td>\n",
       "      <td>2.0</td>\n",
       "      <td>2.0</td>\n",
       "      <td>3.0</td>\n",
       "      <td>1.0</td>\n",
       "      <td>0.618407</td>\n",
       "      <td>...</td>\n",
       "      <td>3.0</td>\n",
       "      <td>2.0</td>\n",
       "      <td>-0.657350</td>\n",
       "      <td>-0.324168</td>\n",
       "      <td>0</td>\n",
       "      <td>1</td>\n",
       "      <td>1</td>\n",
       "      <td>-0.389082</td>\n",
       "      <td>0</td>\n",
       "      <td>1</td>\n",
       "    </tr>\n",
       "    <tr>\n",
       "      <th>3</th>\n",
       "      <td>0.222680</td>\n",
       "      <td>2.0</td>\n",
       "      <td>1.613576</td>\n",
       "      <td>1.0</td>\n",
       "      <td>-0.855869</td>\n",
       "      <td>2.0</td>\n",
       "      <td>3.0</td>\n",
       "      <td>3.0</td>\n",
       "      <td>0.0</td>\n",
       "      <td>-1.437740</td>\n",
       "      <td>...</td>\n",
       "      <td>1.0</td>\n",
       "      <td>0.0</td>\n",
       "      <td>-0.150516</td>\n",
       "      <td>-0.642642</td>\n",
       "      <td>0</td>\n",
       "      <td>0</td>\n",
       "      <td>0</td>\n",
       "      <td>-0.207862</td>\n",
       "      <td>0</td>\n",
       "      <td>0</td>\n",
       "    </tr>\n",
       "    <tr>\n",
       "      <th>4</th>\n",
       "      <td>1.615289</td>\n",
       "      <td>2.0</td>\n",
       "      <td>0.344660</td>\n",
       "      <td>1.0</td>\n",
       "      <td>-0.471347</td>\n",
       "      <td>3.0</td>\n",
       "      <td>3.0</td>\n",
       "      <td>2.0</td>\n",
       "      <td>0.0</td>\n",
       "      <td>-1.591951</td>\n",
       "      <td>...</td>\n",
       "      <td>0.0</td>\n",
       "      <td>2.0</td>\n",
       "      <td>4.073104</td>\n",
       "      <td>0.631251</td>\n",
       "      <td>1</td>\n",
       "      <td>0</td>\n",
       "      <td>0</td>\n",
       "      <td>4.503862</td>\n",
       "      <td>0</td>\n",
       "      <td>0</td>\n",
       "    </tr>\n",
       "  </tbody>\n",
       "</table>\n",
       "<p>5 rows × 33 columns</p>\n",
       "</div>"
      ],
      "text/plain": [
       "        Age  BusinessTravel  DailyRate  Department  DistanceFromHome  \\\n",
       "0 -0.009422             1.0  -0.781469         1.0          1.963961   \n",
       "1 -0.125473             2.0   0.086028         2.0         -0.086825   \n",
       "2 -0.473625             2.0  -0.460872         2.0          2.220309   \n",
       "3  0.222680             2.0   1.613576         1.0         -0.855869   \n",
       "4  1.615289             2.0   0.344660         1.0         -0.471347   \n",
       "\n",
       "   Education  EducationField  EnvironmentSatisfaction  Gender  HourlyRate  \\\n",
       "0        2.0             3.0                      4.0     1.0   -1.334933   \n",
       "1        2.0             4.0                      1.0     1.0   -1.129318   \n",
       "2        2.0             2.0                      3.0     1.0    0.618407   \n",
       "3        2.0             3.0                      3.0     0.0   -1.437740   \n",
       "4        3.0             3.0                      2.0     0.0   -1.591951   \n",
       "\n",
       "   ...  TrainingTimesLastYear  WorkLifeBalance  YearsAtCompany  \\\n",
       "0  ...                    2.0              2.0        0.525264   \n",
       "1  ...                    3.0              2.0       -0.488405   \n",
       "2  ...                    3.0              2.0       -0.657350   \n",
       "3  ...                    1.0              0.0       -0.150516   \n",
       "4  ...                    0.0              2.0        4.073104   \n",
       "\n",
       "   YearsSinceLastPromotion  Attrition  Age_risk  YearsAtCo_risk  \\\n",
       "0                 1.586671          0         0               0   \n",
       "1                -0.642642          0         0               0   \n",
       "2                -0.324168          0         1               1   \n",
       "3                -0.642642          0         0               0   \n",
       "4                 0.631251          1         0               0   \n",
       "\n",
       "   AverageTenure  JobHopper  feature_1  \n",
       "0       0.698238          0          1  \n",
       "1      -0.389082          0          1  \n",
       "2      -0.389082          0          1  \n",
       "3      -0.207862          0          0  \n",
       "4       4.503862          0          0  \n",
       "\n",
       "[5 rows x 33 columns]"
      ]
     },
     "execution_count": 18,
     "metadata": {},
     "output_type": "execute_result"
    }
   ],
   "source": [
    "df.head()"
   ]
  },
  {
   "cell_type": "code",
   "execution_count": 19,
   "id": "e57878aa",
   "metadata": {},
   "outputs": [
    {
     "name": "stdout",
     "output_type": "stream",
     "text": [
      "\"Age\",\n",
      "\"BusinessTravel\",\n",
      "\"DailyRate\",\n",
      "\"Department\",\n",
      "\"DistanceFromHome\",\n",
      "\"Education\",\n",
      "\"EducationField\",\n",
      "\"EnvironmentSatisfaction\",\n",
      "\"Gender\",\n",
      "\"HourlyRate\",\n",
      "\"JobInvolvement\",\n",
      "\"JobLevel\",\n",
      "\"JobRole\",\n",
      "\"JobSatisfaction\",\n",
      "\"MaritalStatus\",\n",
      "\"MonthlyRate\",\n",
      "\"NumCompaniesWorked\",\n",
      "\"OverTime\",\n",
      "\"PercentSalaryHike\",\n",
      "\"PerformanceRating\",\n",
      "\"RelationshipSatisfaction\",\n",
      "\"StockOptionLevel\",\n",
      "\"TotalWorkingYears\",\n",
      "\"TrainingTimesLastYear\",\n",
      "\"WorkLifeBalance\",\n",
      "\"YearsAtCompany\",\n",
      "\"YearsSinceLastPromotion\",\n",
      "\"Attrition\",\n",
      "\"Age_risk\",\n",
      "\"YearsAtCo_risk\",\n",
      "\"AverageTenure\",\n",
      "\"JobHopper\",\n",
      "\"feature_1\",\n"
     ]
    }
   ],
   "source": [
    "for cols in df.columns:\n",
    "    print('\"'+ cols + '\",')"
   ]
  },
  {
   "cell_type": "markdown",
   "id": "f1dd7778",
   "metadata": {},
   "source": [
    "# Split Data"
   ]
  },
  {
   "cell_type": "code",
   "execution_count": 20,
   "id": "52441284",
   "metadata": {
    "id": "52441284"
   },
   "outputs": [],
   "source": [
    "X = df.drop(columns=['Attrition'], axis=1)\n",
    "y = df['Attrition']\n",
    "\n",
    "X_train, X_test, y_train, y_test = train_test_split(X, y, test_size=0.2, random_state=42)"
   ]
  },
  {
   "cell_type": "code",
   "execution_count": 21,
   "id": "499b9c04",
   "metadata": {},
   "outputs": [],
   "source": [
    "# import imblearn\n",
    "# from collections import Counter\n",
    "# from sklearn.datasets import make_classification\n",
    "# from imblearn.over_sampling import RandomOverSampler\n",
    "\n",
    "# # perform random undersampling\n",
    "# ran_ov_sam = RandomOverSampler(random_state=42)\n",
    "# X_train, y_train = ran_ov_sam.fit_resample(X_train, y_train)\n",
    "\n",
    "# # print the class distribution after undersampling\n",
    "# print('Resampled class distribution:', Counter(y_train))"
   ]
  },
  {
   "cell_type": "code",
   "execution_count": 22,
   "id": "53a4df12",
   "metadata": {},
   "outputs": [
    {
     "data": {
      "text/html": [
       "<div>\n",
       "<style scoped>\n",
       "    .dataframe tbody tr th:only-of-type {\n",
       "        vertical-align: middle;\n",
       "    }\n",
       "\n",
       "    .dataframe tbody tr th {\n",
       "        vertical-align: top;\n",
       "    }\n",
       "\n",
       "    .dataframe thead th {\n",
       "        text-align: right;\n",
       "    }\n",
       "</style>\n",
       "<table border=\"1\" class=\"dataframe\">\n",
       "  <thead>\n",
       "    <tr style=\"text-align: right;\">\n",
       "      <th></th>\n",
       "      <th>Age</th>\n",
       "      <th>BusinessTravel</th>\n",
       "      <th>DailyRate</th>\n",
       "      <th>Department</th>\n",
       "      <th>DistanceFromHome</th>\n",
       "      <th>Education</th>\n",
       "      <th>EducationField</th>\n",
       "      <th>EnvironmentSatisfaction</th>\n",
       "      <th>Gender</th>\n",
       "      <th>HourlyRate</th>\n",
       "      <th>...</th>\n",
       "      <th>TotalWorkingYears</th>\n",
       "      <th>TrainingTimesLastYear</th>\n",
       "      <th>WorkLifeBalance</th>\n",
       "      <th>YearsAtCompany</th>\n",
       "      <th>YearsSinceLastPromotion</th>\n",
       "      <th>Age_risk</th>\n",
       "      <th>YearsAtCo_risk</th>\n",
       "      <th>AverageTenure</th>\n",
       "      <th>JobHopper</th>\n",
       "      <th>feature_1</th>\n",
       "    </tr>\n",
       "  </thead>\n",
       "  <tbody>\n",
       "    <tr>\n",
       "      <th>1025</th>\n",
       "      <td>-0.125473</td>\n",
       "      <td>2.0</td>\n",
       "      <td>0.164156</td>\n",
       "      <td>2.0</td>\n",
       "      <td>-0.214999</td>\n",
       "      <td>1.0</td>\n",
       "      <td>2.0</td>\n",
       "      <td>4.0</td>\n",
       "      <td>1.0</td>\n",
       "      <td>-0.306859</td>\n",
       "      <td>...</td>\n",
       "      <td>-0.096527</td>\n",
       "      <td>5.0</td>\n",
       "      <td>1.0</td>\n",
       "      <td>0.525264</td>\n",
       "      <td>1.586671</td>\n",
       "      <td>0</td>\n",
       "      <td>0</td>\n",
       "      <td>0.698238</td>\n",
       "      <td>0</td>\n",
       "      <td>1</td>\n",
       "    </tr>\n",
       "    <tr>\n",
       "      <th>730</th>\n",
       "      <td>0.106629</td>\n",
       "      <td>2.0</td>\n",
       "      <td>-0.622517</td>\n",
       "      <td>2.0</td>\n",
       "      <td>-0.727695</td>\n",
       "      <td>2.0</td>\n",
       "      <td>1.0</td>\n",
       "      <td>1.0</td>\n",
       "      <td>1.0</td>\n",
       "      <td>-1.077914</td>\n",
       "      <td>...</td>\n",
       "      <td>-0.096527</td>\n",
       "      <td>3.0</td>\n",
       "      <td>2.0</td>\n",
       "      <td>0.525264</td>\n",
       "      <td>-0.642642</td>\n",
       "      <td>0</td>\n",
       "      <td>0</td>\n",
       "      <td>0.698238</td>\n",
       "      <td>0</td>\n",
       "      <td>1</td>\n",
       "    </tr>\n",
       "    <tr>\n",
       "      <th>450</th>\n",
       "      <td>0.338730</td>\n",
       "      <td>2.0</td>\n",
       "      <td>-1.236770</td>\n",
       "      <td>1.0</td>\n",
       "      <td>-0.214999</td>\n",
       "      <td>3.0</td>\n",
       "      <td>3.0</td>\n",
       "      <td>1.0</td>\n",
       "      <td>1.0</td>\n",
       "      <td>-0.409667</td>\n",
       "      <td>...</td>\n",
       "      <td>-0.510254</td>\n",
       "      <td>3.0</td>\n",
       "      <td>2.0</td>\n",
       "      <td>-0.995239</td>\n",
       "      <td>-0.642642</td>\n",
       "      <td>0</td>\n",
       "      <td>1</td>\n",
       "      <td>-0.932743</td>\n",
       "      <td>1</td>\n",
       "      <td>0</td>\n",
       "    </tr>\n",
       "    <tr>\n",
       "      <th>918</th>\n",
       "      <td>0.686883</td>\n",
       "      <td>2.0</td>\n",
       "      <td>-0.649458</td>\n",
       "      <td>1.0</td>\n",
       "      <td>-0.984043</td>\n",
       "      <td>2.0</td>\n",
       "      <td>1.0</td>\n",
       "      <td>2.0</td>\n",
       "      <td>1.0</td>\n",
       "      <td>0.207177</td>\n",
       "      <td>...</td>\n",
       "      <td>-0.372345</td>\n",
       "      <td>3.0</td>\n",
       "      <td>2.0</td>\n",
       "      <td>-0.657350</td>\n",
       "      <td>-0.324168</td>\n",
       "      <td>0</td>\n",
       "      <td>1</td>\n",
       "      <td>-0.751523</td>\n",
       "      <td>0</td>\n",
       "      <td>0</td>\n",
       "    </tr>\n",
       "    <tr>\n",
       "      <th>439</th>\n",
       "      <td>-0.937828</td>\n",
       "      <td>2.0</td>\n",
       "      <td>1.115169</td>\n",
       "      <td>1.0</td>\n",
       "      <td>1.963961</td>\n",
       "      <td>2.0</td>\n",
       "      <td>3.0</td>\n",
       "      <td>3.0</td>\n",
       "      <td>1.0</td>\n",
       "      <td>-0.975107</td>\n",
       "      <td>...</td>\n",
       "      <td>-0.648163</td>\n",
       "      <td>3.0</td>\n",
       "      <td>2.0</td>\n",
       "      <td>-0.150516</td>\n",
       "      <td>-0.324168</td>\n",
       "      <td>1</td>\n",
       "      <td>0</td>\n",
       "      <td>-0.026642</td>\n",
       "      <td>0</td>\n",
       "      <td>1</td>\n",
       "    </tr>\n",
       "    <tr>\n",
       "      <th>...</th>\n",
       "      <td>...</td>\n",
       "      <td>...</td>\n",
       "      <td>...</td>\n",
       "      <td>...</td>\n",
       "      <td>...</td>\n",
       "      <td>...</td>\n",
       "      <td>...</td>\n",
       "      <td>...</td>\n",
       "      <td>...</td>\n",
       "      <td>...</td>\n",
       "      <td>...</td>\n",
       "      <td>...</td>\n",
       "      <td>...</td>\n",
       "      <td>...</td>\n",
       "      <td>...</td>\n",
       "      <td>...</td>\n",
       "      <td>...</td>\n",
       "      <td>...</td>\n",
       "      <td>...</td>\n",
       "      <td>...</td>\n",
       "      <td>...</td>\n",
       "    </tr>\n",
       "    <tr>\n",
       "      <th>958</th>\n",
       "      <td>-0.357574</td>\n",
       "      <td>2.0</td>\n",
       "      <td>-0.778775</td>\n",
       "      <td>0.0</td>\n",
       "      <td>-0.471347</td>\n",
       "      <td>1.0</td>\n",
       "      <td>1.0</td>\n",
       "      <td>2.0</td>\n",
       "      <td>0.0</td>\n",
       "      <td>-0.306859</td>\n",
       "      <td>...</td>\n",
       "      <td>-0.096527</td>\n",
       "      <td>2.0</td>\n",
       "      <td>2.0</td>\n",
       "      <td>0.525264</td>\n",
       "      <td>1.905145</td>\n",
       "      <td>1</td>\n",
       "      <td>0</td>\n",
       "      <td>0.698238</td>\n",
       "      <td>0</td>\n",
       "      <td>0</td>\n",
       "    </tr>\n",
       "    <tr>\n",
       "      <th>559</th>\n",
       "      <td>-0.589676</td>\n",
       "      <td>2.0</td>\n",
       "      <td>1.379190</td>\n",
       "      <td>2.0</td>\n",
       "      <td>2.604831</td>\n",
       "      <td>2.0</td>\n",
       "      <td>4.0</td>\n",
       "      <td>3.0</td>\n",
       "      <td>0.0</td>\n",
       "      <td>1.235251</td>\n",
       "      <td>...</td>\n",
       "      <td>1.696293</td>\n",
       "      <td>2.0</td>\n",
       "      <td>2.0</td>\n",
       "      <td>-0.657350</td>\n",
       "      <td>-0.324168</td>\n",
       "      <td>1</td>\n",
       "      <td>1</td>\n",
       "      <td>0.275391</td>\n",
       "      <td>0</td>\n",
       "      <td>1</td>\n",
       "    </tr>\n",
       "    <tr>\n",
       "      <th>461</th>\n",
       "      <td>0.338730</td>\n",
       "      <td>1.0</td>\n",
       "      <td>0.393154</td>\n",
       "      <td>1.0</td>\n",
       "      <td>-0.343173</td>\n",
       "      <td>4.0</td>\n",
       "      <td>3.0</td>\n",
       "      <td>2.0</td>\n",
       "      <td>1.0</td>\n",
       "      <td>1.183847</td>\n",
       "      <td>...</td>\n",
       "      <td>-0.648163</td>\n",
       "      <td>2.0</td>\n",
       "      <td>1.0</td>\n",
       "      <td>-0.319460</td>\n",
       "      <td>-0.642642</td>\n",
       "      <td>0</td>\n",
       "      <td>0</td>\n",
       "      <td>-0.026642</td>\n",
       "      <td>0</td>\n",
       "      <td>1</td>\n",
       "    </tr>\n",
       "    <tr>\n",
       "      <th>1582</th>\n",
       "      <td>-0.009422</td>\n",
       "      <td>1.0</td>\n",
       "      <td>0.681421</td>\n",
       "      <td>2.0</td>\n",
       "      <td>0.169524</td>\n",
       "      <td>2.0</td>\n",
       "      <td>1.0</td>\n",
       "      <td>3.0</td>\n",
       "      <td>1.0</td>\n",
       "      <td>0.567003</td>\n",
       "      <td>...</td>\n",
       "      <td>-0.096527</td>\n",
       "      <td>3.0</td>\n",
       "      <td>2.0</td>\n",
       "      <td>0.356319</td>\n",
       "      <td>1.905145</td>\n",
       "      <td>0</td>\n",
       "      <td>0</td>\n",
       "      <td>0.698238</td>\n",
       "      <td>0</td>\n",
       "      <td>0</td>\n",
       "    </tr>\n",
       "    <tr>\n",
       "      <th>157</th>\n",
       "      <td>-0.821777</td>\n",
       "      <td>1.0</td>\n",
       "      <td>-1.587001</td>\n",
       "      <td>1.0</td>\n",
       "      <td>-0.086825</td>\n",
       "      <td>1.0</td>\n",
       "      <td>3.0</td>\n",
       "      <td>1.0</td>\n",
       "      <td>1.0</td>\n",
       "      <td>-0.101245</td>\n",
       "      <td>...</td>\n",
       "      <td>-0.923982</td>\n",
       "      <td>3.0</td>\n",
       "      <td>2.0</td>\n",
       "      <td>-0.826295</td>\n",
       "      <td>-0.005695</td>\n",
       "      <td>1</td>\n",
       "      <td>1</td>\n",
       "      <td>-0.993150</td>\n",
       "      <td>1</td>\n",
       "      <td>0</td>\n",
       "    </tr>\n",
       "  </tbody>\n",
       "</table>\n",
       "<p>560 rows × 32 columns</p>\n",
       "</div>"
      ],
      "text/plain": [
       "           Age  BusinessTravel  DailyRate  Department  DistanceFromHome  \\\n",
       "1025 -0.125473             2.0   0.164156         2.0         -0.214999   \n",
       "730   0.106629             2.0  -0.622517         2.0         -0.727695   \n",
       "450   0.338730             2.0  -1.236770         1.0         -0.214999   \n",
       "918   0.686883             2.0  -0.649458         1.0         -0.984043   \n",
       "439  -0.937828             2.0   1.115169         1.0          1.963961   \n",
       "...        ...             ...        ...         ...               ...   \n",
       "958  -0.357574             2.0  -0.778775         0.0         -0.471347   \n",
       "559  -0.589676             2.0   1.379190         2.0          2.604831   \n",
       "461   0.338730             1.0   0.393154         1.0         -0.343173   \n",
       "1582 -0.009422             1.0   0.681421         2.0          0.169524   \n",
       "157  -0.821777             1.0  -1.587001         1.0         -0.086825   \n",
       "\n",
       "      Education  EducationField  EnvironmentSatisfaction  Gender  HourlyRate  \\\n",
       "1025        1.0             2.0                      4.0     1.0   -0.306859   \n",
       "730         2.0             1.0                      1.0     1.0   -1.077914   \n",
       "450         3.0             3.0                      1.0     1.0   -0.409667   \n",
       "918         2.0             1.0                      2.0     1.0    0.207177   \n",
       "439         2.0             3.0                      3.0     1.0   -0.975107   \n",
       "...         ...             ...                      ...     ...         ...   \n",
       "958         1.0             1.0                      2.0     0.0   -0.306859   \n",
       "559         2.0             4.0                      3.0     0.0    1.235251   \n",
       "461         4.0             3.0                      2.0     1.0    1.183847   \n",
       "1582        2.0             1.0                      3.0     1.0    0.567003   \n",
       "157         1.0             3.0                      1.0     1.0   -0.101245   \n",
       "\n",
       "      ...  TotalWorkingYears  TrainingTimesLastYear  WorkLifeBalance  \\\n",
       "1025  ...          -0.096527                    5.0              1.0   \n",
       "730   ...          -0.096527                    3.0              2.0   \n",
       "450   ...          -0.510254                    3.0              2.0   \n",
       "918   ...          -0.372345                    3.0              2.0   \n",
       "439   ...          -0.648163                    3.0              2.0   \n",
       "...   ...                ...                    ...              ...   \n",
       "958   ...          -0.096527                    2.0              2.0   \n",
       "559   ...           1.696293                    2.0              2.0   \n",
       "461   ...          -0.648163                    2.0              1.0   \n",
       "1582  ...          -0.096527                    3.0              2.0   \n",
       "157   ...          -0.923982                    3.0              2.0   \n",
       "\n",
       "      YearsAtCompany  YearsSinceLastPromotion  Age_risk  YearsAtCo_risk  \\\n",
       "1025        0.525264                 1.586671         0               0   \n",
       "730         0.525264                -0.642642         0               0   \n",
       "450        -0.995239                -0.642642         0               1   \n",
       "918        -0.657350                -0.324168         0               1   \n",
       "439        -0.150516                -0.324168         1               0   \n",
       "...              ...                      ...       ...             ...   \n",
       "958         0.525264                 1.905145         1               0   \n",
       "559        -0.657350                -0.324168         1               1   \n",
       "461        -0.319460                -0.642642         0               0   \n",
       "1582        0.356319                 1.905145         0               0   \n",
       "157        -0.826295                -0.005695         1               1   \n",
       "\n",
       "      AverageTenure  JobHopper  feature_1  \n",
       "1025       0.698238          0          1  \n",
       "730        0.698238          0          1  \n",
       "450       -0.932743          1          0  \n",
       "918       -0.751523          0          0  \n",
       "439       -0.026642          0          1  \n",
       "...             ...        ...        ...  \n",
       "958        0.698238          0          0  \n",
       "559        0.275391          0          1  \n",
       "461       -0.026642          0          1  \n",
       "1582       0.698238          0          0  \n",
       "157       -0.993150          1          0  \n",
       "\n",
       "[560 rows x 32 columns]"
      ]
     },
     "execution_count": 22,
     "metadata": {},
     "output_type": "execute_result"
    }
   ],
   "source": [
    "X_test"
   ]
  },
  {
   "cell_type": "markdown",
   "id": "CMX3eqSrOxQG",
   "metadata": {
    "id": "CMX3eqSrOxQG"
   },
   "source": [
    "# Scale Features"
   ]
  },
  {
   "cell_type": "code",
   "execution_count": 23,
   "id": "05154831",
   "metadata": {
    "id": "05154831",
    "outputId": "08b2bed1-d6cb-45b3-8985-7b7d29439cbc"
   },
   "outputs": [
    {
     "data": {
      "text/plain": [
       "284     0\n",
       "1465    0\n",
       "879     0\n",
       "238     0\n",
       "1641    0\n",
       "       ..\n",
       "1638    1\n",
       "1095    0\n",
       "1130    0\n",
       "1294    0\n",
       "860     0\n",
       "Name: Attrition, Length: 2236, dtype: int32"
      ]
     },
     "execution_count": 23,
     "metadata": {},
     "output_type": "execute_result"
    }
   ],
   "source": [
    "y_train"
   ]
  },
  {
   "cell_type": "code",
   "execution_count": 24,
   "id": "9cf0c9f2",
   "metadata": {
    "id": "9cf0c9f2"
   },
   "outputs": [],
   "source": [
    "X_train = X_train.to_numpy()\n",
    "y_train = y_train.to_numpy()"
   ]
  },
  {
   "cell_type": "code",
   "execution_count": 25,
   "id": "v0uRHPQISbwA",
   "metadata": {
    "colab": {
     "base_uri": "https://localhost:8080/"
    },
    "id": "v0uRHPQISbwA",
    "outputId": "8c3213a3-5b33-4d38-e25d-399bbde1a703"
   },
   "outputs": [
    {
     "data": {
      "text/plain": [
       "array([[ 0.68688277,  2.        , -0.60635294, ..., -0.79682786,\n",
       "         1.        ,  0.        ],\n",
       "       [-0.12547263,  2.        , -0.16182837, ...,  0.51701833,\n",
       "         0.        ,  0.        ],\n",
       "       [-0.00942186,  2.        , -0.30730914, ..., -0.78776686,\n",
       "         1.        ,  1.        ],\n",
       "       ...,\n",
       "       [-0.12547263,  2.        , -0.82188   , ...,  0.6982385 ,\n",
       "         0.        ,  0.        ],\n",
       "       [-0.58967573,  2.        ,  0.51977596, ..., -0.38908249,\n",
       "         0.        ,  1.        ],\n",
       "       [-0.00942186,  0.        , -0.09178208, ...,  0.6982385 ,\n",
       "         0.        ,  1.        ]])"
      ]
     },
     "execution_count": 25,
     "metadata": {},
     "output_type": "execute_result"
    }
   ],
   "source": [
    "X_train"
   ]
  },
  {
   "cell_type": "code",
   "execution_count": 26,
   "id": "ilhQAhPUSk2P",
   "metadata": {
    "colab": {
     "base_uri": "https://localhost:8080/"
    },
    "id": "ilhQAhPUSk2P",
    "outputId": "e08f5b97-4180-40b7-ff98-ae832f7b8c32"
   },
   "outputs": [
    {
     "data": {
      "text/plain": [
       "array([0, 0, 0, ..., 0, 0, 0])"
      ]
     },
     "execution_count": 26,
     "metadata": {},
     "output_type": "execute_result"
    }
   ],
   "source": [
    "y_train"
   ]
  },
  {
   "cell_type": "code",
   "execution_count": 27,
   "id": "A957ReOicxd5",
   "metadata": {
    "id": "A957ReOicxd5",
    "outputId": "0d8077ff-887c-4e33-c883-a7eb3fbefda7"
   },
   "outputs": [
    {
     "name": "stdout",
     "output_type": "stream",
     "text": [
      "Train shape:  (2236, 32)\n",
      "Test shape :  (2236,)\n"
     ]
    }
   ],
   "source": [
    "print('Train shape: ', X_train.shape)\n",
    "print('Test shape : ', y_train.shape)"
   ]
  },
  {
   "cell_type": "markdown",
   "id": "O1N7JoUUPfL7",
   "metadata": {
    "id": "O1N7JoUUPfL7"
   },
   "source": [
    "# Cross-Validation"
   ]
  },
  {
   "cell_type": "code",
   "execution_count": 28,
   "id": "qAkNkE9WPhIF",
   "metadata": {
    "id": "qAkNkE9WPhIF"
   },
   "outputs": [],
   "source": [
    "def cross_validate(X, y, model):\n",
    "    skf = StratifiedKFold(n_splits=10, shuffle=True, random_state=42)\n",
    "    all_scores = []\n",
    "    \n",
    "    for fold_id, (train_idx, val_idx) in enumerate(skf.split(X, y)):\n",
    "        X_tr, X_val = X[train_idx], X[val_idx]\n",
    "        y_tr, y_val = y[train_idx], y[val_idx]\n",
    "        \n",
    "        model.fit(X_tr, y_tr)\n",
    "        \n",
    "        y_pred = model.predict_proba(X_val)[:, 1]\n",
    "        \n",
    "        auc = roc_auc_score(y_val, y_pred)\n",
    "        \n",
    "        print(f\"Fold {fold_id} \\t auc: {auc}\")\n",
    "        \n",
    "        all_scores.append(auc)\n",
    "    \n",
    "    avg_auc = np.mean(all_scores)\n",
    "    \n",
    "    print(f\"Avg AUC: {avg_auc}\")"
   ]
  },
  {
   "cell_type": "markdown",
   "id": "_O8jFzcXrxlS",
   "metadata": {
    "id": "_O8jFzcXrxlS"
   },
   "source": [
    "# **Hyperparameter Optimization**"
   ]
  },
  {
   "cell_type": "markdown",
   "id": "8mVczNPZ_UzQ",
   "metadata": {
    "id": "8mVczNPZ_UzQ"
   },
   "source": [
    "# XGBoost Classifier"
   ]
  },
  {
   "cell_type": "code",
   "execution_count": 29,
   "id": "-kkPlNH3TTDr",
   "metadata": {
    "colab": {
     "base_uri": "https://localhost:8080/",
     "height": 449
    },
    "id": "-kkPlNH3TTDr",
    "outputId": "db0303bc-642d-4529-ce6e-a33de8b36e5d"
   },
   "outputs": [
    {
     "name": "stdout",
     "output_type": "stream",
     "text": [
      "Fold 0 \t auc: 0.8347393467445382\n",
      "Fold 1 \t auc: 0.8503136491455764\n",
      "Fold 2 \t auc: 0.8788665368808133\n",
      "Fold 3 \t auc: 0.8602638979017954\n",
      "Fold 4 \t auc: 0.890114644170452\n",
      "Fold 5 \t auc: 0.9119619294830197\n",
      "Fold 6 \t auc: 0.9314789687924017\n",
      "Fold 7 \t auc: 0.8790140208050656\n",
      "Fold 8 \t auc: 0.9170058796924468\n",
      "Fold 9 \t auc: 0.8824061510628675\n",
      "Avg AUC: 0.8836165024678977\n"
     ]
    },
    {
     "data": {
      "text/plain": [
       "XGBClassifier(base_score=None, booster=None, callbacks=None,\n",
       "              colsample_bylevel=None, colsample_bynode=None,\n",
       "              colsample_bytree=0.3, early_stopping_rounds=None,\n",
       "              enable_categorical=False, eval_metric=None, feature_types=None,\n",
       "              gamma=None, gpu_id=None, grow_policy=None, importance_type=None,\n",
       "              interaction_constraints=None, learning_rate=0.1, max_bin=None,\n",
       "              max_cat_threshold=None, max_cat_to_onehot=None,\n",
       "              max_delta_step=None, max_depth=3, max_leaves=None,\n",
       "              min_child_weight=4, missing=nan, monotone_constraints=None,\n",
       "              n_estimators=150, n_jobs=None, num_parallel_tree=None,\n",
       "              predictor=None, random_state=None, ...)"
      ]
     },
     "execution_count": 29,
     "metadata": {},
     "output_type": "execute_result"
    }
   ],
   "source": [
    "from sklearn.metrics import recall_score\n",
    "\n",
    "# random params values \n",
    "xgb_params = {'n_estimators': 150,\n",
    "                 'max_depth': 3,\n",
    "                 'learning_rate': 0.1,\n",
    "                 'min_child_weight': 4,\n",
    "                 'subsample': 0.7,\n",
    "                 'colsample_bytree': 0.3\n",
    "             }\n",
    "\n",
    "\n",
    "xgb_clf = xgb.XGBClassifier(**xgb_params)\n",
    "cross_validate(X_train, y_train, xgb_clf)\n",
    "xgb_clf.fit(X_train, y_train, verbose=0)"
   ]
  },
  {
   "cell_type": "code",
   "execution_count": 30,
   "id": "K2218jfAe5pQ",
   "metadata": {
    "colab": {
     "base_uri": "https://localhost:8080/",
     "height": 633
    },
    "id": "K2218jfAe5pQ",
    "outputId": "15ee6d46-1443-4915-ac50-ae35d27936df"
   },
   "outputs": [
    {
     "name": "stderr",
     "output_type": "stream",
     "text": [
      "\u001b[32m[I 2023-05-07 10:56:25,706]\u001b[0m A new study created in memory with name: no-name-cfe94f95-a94c-4f88-af8e-67742a6aee17\u001b[0m\n",
      "\u001b[32m[I 2023-05-07 10:56:27,836]\u001b[0m Trial 0 finished with value: 0.8684728531256759 and parameters: {'n_estimators': 403, 'max_depth': 5, 'learning_rate': 0.09573388076085863, 'min_child_weight': 6, 'subsample': 0.33720107982559144, 'colsample_bytree': 0.11531414918397109}. Best is trial 0 with value: 0.8684728531256759.\u001b[0m\n",
      "\u001b[32m[I 2023-05-07 10:56:28,608]\u001b[0m Trial 1 finished with value: 0.8696802548522211 and parameters: {'n_estimators': 94, 'max_depth': 4, 'learning_rate': 0.02818327431771408, 'min_child_weight': 1, 'subsample': 0.4370181312620214, 'colsample_bytree': 0.4487825808721303}. Best is trial 1 with value: 0.8696802548522211.\u001b[0m\n",
      "\u001b[32m[I 2023-05-07 10:56:31,749]\u001b[0m Trial 2 finished with value: 0.8701276227557863 and parameters: {'n_estimators': 384, 'max_depth': 10, 'learning_rate': 0.03760393374337876, 'min_child_weight': 2, 'subsample': 0.2324076093787441, 'colsample_bytree': 0.872059947402889}. Best is trial 2 with value: 0.8701276227557863.\u001b[0m\n",
      "\u001b[32m[I 2023-05-07 10:56:32,505]\u001b[0m Trial 3 finished with value: 0.8557435156234637 and parameters: {'n_estimators': 60, 'max_depth': 7, 'learning_rate': 0.01961789594646828, 'min_child_weight': 7, 'subsample': 0.8957006177153021, 'colsample_bytree': 0.9594870121758039}. Best is trial 2 with value: 0.8701276227557863.\u001b[0m\n",
      "\u001b[32m[I 2023-05-07 10:56:35,387]\u001b[0m Trial 4 finished with value: 0.8678317896682595 and parameters: {'n_estimators': 475, 'max_depth': 3, 'learning_rate': 0.04933997121089672, 'min_child_weight': 10, 'subsample': 0.7173316879798141, 'colsample_bytree': 0.685523302261991}. Best is trial 2 with value: 0.8701276227557863.\u001b[0m\n",
      "\u001b[32m[I 2023-05-07 10:56:36,041]\u001b[0m Trial 5 finished with value: 0.8580555719426582 and parameters: {'n_estimators': 136, 'max_depth': 6, 'learning_rate': 0.08053975882642272, 'min_child_weight': 8, 'subsample': 0.17062062411721643, 'colsample_bytree': 0.30629448043825386}. Best is trial 2 with value: 0.8701276227557863.\u001b[0m\n",
      "\u001b[32m[I 2023-05-07 10:56:37,926]\u001b[0m Trial 6 finished with value: 0.8669262383733505 and parameters: {'n_estimators': 145, 'max_depth': 9, 'learning_rate': 0.013221745947783324, 'min_child_weight': 2, 'subsample': 0.7518033332891324, 'colsample_bytree': 0.5783512652807009}. Best is trial 2 with value: 0.8701276227557863.\u001b[0m\n",
      "\u001b[32m[I 2023-05-07 10:56:41,296]\u001b[0m Trial 7 finished with value: 0.867724618016636 and parameters: {'n_estimators': 338, 'max_depth': 10, 'learning_rate': 0.08963375930745202, 'min_child_weight': 3, 'subsample': 0.9635210325511311, 'colsample_bytree': 0.5054269567939107}. Best is trial 2 with value: 0.8701276227557863.\u001b[0m\n",
      "\u001b[32m[I 2023-05-07 10:56:42,400]\u001b[0m Trial 8 finished with value: 0.8712809470434388 and parameters: {'n_estimators': 93, 'max_depth': 7, 'learning_rate': 0.06134325550175065, 'min_child_weight': 4, 'subsample': 0.6737357892977806, 'colsample_bytree': 0.9854377121754944}. Best is trial 8 with value: 0.8712809470434388.\u001b[0m\n",
      "\u001b[32m[I 2023-05-07 10:56:45,504]\u001b[0m Trial 9 finished with value: 0.8732159361296284 and parameters: {'n_estimators': 477, 'max_depth': 3, 'learning_rate': 0.0654363375130975, 'min_child_weight': 3, 'subsample': 0.8813174520068222, 'colsample_bytree': 0.8244174249657894}. Best is trial 9 with value: 0.8732159361296284.\u001b[0m\n"
     ]
    },
    {
     "name": "stdout",
     "output_type": "stream",
     "text": [
      "Best trial:\n",
      "  Avg_roc_auc_score: 0.8732159361296284\n",
      "  Params: \n",
      "    n_estimators: 477\n",
      "    max_depth: 3\n",
      "    learning_rate: 0.0654363375130975\n",
      "    min_child_weight: 3\n",
      "    subsample: 0.8813174520068222\n",
      "    colsample_bytree: 0.8244174249657894\n"
     ]
    },
    {
     "data": {
      "text/plain": [
       "XGBClassifier(base_score=None, booster=None, callbacks=None,\n",
       "              colsample_bylevel=None, colsample_bynode=None,\n",
       "              colsample_bytree=0.8244174249657894, early_stopping_rounds=None,\n",
       "              enable_categorical=False, eval_metric=None, feature_types=None,\n",
       "              gamma=None, gpu_id=None, grow_policy=None, importance_type=None,\n",
       "              interaction_constraints=None, learning_rate=0.0654363375130975,\n",
       "              max_bin=None, max_cat_threshold=None, max_cat_to_onehot=None,\n",
       "              max_delta_step=None, max_depth=3, max_leaves=None,\n",
       "              min_child_weight=3, missing=nan, monotone_constraints=None,\n",
       "              n_estimators=477, n_jobs=None, num_parallel_tree=None,\n",
       "              predictor=None, random_state=None, ...)"
      ]
     },
     "execution_count": 30,
     "metadata": {},
     "output_type": "execute_result"
    }
   ],
   "source": [
    "def objective(trial):\n",
    "    xgb_params = {\n",
    "        \"n_estimators\": trial.suggest_int(\"n_estimators\", 50, 500),\n",
    "        \"max_depth\": trial.suggest_int(\"max_depth\", 2, 10),\n",
    "        \"learning_rate\": trial.suggest_float(\"learning_rate\", 0.001, 0.1),\n",
    "        \"min_child_weight\": trial.suggest_int(\"min_child_weight\", 1, 10),\n",
    "        \"subsample\": trial.suggest_float(\"subsample\", 0.1, 1.0),\n",
    "        \"colsample_bytree\": trial.suggest_float(\"colsample_bytree\", 0.1, 1.0),\n",
    "    }\n",
    "\n",
    "    xgb_clf = xgb.XGBClassifier(**xgb_params)\n",
    "\n",
    "    \n",
    "    skf = StratifiedKFold(n_splits=10, shuffle=True, random_state=42)\n",
    "    all_scores = []\n",
    "    all_recalls = []\n",
    "\n",
    "    for fold_id, (train_idx, val_idx) in enumerate(skf.split(X_train, y_train)):\n",
    "        X_tr, X_val = X_train[train_idx], X_train[val_idx]\n",
    "        y_tr, y_val = y_train[train_idx], y_train[val_idx]\n",
    "\n",
    "        xgb_clf.fit(X_tr, y_tr)\n",
    "\n",
    "        y_pred = xgb_clf.predict_proba(X_val)[:, 1]\n",
    "        #y_pred = (model.predict_proba(X_val)[:, 1] > 0.5).astype(int)\n",
    "        #y_pred = (model.predict_proba(X_val) > 0.5).astype(int)\n",
    "\n",
    "        auc = roc_auc_score(y_val, y_pred)\n",
    "        #recall_value = recall_score(y_val, y_pred)\n",
    "        \n",
    "        all_scores.append(auc)\n",
    "        #all_recalls.append(recall_value)\n",
    "        \n",
    "    avg_auc = np.mean(all_scores)\n",
    "    #avg_recall = np.mean(all_recalls)\n",
    "    \n",
    "    return avg_auc\n",
    "\n",
    "study = optuna.create_study(direction=\"maximize\")\n",
    "study.optimize(objective, n_trials=10)\n",
    "\n",
    "print(\"Best trial:\")\n",
    "trial = study.best_trial\n",
    "print(\"  Avg_roc_auc_score: {}\".format(trial.value))\n",
    "print(\"  Params: \")\n",
    "for key, value in trial.params.items():\n",
    "    print(\"    {}: {}\".format(key, value))\n",
    "\n",
    "best_params = trial.params\n",
    "xgb_clf = xgb.XGBClassifier(**best_params)\n",
    "xgb_clf.fit(X_train, y_train, verbose=0)"
   ]
  },
  {
   "cell_type": "code",
   "execution_count": 31,
   "id": "80da7c18",
   "metadata": {},
   "outputs": [
    {
     "name": "stdout",
     "output_type": "stream",
     "text": [
      "Accuracy_value:  0.9392857142857143\n",
      "f1_score_value:  0.5641025641025641\n",
      "recall_value:  0.44\n",
      "roc_auc_score:  0.7141176470588235\n"
     ]
    }
   ],
   "source": [
    "xgb_pred = xgb_clf.predict(X_test)\n",
    "\n",
    "print(\"Accuracy_value: \", accuracy_score(y_test, xgb_pred))\n",
    "print(\"f1_score_value: \", f1_score(y_test, xgb_pred))\n",
    "print(\"recall_value: \", recall_score(y_test, xgb_pred))\n",
    "print(\"roc_auc_score: \", roc_auc_score(y_test, xgb_pred))"
   ]
  },
  {
   "cell_type": "code",
   "execution_count": 69,
   "id": "c7ca367d",
   "metadata": {},
   "outputs": [
    {
     "data": {
      "image/png": "[encoded data removed]",
      "text/plain": [
       "<Figure size 800x600 with 1 Axes>"
      ]
     },
     "metadata": {},
     "output_type": "display_data"
    }
   ],
   "source": [
    "import matplotlib.pyplot as plt\n",
    "from sklearn.model_selection import learning_curve\n",
    "\n",
    "train_sizes, train_scores, test_scores = learning_curve(\n",
    "    estimator=xgb_clf,\n",
    "    X=X_train,\n",
    "    y=y_train,\n",
    "    cv=10,\n",
    "    scoring='roc_auc',\n",
    "    train_sizes=np.linspace(0.1, 1.0, 10),\n",
    "    n_jobs=-1\n",
    ")\n",
    "\n",
    "train_scores_mean = np.mean(train_scores, axis=1)\n",
    "train_scores_std = np.std(train_scores, axis=1)\n",
    "test_scores_mean = np.mean(test_scores, axis=1)\n",
    "test_scores_std = np.std(test_scores, axis=1)\n",
    "\n",
    "plt.figure(figsize=(8, 6))\n",
    "plt.title(\"Learning Curve(XGBoost)\")\n",
    "plt.xlabel(\"Training examples\")\n",
    "plt.ylabel(\"Score\")\n",
    "plt.grid()\n",
    "plt.fill_between(train_sizes, train_scores_mean - train_scores_std,\n",
    "                 train_scores_mean + train_scores_std, alpha=0.1,\n",
    "                 color=\"r\")\n",
    "plt.fill_between(train_sizes, test_scores_mean - test_scores_std,\n",
    "                 test_scores_mean + test_scores_std, alpha=0.1,\n",
    "                 color=\"g\")\n",
    "plt.plot(train_sizes, train_scores_mean, 'o-', color=\"r\",\n",
    "         label=\"Training score\")\n",
    "plt.plot(train_sizes, test_scores_mean, 'o-', color=\"g\",\n",
    "         label=\"Cross-validation score\")\n",
    "plt.legend(loc=\"best\")\n",
    "plt.show()"
   ]
  },
  {
   "cell_type": "code",
   "execution_count": 33,
   "id": "af8e3cac",
   "metadata": {},
   "outputs": [
    {
     "data": {
      "text/plain": [
       "['xgb_model.joblib']"
      ]
     },
     "execution_count": 33,
     "metadata": {},
     "output_type": "execute_result"
    }
   ],
   "source": [
    "from joblib import dump\n",
    "\n",
    "# Save the trained model to a file\n",
    "dump(xgb_clf, 'xgb_model.joblib')"
   ]
  },
  {
   "cell_type": "markdown",
   "id": "K0IyQAF7r0_d",
   "metadata": {
    "id": "K0IyQAF7r0_d"
   },
   "source": [
    "# LightGBM Classifier"
   ]
  },
  {
   "cell_type": "code",
   "execution_count": 34,
   "id": "2KUn1FH9rD8R",
   "metadata": {
    "colab": {
     "base_uri": "https://localhost:8080/",
     "height": 1000
    },
    "id": "2KUn1FH9rD8R",
    "outputId": "7552d903-bc6b-4e20-eb2f-0e354007c4ec",
    "scrolled": true
   },
   "outputs": [
    {
     "name": "stdout",
     "output_type": "stream",
     "text": [
      "[LightGBM] [Warning] feature_fraction is set=0.3, colsample_bytree=1.0 will be ignored. Current value: feature_fraction=0.3\n",
      "[LightGBM] [Warning] min_data_in_leaf is set=46, min_child_samples=20 will be ignored. Current value: min_data_in_leaf=46\n",
      "[LightGBM] [Warning] min_gain_to_split is set=1.42, min_split_gain=0.0 will be ignored. Current value: min_gain_to_split=1.42\n",
      "[LightGBM] [Warning] lambda_l1 is set=0.01, reg_alpha=0.0 will be ignored. Current value: lambda_l1=0.01\n",
      "[LightGBM] [Warning] bagging_fraction is set=0.45, subsample=1.0 will be ignored. Current value: bagging_fraction=0.45\n",
      "[LightGBM] [Warning] lambda_l2 is set=0.6, reg_lambda=0.0 will be ignored. Current value: lambda_l2=0.6\n",
      "[LightGBM] [Warning] num_iterations is set=274, num_rounds=274 will be ignored. Current value: num_iterations=274\n",
      "Fold 0 \t auc: 0.8386329223447977\n",
      "[LightGBM] [Warning] feature_fraction is set=0.3, colsample_bytree=1.0 will be ignored. Current value: feature_fraction=0.3\n",
      "[LightGBM] [Warning] min_data_in_leaf is set=46, min_child_samples=20 will be ignored. Current value: min_data_in_leaf=46\n",
      "[LightGBM] [Warning] min_gain_to_split is set=1.42, min_split_gain=0.0 will be ignored. Current value: min_gain_to_split=1.42\n",
      "[LightGBM] [Warning] lambda_l1 is set=0.01, reg_alpha=0.0 will be ignored. Current value: lambda_l1=0.01\n",
      "[LightGBM] [Warning] bagging_fraction is set=0.45, subsample=1.0 will be ignored. Current value: bagging_fraction=0.45\n",
      "[LightGBM] [Warning] lambda_l2 is set=0.6, reg_lambda=0.0 will be ignored. Current value: lambda_l2=0.6\n",
      "[LightGBM] [Warning] num_iterations is set=274, num_rounds=274 will be ignored. Current value: num_iterations=274\n",
      "Fold 1 \t auc: 0.8555050832792559\n",
      "[LightGBM] [Warning] feature_fraction is set=0.3, colsample_bytree=1.0 will be ignored. Current value: feature_fraction=0.3\n",
      "[LightGBM] [Warning] min_data_in_leaf is set=46, min_child_samples=20 will be ignored. Current value: min_data_in_leaf=46\n",
      "[LightGBM] [Warning] min_gain_to_split is set=1.42, min_split_gain=0.0 will be ignored. Current value: min_gain_to_split=1.42\n",
      "[LightGBM] [Warning] lambda_l1 is set=0.01, reg_alpha=0.0 will be ignored. Current value: lambda_l1=0.01\n",
      "[LightGBM] [Warning] bagging_fraction is set=0.45, subsample=1.0 will be ignored. Current value: bagging_fraction=0.45\n",
      "[LightGBM] [Warning] lambda_l2 is set=0.6, reg_lambda=0.0 will be ignored. Current value: lambda_l2=0.6\n",
      "[LightGBM] [Warning] num_iterations is set=274, num_rounds=274 will be ignored. Current value: num_iterations=274\n",
      "Fold 2 \t auc: 0.8529093662124161\n",
      "[LightGBM] [Warning] feature_fraction is set=0.3, colsample_bytree=1.0 will be ignored. Current value: feature_fraction=0.3\n",
      "[LightGBM] [Warning] min_data_in_leaf is set=46, min_child_samples=20 will be ignored. Current value: min_data_in_leaf=46\n",
      "[LightGBM] [Warning] min_gain_to_split is set=1.42, min_split_gain=0.0 will be ignored. Current value: min_gain_to_split=1.42\n",
      "[LightGBM] [Warning] lambda_l1 is set=0.01, reg_alpha=0.0 will be ignored. Current value: lambda_l1=0.01\n",
      "[LightGBM] [Warning] bagging_fraction is set=0.45, subsample=1.0 will be ignored. Current value: bagging_fraction=0.45\n",
      "[LightGBM] [Warning] lambda_l2 is set=0.6, reg_lambda=0.0 will be ignored. Current value: lambda_l2=0.6\n",
      "[LightGBM] [Warning] num_iterations is set=274, num_rounds=274 will be ignored. Current value: num_iterations=274\n",
      "Fold 3 \t auc: 0.8221933809214795\n",
      "[LightGBM] [Warning] feature_fraction is set=0.3, colsample_bytree=1.0 will be ignored. Current value: feature_fraction=0.3\n",
      "[LightGBM] [Warning] min_data_in_leaf is set=46, min_child_samples=20 will be ignored. Current value: min_data_in_leaf=46\n",
      "[LightGBM] [Warning] min_gain_to_split is set=1.42, min_split_gain=0.0 will be ignored. Current value: min_gain_to_split=1.42\n",
      "[LightGBM] [Warning] lambda_l1 is set=0.01, reg_alpha=0.0 will be ignored. Current value: lambda_l1=0.01\n",
      "[LightGBM] [Warning] bagging_fraction is set=0.45, subsample=1.0 will be ignored. Current value: bagging_fraction=0.45\n",
      "[LightGBM] [Warning] lambda_l2 is set=0.6, reg_lambda=0.0 will be ignored. Current value: lambda_l2=0.6\n",
      "[LightGBM] [Warning] num_iterations is set=274, num_rounds=274 will be ignored. Current value: num_iterations=274\n",
      "Fold 4 \t auc: 0.8743240320138438\n",
      "[LightGBM] [Warning] feature_fraction is set=0.3, colsample_bytree=1.0 will be ignored. Current value: feature_fraction=0.3\n",
      "[LightGBM] [Warning] min_data_in_leaf is set=46, min_child_samples=20 will be ignored. Current value: min_data_in_leaf=46\n",
      "[LightGBM] [Warning] min_gain_to_split is set=1.42, min_split_gain=0.0 will be ignored. Current value: min_gain_to_split=1.42\n",
      "[LightGBM] [Warning] lambda_l1 is set=0.01, reg_alpha=0.0 will be ignored. Current value: lambda_l1=0.01\n",
      "[LightGBM] [Warning] bagging_fraction is set=0.45, subsample=1.0 will be ignored. Current value: bagging_fraction=0.45\n",
      "[LightGBM] [Warning] lambda_l2 is set=0.6, reg_lambda=0.0 will be ignored. Current value: lambda_l2=0.6\n",
      "[LightGBM] [Warning] num_iterations is set=274, num_rounds=274 will be ignored. Current value: num_iterations=274\n",
      "Fold 5 \t auc: 0.9059052563270604\n",
      "[LightGBM] [Warning] feature_fraction is set=0.3, colsample_bytree=1.0 will be ignored. Current value: feature_fraction=0.3\n",
      "[LightGBM] [Warning] min_data_in_leaf is set=46, min_child_samples=20 will be ignored. Current value: min_data_in_leaf=46\n",
      "[LightGBM] [Warning] min_gain_to_split is set=1.42, min_split_gain=0.0 will be ignored. Current value: min_gain_to_split=1.42\n",
      "[LightGBM] [Warning] lambda_l1 is set=0.01, reg_alpha=0.0 will be ignored. Current value: lambda_l1=0.01\n",
      "[LightGBM] [Warning] bagging_fraction is set=0.45, subsample=1.0 will be ignored. Current value: bagging_fraction=0.45\n",
      "[LightGBM] [Warning] lambda_l2 is set=0.6, reg_lambda=0.0 will be ignored. Current value: lambda_l2=0.6\n",
      "[LightGBM] [Warning] num_iterations is set=274, num_rounds=274 will be ignored. Current value: num_iterations=274\n",
      "Fold 6 \t auc: 0.9174581637268204\n",
      "[LightGBM] [Warning] feature_fraction is set=0.3, colsample_bytree=1.0 will be ignored. Current value: feature_fraction=0.3\n",
      "[LightGBM] [Warning] min_data_in_leaf is set=46, min_child_samples=20 will be ignored. Current value: min_data_in_leaf=46\n",
      "[LightGBM] [Warning] min_gain_to_split is set=1.42, min_split_gain=0.0 will be ignored. Current value: min_gain_to_split=1.42\n",
      "[LightGBM] [Warning] lambda_l1 is set=0.01, reg_alpha=0.0 will be ignored. Current value: lambda_l1=0.01\n",
      "[LightGBM] [Warning] bagging_fraction is set=0.45, subsample=1.0 will be ignored. Current value: bagging_fraction=0.45\n",
      "[LightGBM] [Warning] lambda_l2 is set=0.6, reg_lambda=0.0 will be ignored. Current value: lambda_l2=0.6\n",
      "[LightGBM] [Warning] num_iterations is set=274, num_rounds=274 will be ignored. Current value: num_iterations=274\n",
      "Fold 7 \t auc: 0.8701944821347807\n",
      "[LightGBM] [Warning] feature_fraction is set=0.3, colsample_bytree=1.0 will be ignored. Current value: feature_fraction=0.3\n",
      "[LightGBM] [Warning] min_data_in_leaf is set=46, min_child_samples=20 will be ignored. Current value: min_data_in_leaf=46\n",
      "[LightGBM] [Warning] min_gain_to_split is set=1.42, min_split_gain=0.0 will be ignored. Current value: min_gain_to_split=1.42\n",
      "[LightGBM] [Warning] lambda_l1 is set=0.01, reg_alpha=0.0 will be ignored. Current value: lambda_l1=0.01\n",
      "[LightGBM] [Warning] bagging_fraction is set=0.45, subsample=1.0 will be ignored. Current value: bagging_fraction=0.45\n",
      "[LightGBM] [Warning] lambda_l2 is set=0.6, reg_lambda=0.0 will be ignored. Current value: lambda_l2=0.6\n",
      "[LightGBM] [Warning] num_iterations is set=274, num_rounds=274 will be ignored. Current value: num_iterations=274\n",
      "Fold 8 \t auc: 0.9188150158299413\n",
      "[LightGBM] [Warning] feature_fraction is set=0.3, colsample_bytree=1.0 will be ignored. Current value: feature_fraction=0.3\n",
      "[LightGBM] [Warning] min_data_in_leaf is set=46, min_child_samples=20 will be ignored. Current value: min_data_in_leaf=46\n",
      "[LightGBM] [Warning] min_gain_to_split is set=1.42, min_split_gain=0.0 will be ignored. Current value: min_gain_to_split=1.42\n",
      "[LightGBM] [Warning] lambda_l1 is set=0.01, reg_alpha=0.0 will be ignored. Current value: lambda_l1=0.01\n",
      "[LightGBM] [Warning] bagging_fraction is set=0.45, subsample=1.0 will be ignored. Current value: bagging_fraction=0.45\n",
      "[LightGBM] [Warning] lambda_l2 is set=0.6, reg_lambda=0.0 will be ignored. Current value: lambda_l2=0.6\n",
      "[LightGBM] [Warning] num_iterations is set=274, num_rounds=274 will be ignored. Current value: num_iterations=274\n",
      "Fold 9 \t auc: 0.8763003165988241\n",
      "Avg AUC: 0.873223801938922\n",
      "[LightGBM] [Warning] feature_fraction is set=0.3, colsample_bytree=1.0 will be ignored. Current value: feature_fraction=0.3\n",
      "[LightGBM] [Warning] min_data_in_leaf is set=46, min_child_samples=20 will be ignored. Current value: min_data_in_leaf=46\n",
      "[LightGBM] [Warning] min_gain_to_split is set=1.42, min_split_gain=0.0 will be ignored. Current value: min_gain_to_split=1.42\n",
      "[LightGBM] [Warning] lambda_l1 is set=0.01, reg_alpha=0.0 will be ignored. Current value: lambda_l1=0.01\n",
      "[LightGBM] [Warning] bagging_fraction is set=0.45, subsample=1.0 will be ignored. Current value: bagging_fraction=0.45\n",
      "[LightGBM] [Warning] lambda_l2 is set=0.6, reg_lambda=0.0 will be ignored. Current value: lambda_l2=0.6\n",
      "[LightGBM] [Warning] num_iterations is set=274, num_rounds=274 will be ignored. Current value: num_iterations=274\n"
     ]
    },
    {
     "data": {
      "text/plain": [
       "LGBMClassifier(bagging_fraction=0.45, feature_fraction=0.3, lambda_l1=0.01,\n",
       "               lambda_l2=0.6, max_depth=9, min_data_in_leaf=46,\n",
       "               min_gain_to_split=1.42, n_estimators=407, num_leaves=195,\n",
       "               num_rounds=274)"
      ]
     },
     "execution_count": 34,
     "metadata": {},
     "output_type": "execute_result"
    }
   ],
   "source": [
    "# random params \n",
    "lgbm_params = {'n_estimators': 407,\n",
    "                 'num_rounds': 274,\n",
    "                 'learning_rate': 0.1,\n",
    "                 'num_leaves': 195,\n",
    "                 'max_depth': 9,\n",
    "                 'min_data_in_leaf': 46,\n",
    "                 'lambda_l1': 0.01,\n",
    "                 'lambda_l2': 0.6,\n",
    "                 'min_gain_to_split': 1.42,\n",
    "                 'bagging_fraction': 0.45,\n",
    "                 'feature_fraction': 0.3}\n",
    "\n",
    "lgbm_clf = lgbm.LGBMClassifier(**lgbm_params)\n",
    "cross_validate(X_train, y_train, lgbm_clf)\n",
    "lgbm_clf.fit(X_train, y_train, verbose=False)"
   ]
  },
  {
   "cell_type": "code",
   "execution_count": 35,
   "id": "s6XL3eplr8gJ",
   "metadata": {
    "colab": {
     "base_uri": "https://localhost:8080/",
     "height": 1000
    },
    "id": "s6XL3eplr8gJ",
    "outputId": "a983a610-b5e5-4d16-8847-c54c3b3b14b0",
    "scrolled": true
   },
   "outputs": [
    {
     "name": "stderr",
     "output_type": "stream",
     "text": [
      "\u001b[32m[I 2023-05-07 10:56:58,254]\u001b[0m A new study created in memory with name: no-name-de30c595-8167-40da-aa5c-25e3b26ae652\u001b[0m\n"
     ]
    },
    {
     "name": "stdout",
     "output_type": "stream",
     "text": [
      "[LightGBM] [Warning] feature_fraction is set=0.7187161451941976, colsample_bytree=1.0 will be ignored. Current value: feature_fraction=0.7187161451941976\n",
      "[LightGBM] [Warning] min_data_in_leaf is set=90, min_child_samples=20 will be ignored. Current value: min_data_in_leaf=90\n",
      "[LightGBM] [Warning] min_gain_to_split is set=9.697227907056527, min_split_gain=0.0 will be ignored. Current value: min_gain_to_split=9.697227907056527\n",
      "[LightGBM] [Warning] bagging_fraction is set=0.9547763441001976, subsample=1.0 will be ignored. Current value: bagging_fraction=0.9547763441001976\n",
      "[LightGBM] [Warning] lambda_l1 is set=8.031673669634623e-08, reg_alpha=0.0 will be ignored. Current value: lambda_l1=8.031673669634623e-08\n",
      "[LightGBM] [Warning] lambda_l2 is set=0.744641056723674, reg_lambda=0.0 will be ignored. Current value: lambda_l2=0.744641056723674\n",
      "[LightGBM] [Warning] num_iterations is set=259, num_rounds=259 will be ignored. Current value: num_iterations=259\n",
      "[LightGBM] [Warning] feature_fraction is set=0.7187161451941976, colsample_bytree=1.0 will be ignored. Current value: feature_fraction=0.7187161451941976\n",
      "[LightGBM] [Warning] min_data_in_leaf is set=90, min_child_samples=20 will be ignored. Current value: min_data_in_leaf=90\n",
      "[LightGBM] [Warning] min_gain_to_split is set=9.697227907056527, min_split_gain=0.0 will be ignored. Current value: min_gain_to_split=9.697227907056527\n",
      "[LightGBM] [Warning] bagging_fraction is set=0.9547763441001976, subsample=1.0 will be ignored. Current value: bagging_fraction=0.9547763441001976\n",
      "[LightGBM] [Warning] lambda_l1 is set=8.031673669634623e-08, reg_alpha=0.0 will be ignored. Current value: lambda_l1=8.031673669634623e-08\n",
      "[LightGBM] [Warning] lambda_l2 is set=0.744641056723674, reg_lambda=0.0 will be ignored. Current value: lambda_l2=0.744641056723674\n",
      "[LightGBM] [Warning] num_iterations is set=259, num_rounds=259 will be ignored. Current value: num_iterations=259\n",
      "[LightGBM] [Warning] feature_fraction is set=0.7187161451941976, colsample_bytree=1.0 will be ignored. Current value: feature_fraction=0.7187161451941976\n",
      "[LightGBM] [Warning] min_data_in_leaf is set=90, min_child_samples=20 will be ignored. Current value: min_data_in_leaf=90\n",
      "[LightGBM] [Warning] min_gain_to_split is set=9.697227907056527, min_split_gain=0.0 will be ignored. Current value: min_gain_to_split=9.697227907056527\n",
      "[LightGBM] [Warning] bagging_fraction is set=0.9547763441001976, subsample=1.0 will be ignored. Current value: bagging_fraction=0.9547763441001976\n",
      "[LightGBM] [Warning] lambda_l1 is set=8.031673669634623e-08, reg_alpha=0.0 will be ignored. Current value: lambda_l1=8.031673669634623e-08\n",
      "[LightGBM] [Warning] lambda_l2 is set=0.744641056723674, reg_lambda=0.0 will be ignored. Current value: lambda_l2=0.744641056723674\n",
      "[LightGBM] [Warning] num_iterations is set=259, num_rounds=259 will be ignored. Current value: num_iterations=259\n",
      "[LightGBM] [Warning] feature_fraction is set=0.7187161451941976, colsample_bytree=1.0 will be ignored. Current value: feature_fraction=0.7187161451941976\n",
      "[LightGBM] [Warning] min_data_in_leaf is set=90, min_child_samples=20 will be ignored. Current value: min_data_in_leaf=90\n",
      "[LightGBM] [Warning] min_gain_to_split is set=9.697227907056527, min_split_gain=0.0 will be ignored. Current value: min_gain_to_split=9.697227907056527\n",
      "[LightGBM] [Warning] bagging_fraction is set=0.9547763441001976, subsample=1.0 will be ignored. Current value: bagging_fraction=0.9547763441001976\n",
      "[LightGBM] [Warning] lambda_l1 is set=8.031673669634623e-08, reg_alpha=0.0 will be ignored. Current value: lambda_l1=8.031673669634623e-08\n",
      "[LightGBM] [Warning] lambda_l2 is set=0.744641056723674, reg_lambda=0.0 will be ignored. Current value: lambda_l2=0.744641056723674\n",
      "[LightGBM] [Warning] num_iterations is set=259, num_rounds=259 will be ignored. Current value: num_iterations=259\n",
      "[LightGBM] [Warning] feature_fraction is set=0.7187161451941976, colsample_bytree=1.0 will be ignored. Current value: feature_fraction=0.7187161451941976\n",
      "[LightGBM] [Warning] min_data_in_leaf is set=90, min_child_samples=20 will be ignored. Current value: min_data_in_leaf=90\n",
      "[LightGBM] [Warning] min_gain_to_split is set=9.697227907056527, min_split_gain=0.0 will be ignored. Current value: min_gain_to_split=9.697227907056527\n",
      "[LightGBM] [Warning] bagging_fraction is set=0.9547763441001976, subsample=1.0 will be ignored. Current value: bagging_fraction=0.9547763441001976\n",
      "[LightGBM] [Warning] lambda_l1 is set=8.031673669634623e-08, reg_alpha=0.0 will be ignored. Current value: lambda_l1=8.031673669634623e-08\n",
      "[LightGBM] [Warning] lambda_l2 is set=0.744641056723674, reg_lambda=0.0 will be ignored. Current value: lambda_l2=0.744641056723674\n",
      "[LightGBM] [Warning] num_iterations is set=259, num_rounds=259 will be ignored. Current value: num_iterations=259\n",
      "[LightGBM] [Warning] feature_fraction is set=0.7187161451941976, colsample_bytree=1.0 will be ignored. Current value: feature_fraction=0.7187161451941976\n",
      "[LightGBM] [Warning] min_data_in_leaf is set=90, min_child_samples=20 will be ignored. Current value: min_data_in_leaf=90\n",
      "[LightGBM] [Warning] min_gain_to_split is set=9.697227907056527, min_split_gain=0.0 will be ignored. Current value: min_gain_to_split=9.697227907056527\n",
      "[LightGBM] [Warning] bagging_fraction is set=0.9547763441001976, subsample=1.0 will be ignored. Current value: bagging_fraction=0.9547763441001976\n",
      "[LightGBM] [Warning] lambda_l1 is set=8.031673669634623e-08, reg_alpha=0.0 will be ignored. Current value: lambda_l1=8.031673669634623e-08\n",
      "[LightGBM] [Warning] lambda_l2 is set=0.744641056723674, reg_lambda=0.0 will be ignored. Current value: lambda_l2=0.744641056723674\n",
      "[LightGBM] [Warning] num_iterations is set=259, num_rounds=259 will be ignored. Current value: num_iterations=259\n",
      "[LightGBM] [Warning] feature_fraction is set=0.7187161451941976, colsample_bytree=1.0 will be ignored. Current value: feature_fraction=0.7187161451941976\n",
      "[LightGBM] [Warning] min_data_in_leaf is set=90, min_child_samples=20 will be ignored. Current value: min_data_in_leaf=90\n",
      "[LightGBM] [Warning] min_gain_to_split is set=9.697227907056527, min_split_gain=0.0 will be ignored. Current value: min_gain_to_split=9.697227907056527\n",
      "[LightGBM] [Warning] bagging_fraction is set=0.9547763441001976, subsample=1.0 will be ignored. Current value: bagging_fraction=0.9547763441001976\n",
      "[LightGBM] [Warning] lambda_l1 is set=8.031673669634623e-08, reg_alpha=0.0 will be ignored. Current value: lambda_l1=8.031673669634623e-08\n",
      "[LightGBM] [Warning] lambda_l2 is set=0.744641056723674, reg_lambda=0.0 will be ignored. Current value: lambda_l2=0.744641056723674\n",
      "[LightGBM] [Warning] num_iterations is set=259, num_rounds=259 will be ignored. Current value: num_iterations=259\n",
      "[LightGBM] [Warning] feature_fraction is set=0.7187161451941976, colsample_bytree=1.0 will be ignored. Current value: feature_fraction=0.7187161451941976\n",
      "[LightGBM] [Warning] min_data_in_leaf is set=90, min_child_samples=20 will be ignored. Current value: min_data_in_leaf=90\n",
      "[LightGBM] [Warning] min_gain_to_split is set=9.697227907056527, min_split_gain=0.0 will be ignored. Current value: min_gain_to_split=9.697227907056527\n",
      "[LightGBM] [Warning] bagging_fraction is set=0.9547763441001976, subsample=1.0 will be ignored. Current value: bagging_fraction=0.9547763441001976\n",
      "[LightGBM] [Warning] lambda_l1 is set=8.031673669634623e-08, reg_alpha=0.0 will be ignored. Current value: lambda_l1=8.031673669634623e-08\n",
      "[LightGBM] [Warning] lambda_l2 is set=0.744641056723674, reg_lambda=0.0 will be ignored. Current value: lambda_l2=0.744641056723674\n",
      "[LightGBM] [Warning] num_iterations is set=259, num_rounds=259 will be ignored. Current value: num_iterations=259\n"
     ]
    },
    {
     "name": "stderr",
     "output_type": "stream",
     "text": [
      "\u001b[32m[I 2023-05-07 10:56:58,932]\u001b[0m Trial 0 finished with value: 0.841786128645311 and parameters: {'n_estimators': 636, 'num_rounds': 259, 'learning_rate': 0.0011338998346861614, 'num_leaves': 108, 'max_depth': 8, 'min_data_in_leaf': 90, 'lambda_l1': 8.031673669634623e-08, 'lambda_l2': 0.744641056723674, 'min_gain_to_split': 9.697227907056527, 'bagging_fraction': 0.9547763441001976, 'feature_fraction': 0.7187161451941976}. Best is trial 0 with value: 0.841786128645311.\u001b[0m\n"
     ]
    },
    {
     "name": "stdout",
     "output_type": "stream",
     "text": [
      "[LightGBM] [Warning] feature_fraction is set=0.7187161451941976, colsample_bytree=1.0 will be ignored. Current value: feature_fraction=0.7187161451941976\n",
      "[LightGBM] [Warning] min_data_in_leaf is set=90, min_child_samples=20 will be ignored. Current value: min_data_in_leaf=90\n",
      "[LightGBM] [Warning] min_gain_to_split is set=9.697227907056527, min_split_gain=0.0 will be ignored. Current value: min_gain_to_split=9.697227907056527\n",
      "[LightGBM] [Warning] bagging_fraction is set=0.9547763441001976, subsample=1.0 will be ignored. Current value: bagging_fraction=0.9547763441001976\n",
      "[LightGBM] [Warning] lambda_l1 is set=8.031673669634623e-08, reg_alpha=0.0 will be ignored. Current value: lambda_l1=8.031673669634623e-08\n",
      "[LightGBM] [Warning] lambda_l2 is set=0.744641056723674, reg_lambda=0.0 will be ignored. Current value: lambda_l2=0.744641056723674\n",
      "[LightGBM] [Warning] num_iterations is set=259, num_rounds=259 will be ignored. Current value: num_iterations=259\n",
      "[LightGBM] [Warning] feature_fraction is set=0.9109383403621444, colsample_bytree=1.0 will be ignored. Current value: feature_fraction=0.9109383403621444\n",
      "[LightGBM] [Warning] min_data_in_leaf is set=66, min_child_samples=20 will be ignored. Current value: min_data_in_leaf=66\n",
      "[LightGBM] [Warning] min_gain_to_split is set=3.899840862062166, min_split_gain=0.0 will be ignored. Current value: min_gain_to_split=3.899840862062166\n",
      "[LightGBM] [Warning] bagging_fraction is set=0.6292667997817168, subsample=1.0 will be ignored. Current value: bagging_fraction=0.6292667997817168\n",
      "[LightGBM] [Warning] lambda_l1 is set=1.1045991326327589, reg_alpha=0.0 will be ignored. Current value: lambda_l1=1.1045991326327589\n",
      "[LightGBM] [Warning] lambda_l2 is set=0.029125532554914256, reg_lambda=0.0 will be ignored. Current value: lambda_l2=0.029125532554914256\n",
      "[LightGBM] [Warning] num_iterations is set=196, num_rounds=196 will be ignored. Current value: num_iterations=196\n",
      "[LightGBM] [Warning] feature_fraction is set=0.9109383403621444, colsample_bytree=1.0 will be ignored. Current value: feature_fraction=0.9109383403621444\n",
      "[LightGBM] [Warning] min_data_in_leaf is set=66, min_child_samples=20 will be ignored. Current value: min_data_in_leaf=66\n",
      "[LightGBM] [Warning] min_gain_to_split is set=3.899840862062166, min_split_gain=0.0 will be ignored. Current value: min_gain_to_split=3.899840862062166\n",
      "[LightGBM] [Warning] bagging_fraction is set=0.6292667997817168, subsample=1.0 will be ignored. Current value: bagging_fraction=0.6292667997817168\n",
      "[LightGBM] [Warning] lambda_l1 is set=1.1045991326327589, reg_alpha=0.0 will be ignored. Current value: lambda_l1=1.1045991326327589\n",
      "[LightGBM] [Warning] lambda_l2 is set=0.029125532554914256, reg_lambda=0.0 will be ignored. Current value: lambda_l2=0.029125532554914256\n",
      "[LightGBM] [Warning] num_iterations is set=196, num_rounds=196 will be ignored. Current value: num_iterations=196\n",
      "[LightGBM] [Warning] feature_fraction is set=0.9109383403621444, colsample_bytree=1.0 will be ignored. Current value: feature_fraction=0.9109383403621444\n",
      "[LightGBM] [Warning] min_data_in_leaf is set=66, min_child_samples=20 will be ignored. Current value: min_data_in_leaf=66\n",
      "[LightGBM] [Warning] min_gain_to_split is set=3.899840862062166, min_split_gain=0.0 will be ignored. Current value: min_gain_to_split=3.899840862062166\n",
      "[LightGBM] [Warning] bagging_fraction is set=0.6292667997817168, subsample=1.0 will be ignored. Current value: bagging_fraction=0.6292667997817168\n",
      "[LightGBM] [Warning] lambda_l1 is set=1.1045991326327589, reg_alpha=0.0 will be ignored. Current value: lambda_l1=1.1045991326327589\n",
      "[LightGBM] [Warning] lambda_l2 is set=0.029125532554914256, reg_lambda=0.0 will be ignored. Current value: lambda_l2=0.029125532554914256\n",
      "[LightGBM] [Warning] num_iterations is set=196, num_rounds=196 will be ignored. Current value: num_iterations=196\n",
      "[LightGBM] [Warning] feature_fraction is set=0.9109383403621444, colsample_bytree=1.0 will be ignored. Current value: feature_fraction=0.9109383403621444\n",
      "[LightGBM] [Warning] min_data_in_leaf is set=66, min_child_samples=20 will be ignored. Current value: min_data_in_leaf=66\n",
      "[LightGBM] [Warning] min_gain_to_split is set=3.899840862062166, min_split_gain=0.0 will be ignored. Current value: min_gain_to_split=3.899840862062166\n",
      "[LightGBM] [Warning] bagging_fraction is set=0.6292667997817168, subsample=1.0 will be ignored. Current value: bagging_fraction=0.6292667997817168\n",
      "[LightGBM] [Warning] lambda_l1 is set=1.1045991326327589, reg_alpha=0.0 will be ignored. Current value: lambda_l1=1.1045991326327589\n",
      "[LightGBM] [Warning] lambda_l2 is set=0.029125532554914256, reg_lambda=0.0 will be ignored. Current value: lambda_l2=0.029125532554914256\n",
      "[LightGBM] [Warning] num_iterations is set=196, num_rounds=196 will be ignored. Current value: num_iterations=196\n",
      "[LightGBM] [Warning] feature_fraction is set=0.9109383403621444, colsample_bytree=1.0 will be ignored. Current value: feature_fraction=0.9109383403621444\n",
      "[LightGBM] [Warning] min_data_in_leaf is set=66, min_child_samples=20 will be ignored. Current value: min_data_in_leaf=66\n",
      "[LightGBM] [Warning] min_gain_to_split is set=3.899840862062166, min_split_gain=0.0 will be ignored. Current value: min_gain_to_split=3.899840862062166\n",
      "[LightGBM] [Warning] bagging_fraction is set=0.6292667997817168, subsample=1.0 will be ignored. Current value: bagging_fraction=0.6292667997817168\n",
      "[LightGBM] [Warning] lambda_l1 is set=1.1045991326327589, reg_alpha=0.0 will be ignored. Current value: lambda_l1=1.1045991326327589\n",
      "[LightGBM] [Warning] lambda_l2 is set=0.029125532554914256, reg_lambda=0.0 will be ignored. Current value: lambda_l2=0.029125532554914256\n",
      "[LightGBM] [Warning] num_iterations is set=196, num_rounds=196 will be ignored. Current value: num_iterations=196\n",
      "[LightGBM] [Warning] feature_fraction is set=0.9109383403621444, colsample_bytree=1.0 will be ignored. Current value: feature_fraction=0.9109383403621444\n",
      "[LightGBM] [Warning] min_data_in_leaf is set=66, min_child_samples=20 will be ignored. Current value: min_data_in_leaf=66\n",
      "[LightGBM] [Warning] min_gain_to_split is set=3.899840862062166, min_split_gain=0.0 will be ignored. Current value: min_gain_to_split=3.899840862062166\n",
      "[LightGBM] [Warning] bagging_fraction is set=0.6292667997817168, subsample=1.0 will be ignored. Current value: bagging_fraction=0.6292667997817168\n",
      "[LightGBM] [Warning] lambda_l1 is set=1.1045991326327589, reg_alpha=0.0 will be ignored. Current value: lambda_l1=1.1045991326327589\n",
      "[LightGBM] [Warning] lambda_l2 is set=0.029125532554914256, reg_lambda=0.0 will be ignored. Current value: lambda_l2=0.029125532554914256\n",
      "[LightGBM] [Warning] num_iterations is set=196, num_rounds=196 will be ignored. Current value: num_iterations=196\n",
      "[LightGBM] [Warning] feature_fraction is set=0.9109383403621444, colsample_bytree=1.0 will be ignored. Current value: feature_fraction=0.9109383403621444\n",
      "[LightGBM] [Warning] min_data_in_leaf is set=66, min_child_samples=20 will be ignored. Current value: min_data_in_leaf=66\n",
      "[LightGBM] [Warning] min_gain_to_split is set=3.899840862062166, min_split_gain=0.0 will be ignored. Current value: min_gain_to_split=3.899840862062166\n",
      "[LightGBM] [Warning] bagging_fraction is set=0.6292667997817168, subsample=1.0 will be ignored. Current value: bagging_fraction=0.6292667997817168\n",
      "[LightGBM] [Warning] lambda_l1 is set=1.1045991326327589, reg_alpha=0.0 will be ignored. Current value: lambda_l1=1.1045991326327589\n",
      "[LightGBM] [Warning] lambda_l2 is set=0.029125532554914256, reg_lambda=0.0 will be ignored. Current value: lambda_l2=0.029125532554914256\n",
      "[LightGBM] [Warning] num_iterations is set=196, num_rounds=196 will be ignored. Current value: num_iterations=196\n",
      "[LightGBM] [Warning] feature_fraction is set=0.9109383403621444, colsample_bytree=1.0 will be ignored. Current value: feature_fraction=0.9109383403621444\n",
      "[LightGBM] [Warning] min_data_in_leaf is set=66, min_child_samples=20 will be ignored. Current value: min_data_in_leaf=66\n",
      "[LightGBM] [Warning] min_gain_to_split is set=3.899840862062166, min_split_gain=0.0 will be ignored. Current value: min_gain_to_split=3.899840862062166\n",
      "[LightGBM] [Warning] bagging_fraction is set=0.6292667997817168, subsample=1.0 will be ignored. Current value: bagging_fraction=0.6292667997817168\n",
      "[LightGBM] [Warning] lambda_l1 is set=1.1045991326327589, reg_alpha=0.0 will be ignored. Current value: lambda_l1=1.1045991326327589\n",
      "[LightGBM] [Warning] lambda_l2 is set=0.029125532554914256, reg_lambda=0.0 will be ignored. Current value: lambda_l2=0.029125532554914256\n",
      "[LightGBM] [Warning] num_iterations is set=196, num_rounds=196 will be ignored. Current value: num_iterations=196\n",
      "[LightGBM] [Warning] feature_fraction is set=0.9109383403621444, colsample_bytree=1.0 will be ignored. Current value: feature_fraction=0.9109383403621444\n",
      "[LightGBM] [Warning] min_data_in_leaf is set=66, min_child_samples=20 will be ignored. Current value: min_data_in_leaf=66\n",
      "[LightGBM] [Warning] min_gain_to_split is set=3.899840862062166, min_split_gain=0.0 will be ignored. Current value: min_gain_to_split=3.899840862062166\n",
      "[LightGBM] [Warning] bagging_fraction is set=0.6292667997817168, subsample=1.0 will be ignored. Current value: bagging_fraction=0.6292667997817168\n",
      "[LightGBM] [Warning] lambda_l1 is set=1.1045991326327589, reg_alpha=0.0 will be ignored. Current value: lambda_l1=1.1045991326327589\n",
      "[LightGBM] [Warning] lambda_l2 is set=0.029125532554914256, reg_lambda=0.0 will be ignored. Current value: lambda_l2=0.029125532554914256\n",
      "[LightGBM] [Warning] num_iterations is set=196, num_rounds=196 will be ignored. Current value: num_iterations=196\n",
      "[LightGBM] [Warning] feature_fraction is set=0.9109383403621444, colsample_bytree=1.0 will be ignored. Current value: feature_fraction=0.9109383403621444\n",
      "[LightGBM] [Warning] min_data_in_leaf is set=66, min_child_samples=20 will be ignored. Current value: min_data_in_leaf=66\n",
      "[LightGBM] [Warning] min_gain_to_split is set=3.899840862062166, min_split_gain=0.0 will be ignored. Current value: min_gain_to_split=3.899840862062166\n",
      "[LightGBM] [Warning] bagging_fraction is set=0.6292667997817168, subsample=1.0 will be ignored. Current value: bagging_fraction=0.6292667997817168\n",
      "[LightGBM] [Warning] lambda_l1 is set=1.1045991326327589, reg_alpha=0.0 will be ignored. Current value: lambda_l1=1.1045991326327589\n",
      "[LightGBM] [Warning] lambda_l2 is set=0.029125532554914256, reg_lambda=0.0 will be ignored. Current value: lambda_l2=0.029125532554914256\n",
      "[LightGBM] [Warning] num_iterations is set=196, num_rounds=196 will be ignored. Current value: num_iterations=196\n"
     ]
    },
    {
     "name": "stderr",
     "output_type": "stream",
     "text": [
      "\u001b[32m[I 2023-05-07 10:56:59,318]\u001b[0m Trial 1 finished with value: 0.8638408746779934 and parameters: {'n_estimators': 948, 'num_rounds': 196, 'learning_rate': 0.03787530937466169, 'num_leaves': 267, 'max_depth': 15, 'min_data_in_leaf': 66, 'lambda_l1': 1.1045991326327589, 'lambda_l2': 0.029125532554914256, 'min_gain_to_split': 3.899840862062166, 'bagging_fraction': 0.6292667997817168, 'feature_fraction': 0.9109383403621444}. Best is trial 1 with value: 0.8638408746779934.\u001b[0m\n"
     ]
    },
    {
     "name": "stdout",
     "output_type": "stream",
     "text": [
      "[LightGBM] [Warning] feature_fraction is set=0.47716952750806685, colsample_bytree=1.0 will be ignored. Current value: feature_fraction=0.47716952750806685\n",
      "[LightGBM] [Warning] min_data_in_leaf is set=28, min_child_samples=20 will be ignored. Current value: min_data_in_leaf=28\n",
      "[LightGBM] [Warning] min_gain_to_split is set=2.3766174235141015, min_split_gain=0.0 will be ignored. Current value: min_gain_to_split=2.3766174235141015\n",
      "[LightGBM] [Warning] bagging_fraction is set=0.9461296237182815, subsample=1.0 will be ignored. Current value: bagging_fraction=0.9461296237182815\n",
      "[LightGBM] [Warning] lambda_l1 is set=1.49819501688445, reg_alpha=0.0 will be ignored. Current value: lambda_l1=1.49819501688445\n",
      "[LightGBM] [Warning] lambda_l2 is set=0.0009611731204356844, reg_lambda=0.0 will be ignored. Current value: lambda_l2=0.0009611731204356844\n",
      "[LightGBM] [Warning] num_iterations is set=979, num_rounds=979 will be ignored. Current value: num_iterations=979\n",
      "[LightGBM] [Warning] feature_fraction is set=0.47716952750806685, colsample_bytree=1.0 will be ignored. Current value: feature_fraction=0.47716952750806685\n",
      "[LightGBM] [Warning] min_data_in_leaf is set=28, min_child_samples=20 will be ignored. Current value: min_data_in_leaf=28\n",
      "[LightGBM] [Warning] min_gain_to_split is set=2.3766174235141015, min_split_gain=0.0 will be ignored. Current value: min_gain_to_split=2.3766174235141015\n",
      "[LightGBM] [Warning] bagging_fraction is set=0.9461296237182815, subsample=1.0 will be ignored. Current value: bagging_fraction=0.9461296237182815\n",
      "[LightGBM] [Warning] lambda_l1 is set=1.49819501688445, reg_alpha=0.0 will be ignored. Current value: lambda_l1=1.49819501688445\n",
      "[LightGBM] [Warning] lambda_l2 is set=0.0009611731204356844, reg_lambda=0.0 will be ignored. Current value: lambda_l2=0.0009611731204356844\n",
      "[LightGBM] [Warning] num_iterations is set=979, num_rounds=979 will be ignored. Current value: num_iterations=979\n",
      "[LightGBM] [Warning] feature_fraction is set=0.47716952750806685, colsample_bytree=1.0 will be ignored. Current value: feature_fraction=0.47716952750806685\n",
      "[LightGBM] [Warning] min_data_in_leaf is set=28, min_child_samples=20 will be ignored. Current value: min_data_in_leaf=28\n",
      "[LightGBM] [Warning] min_gain_to_split is set=2.3766174235141015, min_split_gain=0.0 will be ignored. Current value: min_gain_to_split=2.3766174235141015\n",
      "[LightGBM] [Warning] bagging_fraction is set=0.9461296237182815, subsample=1.0 will be ignored. Current value: bagging_fraction=0.9461296237182815\n",
      "[LightGBM] [Warning] lambda_l1 is set=1.49819501688445, reg_alpha=0.0 will be ignored. Current value: lambda_l1=1.49819501688445\n",
      "[LightGBM] [Warning] lambda_l2 is set=0.0009611731204356844, reg_lambda=0.0 will be ignored. Current value: lambda_l2=0.0009611731204356844\n",
      "[LightGBM] [Warning] num_iterations is set=979, num_rounds=979 will be ignored. Current value: num_iterations=979\n",
      "[LightGBM] [Warning] feature_fraction is set=0.47716952750806685, colsample_bytree=1.0 will be ignored. Current value: feature_fraction=0.47716952750806685\n",
      "[LightGBM] [Warning] min_data_in_leaf is set=28, min_child_samples=20 will be ignored. Current value: min_data_in_leaf=28\n",
      "[LightGBM] [Warning] min_gain_to_split is set=2.3766174235141015, min_split_gain=0.0 will be ignored. Current value: min_gain_to_split=2.3766174235141015\n",
      "[LightGBM] [Warning] bagging_fraction is set=0.9461296237182815, subsample=1.0 will be ignored. Current value: bagging_fraction=0.9461296237182815\n",
      "[LightGBM] [Warning] lambda_l1 is set=1.49819501688445, reg_alpha=0.0 will be ignored. Current value: lambda_l1=1.49819501688445\n",
      "[LightGBM] [Warning] lambda_l2 is set=0.0009611731204356844, reg_lambda=0.0 will be ignored. Current value: lambda_l2=0.0009611731204356844\n",
      "[LightGBM] [Warning] num_iterations is set=979, num_rounds=979 will be ignored. Current value: num_iterations=979\n",
      "[LightGBM] [Warning] feature_fraction is set=0.47716952750806685, colsample_bytree=1.0 will be ignored. Current value: feature_fraction=0.47716952750806685\n",
      "[LightGBM] [Warning] min_data_in_leaf is set=28, min_child_samples=20 will be ignored. Current value: min_data_in_leaf=28\n",
      "[LightGBM] [Warning] min_gain_to_split is set=2.3766174235141015, min_split_gain=0.0 will be ignored. Current value: min_gain_to_split=2.3766174235141015\n",
      "[LightGBM] [Warning] bagging_fraction is set=0.9461296237182815, subsample=1.0 will be ignored. Current value: bagging_fraction=0.9461296237182815\n",
      "[LightGBM] [Warning] lambda_l1 is set=1.49819501688445, reg_alpha=0.0 will be ignored. Current value: lambda_l1=1.49819501688445\n",
      "[LightGBM] [Warning] lambda_l2 is set=0.0009611731204356844, reg_lambda=0.0 will be ignored. Current value: lambda_l2=0.0009611731204356844\n",
      "[LightGBM] [Warning] num_iterations is set=979, num_rounds=979 will be ignored. Current value: num_iterations=979\n",
      "[LightGBM] [Warning] feature_fraction is set=0.47716952750806685, colsample_bytree=1.0 will be ignored. Current value: feature_fraction=0.47716952750806685\n",
      "[LightGBM] [Warning] min_data_in_leaf is set=28, min_child_samples=20 will be ignored. Current value: min_data_in_leaf=28\n",
      "[LightGBM] [Warning] min_gain_to_split is set=2.3766174235141015, min_split_gain=0.0 will be ignored. Current value: min_gain_to_split=2.3766174235141015\n",
      "[LightGBM] [Warning] bagging_fraction is set=0.9461296237182815, subsample=1.0 will be ignored. Current value: bagging_fraction=0.9461296237182815\n",
      "[LightGBM] [Warning] lambda_l1 is set=1.49819501688445, reg_alpha=0.0 will be ignored. Current value: lambda_l1=1.49819501688445\n",
      "[LightGBM] [Warning] lambda_l2 is set=0.0009611731204356844, reg_lambda=0.0 will be ignored. Current value: lambda_l2=0.0009611731204356844\n",
      "[LightGBM] [Warning] num_iterations is set=979, num_rounds=979 will be ignored. Current value: num_iterations=979\n",
      "[LightGBM] [Warning] feature_fraction is set=0.47716952750806685, colsample_bytree=1.0 will be ignored. Current value: feature_fraction=0.47716952750806685\n",
      "[LightGBM] [Warning] min_data_in_leaf is set=28, min_child_samples=20 will be ignored. Current value: min_data_in_leaf=28\n",
      "[LightGBM] [Warning] min_gain_to_split is set=2.3766174235141015, min_split_gain=0.0 will be ignored. Current value: min_gain_to_split=2.3766174235141015\n",
      "[LightGBM] [Warning] bagging_fraction is set=0.9461296237182815, subsample=1.0 will be ignored. Current value: bagging_fraction=0.9461296237182815\n",
      "[LightGBM] [Warning] lambda_l1 is set=1.49819501688445, reg_alpha=0.0 will be ignored. Current value: lambda_l1=1.49819501688445\n",
      "[LightGBM] [Warning] lambda_l2 is set=0.0009611731204356844, reg_lambda=0.0 will be ignored. Current value: lambda_l2=0.0009611731204356844\n",
      "[LightGBM] [Warning] num_iterations is set=979, num_rounds=979 will be ignored. Current value: num_iterations=979\n",
      "[LightGBM] [Warning] feature_fraction is set=0.47716952750806685, colsample_bytree=1.0 will be ignored. Current value: feature_fraction=0.47716952750806685\n",
      "[LightGBM] [Warning] min_data_in_leaf is set=28, min_child_samples=20 will be ignored. Current value: min_data_in_leaf=28\n",
      "[LightGBM] [Warning] min_gain_to_split is set=2.3766174235141015, min_split_gain=0.0 will be ignored. Current value: min_gain_to_split=2.3766174235141015\n",
      "[LightGBM] [Warning] bagging_fraction is set=0.9461296237182815, subsample=1.0 will be ignored. Current value: bagging_fraction=0.9461296237182815\n",
      "[LightGBM] [Warning] lambda_l1 is set=1.49819501688445, reg_alpha=0.0 will be ignored. Current value: lambda_l1=1.49819501688445\n",
      "[LightGBM] [Warning] lambda_l2 is set=0.0009611731204356844, reg_lambda=0.0 will be ignored. Current value: lambda_l2=0.0009611731204356844\n",
      "[LightGBM] [Warning] num_iterations is set=979, num_rounds=979 will be ignored. Current value: num_iterations=979\n",
      "[LightGBM] [Warning] feature_fraction is set=0.47716952750806685, colsample_bytree=1.0 will be ignored. Current value: feature_fraction=0.47716952750806685\n",
      "[LightGBM] [Warning] min_data_in_leaf is set=28, min_child_samples=20 will be ignored. Current value: min_data_in_leaf=28\n",
      "[LightGBM] [Warning] min_gain_to_split is set=2.3766174235141015, min_split_gain=0.0 will be ignored. Current value: min_gain_to_split=2.3766174235141015\n",
      "[LightGBM] [Warning] bagging_fraction is set=0.9461296237182815, subsample=1.0 will be ignored. Current value: bagging_fraction=0.9461296237182815\n",
      "[LightGBM] [Warning] lambda_l1 is set=1.49819501688445, reg_alpha=0.0 will be ignored. Current value: lambda_l1=1.49819501688445\n",
      "[LightGBM] [Warning] lambda_l2 is set=0.0009611731204356844, reg_lambda=0.0 will be ignored. Current value: lambda_l2=0.0009611731204356844\n",
      "[LightGBM] [Warning] num_iterations is set=979, num_rounds=979 will be ignored. Current value: num_iterations=979\n",
      "[LightGBM] [Warning] feature_fraction is set=0.47716952750806685, colsample_bytree=1.0 will be ignored. Current value: feature_fraction=0.47716952750806685\n",
      "[LightGBM] [Warning] min_data_in_leaf is set=28, min_child_samples=20 will be ignored. Current value: min_data_in_leaf=28\n",
      "[LightGBM] [Warning] min_gain_to_split is set=2.3766174235141015, min_split_gain=0.0 will be ignored. Current value: min_gain_to_split=2.3766174235141015\n",
      "[LightGBM] [Warning] bagging_fraction is set=0.9461296237182815, subsample=1.0 will be ignored. Current value: bagging_fraction=0.9461296237182815\n",
      "[LightGBM] [Warning] lambda_l1 is set=1.49819501688445, reg_alpha=0.0 will be ignored. Current value: lambda_l1=1.49819501688445\n",
      "[LightGBM] [Warning] lambda_l2 is set=0.0009611731204356844, reg_lambda=0.0 will be ignored. Current value: lambda_l2=0.0009611731204356844\n",
      "[LightGBM] [Warning] num_iterations is set=979, num_rounds=979 will be ignored. Current value: num_iterations=979\n"
     ]
    },
    {
     "name": "stderr",
     "output_type": "stream",
     "text": [
      "\u001b[32m[I 2023-05-07 10:57:00,563]\u001b[0m Trial 2 finished with value: 0.8697800523076318 and parameters: {'n_estimators': 120, 'num_rounds': 979, 'learning_rate': 0.0584666499581536, 'num_leaves': 375, 'max_depth': 13, 'min_data_in_leaf': 28, 'lambda_l1': 1.49819501688445, 'lambda_l2': 0.0009611731204356844, 'min_gain_to_split': 2.3766174235141015, 'bagging_fraction': 0.9461296237182815, 'feature_fraction': 0.47716952750806685}. Best is trial 2 with value: 0.8697800523076318.\u001b[0m\n"
     ]
    },
    {
     "name": "stdout",
     "output_type": "stream",
     "text": [
      "[LightGBM] [Warning] feature_fraction is set=0.8314013095442243, colsample_bytree=1.0 will be ignored. Current value: feature_fraction=0.8314013095442243\n",
      "[LightGBM] [Warning] min_data_in_leaf is set=20, min_child_samples=20 will be ignored. Current value: min_data_in_leaf=20\n",
      "[LightGBM] [Warning] min_gain_to_split is set=3.793844011565821, min_split_gain=0.0 will be ignored. Current value: min_gain_to_split=3.793844011565821\n",
      "[LightGBM] [Warning] bagging_fraction is set=0.7916007384558362, subsample=1.0 will be ignored. Current value: bagging_fraction=0.7916007384558362\n",
      "[LightGBM] [Warning] lambda_l1 is set=4.8383326723072514e-05, reg_alpha=0.0 will be ignored. Current value: lambda_l1=4.8383326723072514e-05\n",
      "[LightGBM] [Warning] lambda_l2 is set=0.7386819381577258, reg_lambda=0.0 will be ignored. Current value: lambda_l2=0.7386819381577258\n",
      "[LightGBM] [Warning] num_iterations is set=811, num_rounds=811 will be ignored. Current value: num_iterations=811\n",
      "[LightGBM] [Warning] feature_fraction is set=0.8314013095442243, colsample_bytree=1.0 will be ignored. Current value: feature_fraction=0.8314013095442243\n",
      "[LightGBM] [Warning] min_data_in_leaf is set=20, min_child_samples=20 will be ignored. Current value: min_data_in_leaf=20\n",
      "[LightGBM] [Warning] min_gain_to_split is set=3.793844011565821, min_split_gain=0.0 will be ignored. Current value: min_gain_to_split=3.793844011565821\n",
      "[LightGBM] [Warning] bagging_fraction is set=0.7916007384558362, subsample=1.0 will be ignored. Current value: bagging_fraction=0.7916007384558362\n",
      "[LightGBM] [Warning] lambda_l1 is set=4.8383326723072514e-05, reg_alpha=0.0 will be ignored. Current value: lambda_l1=4.8383326723072514e-05\n",
      "[LightGBM] [Warning] lambda_l2 is set=0.7386819381577258, reg_lambda=0.0 will be ignored. Current value: lambda_l2=0.7386819381577258\n",
      "[LightGBM] [Warning] num_iterations is set=811, num_rounds=811 will be ignored. Current value: num_iterations=811\n",
      "[LightGBM] [Warning] feature_fraction is set=0.8314013095442243, colsample_bytree=1.0 will be ignored. Current value: feature_fraction=0.8314013095442243\n",
      "[LightGBM] [Warning] min_data_in_leaf is set=20, min_child_samples=20 will be ignored. Current value: min_data_in_leaf=20\n",
      "[LightGBM] [Warning] min_gain_to_split is set=3.793844011565821, min_split_gain=0.0 will be ignored. Current value: min_gain_to_split=3.793844011565821\n",
      "[LightGBM] [Warning] bagging_fraction is set=0.7916007384558362, subsample=1.0 will be ignored. Current value: bagging_fraction=0.7916007384558362\n",
      "[LightGBM] [Warning] lambda_l1 is set=4.8383326723072514e-05, reg_alpha=0.0 will be ignored. Current value: lambda_l1=4.8383326723072514e-05\n",
      "[LightGBM] [Warning] lambda_l2 is set=0.7386819381577258, reg_lambda=0.0 will be ignored. Current value: lambda_l2=0.7386819381577258\n",
      "[LightGBM] [Warning] num_iterations is set=811, num_rounds=811 will be ignored. Current value: num_iterations=811\n",
      "[LightGBM] [Warning] feature_fraction is set=0.8314013095442243, colsample_bytree=1.0 will be ignored. Current value: feature_fraction=0.8314013095442243\n",
      "[LightGBM] [Warning] min_data_in_leaf is set=20, min_child_samples=20 will be ignored. Current value: min_data_in_leaf=20\n",
      "[LightGBM] [Warning] min_gain_to_split is set=3.793844011565821, min_split_gain=0.0 will be ignored. Current value: min_gain_to_split=3.793844011565821\n",
      "[LightGBM] [Warning] bagging_fraction is set=0.7916007384558362, subsample=1.0 will be ignored. Current value: bagging_fraction=0.7916007384558362\n",
      "[LightGBM] [Warning] lambda_l1 is set=4.8383326723072514e-05, reg_alpha=0.0 will be ignored. Current value: lambda_l1=4.8383326723072514e-05\n",
      "[LightGBM] [Warning] lambda_l2 is set=0.7386819381577258, reg_lambda=0.0 will be ignored. Current value: lambda_l2=0.7386819381577258\n",
      "[LightGBM] [Warning] num_iterations is set=811, num_rounds=811 will be ignored. Current value: num_iterations=811\n",
      "[LightGBM] [Warning] feature_fraction is set=0.8314013095442243, colsample_bytree=1.0 will be ignored. Current value: feature_fraction=0.8314013095442243\n",
      "[LightGBM] [Warning] min_data_in_leaf is set=20, min_child_samples=20 will be ignored. Current value: min_data_in_leaf=20\n",
      "[LightGBM] [Warning] min_gain_to_split is set=3.793844011565821, min_split_gain=0.0 will be ignored. Current value: min_gain_to_split=3.793844011565821\n",
      "[LightGBM] [Warning] bagging_fraction is set=0.7916007384558362, subsample=1.0 will be ignored. Current value: bagging_fraction=0.7916007384558362\n",
      "[LightGBM] [Warning] lambda_l1 is set=4.8383326723072514e-05, reg_alpha=0.0 will be ignored. Current value: lambda_l1=4.8383326723072514e-05\n",
      "[LightGBM] [Warning] lambda_l2 is set=0.7386819381577258, reg_lambda=0.0 will be ignored. Current value: lambda_l2=0.7386819381577258\n",
      "[LightGBM] [Warning] num_iterations is set=811, num_rounds=811 will be ignored. Current value: num_iterations=811\n",
      "[LightGBM] [Warning] feature_fraction is set=0.8314013095442243, colsample_bytree=1.0 will be ignored. Current value: feature_fraction=0.8314013095442243\n",
      "[LightGBM] [Warning] min_data_in_leaf is set=20, min_child_samples=20 will be ignored. Current value: min_data_in_leaf=20\n",
      "[LightGBM] [Warning] min_gain_to_split is set=3.793844011565821, min_split_gain=0.0 will be ignored. Current value: min_gain_to_split=3.793844011565821\n",
      "[LightGBM] [Warning] bagging_fraction is set=0.7916007384558362, subsample=1.0 will be ignored. Current value: bagging_fraction=0.7916007384558362\n",
      "[LightGBM] [Warning] lambda_l1 is set=4.8383326723072514e-05, reg_alpha=0.0 will be ignored. Current value: lambda_l1=4.8383326723072514e-05\n",
      "[LightGBM] [Warning] lambda_l2 is set=0.7386819381577258, reg_lambda=0.0 will be ignored. Current value: lambda_l2=0.7386819381577258\n",
      "[LightGBM] [Warning] num_iterations is set=811, num_rounds=811 will be ignored. Current value: num_iterations=811\n",
      "[LightGBM] [Warning] feature_fraction is set=0.8314013095442243, colsample_bytree=1.0 will be ignored. Current value: feature_fraction=0.8314013095442243\n",
      "[LightGBM] [Warning] min_data_in_leaf is set=20, min_child_samples=20 will be ignored. Current value: min_data_in_leaf=20\n",
      "[LightGBM] [Warning] min_gain_to_split is set=3.793844011565821, min_split_gain=0.0 will be ignored. Current value: min_gain_to_split=3.793844011565821\n",
      "[LightGBM] [Warning] bagging_fraction is set=0.7916007384558362, subsample=1.0 will be ignored. Current value: bagging_fraction=0.7916007384558362\n",
      "[LightGBM] [Warning] lambda_l1 is set=4.8383326723072514e-05, reg_alpha=0.0 will be ignored. Current value: lambda_l1=4.8383326723072514e-05\n",
      "[LightGBM] [Warning] lambda_l2 is set=0.7386819381577258, reg_lambda=0.0 will be ignored. Current value: lambda_l2=0.7386819381577258\n",
      "[LightGBM] [Warning] num_iterations is set=811, num_rounds=811 will be ignored. Current value: num_iterations=811\n",
      "[LightGBM] [Warning] feature_fraction is set=0.8314013095442243, colsample_bytree=1.0 will be ignored. Current value: feature_fraction=0.8314013095442243\n",
      "[LightGBM] [Warning] min_data_in_leaf is set=20, min_child_samples=20 will be ignored. Current value: min_data_in_leaf=20\n",
      "[LightGBM] [Warning] min_gain_to_split is set=3.793844011565821, min_split_gain=0.0 will be ignored. Current value: min_gain_to_split=3.793844011565821\n",
      "[LightGBM] [Warning] bagging_fraction is set=0.7916007384558362, subsample=1.0 will be ignored. Current value: bagging_fraction=0.7916007384558362\n",
      "[LightGBM] [Warning] lambda_l1 is set=4.8383326723072514e-05, reg_alpha=0.0 will be ignored. Current value: lambda_l1=4.8383326723072514e-05\n",
      "[LightGBM] [Warning] lambda_l2 is set=0.7386819381577258, reg_lambda=0.0 will be ignored. Current value: lambda_l2=0.7386819381577258\n",
      "[LightGBM] [Warning] num_iterations is set=811, num_rounds=811 will be ignored. Current value: num_iterations=811\n",
      "[LightGBM] [Warning] feature_fraction is set=0.8314013095442243, colsample_bytree=1.0 will be ignored. Current value: feature_fraction=0.8314013095442243\n",
      "[LightGBM] [Warning] min_data_in_leaf is set=20, min_child_samples=20 will be ignored. Current value: min_data_in_leaf=20\n",
      "[LightGBM] [Warning] min_gain_to_split is set=3.793844011565821, min_split_gain=0.0 will be ignored. Current value: min_gain_to_split=3.793844011565821\n",
      "[LightGBM] [Warning] bagging_fraction is set=0.7916007384558362, subsample=1.0 will be ignored. Current value: bagging_fraction=0.7916007384558362\n",
      "[LightGBM] [Warning] lambda_l1 is set=4.8383326723072514e-05, reg_alpha=0.0 will be ignored. Current value: lambda_l1=4.8383326723072514e-05\n",
      "[LightGBM] [Warning] lambda_l2 is set=0.7386819381577258, reg_lambda=0.0 will be ignored. Current value: lambda_l2=0.7386819381577258\n",
      "[LightGBM] [Warning] num_iterations is set=811, num_rounds=811 will be ignored. Current value: num_iterations=811\n"
     ]
    },
    {
     "name": "stdout",
     "output_type": "stream",
     "text": [
      "[LightGBM] [Warning] feature_fraction is set=0.8314013095442243, colsample_bytree=1.0 will be ignored. Current value: feature_fraction=0.8314013095442243\n",
      "[LightGBM] [Warning] min_data_in_leaf is set=20, min_child_samples=20 will be ignored. Current value: min_data_in_leaf=20\n",
      "[LightGBM] [Warning] min_gain_to_split is set=3.793844011565821, min_split_gain=0.0 will be ignored. Current value: min_gain_to_split=3.793844011565821\n",
      "[LightGBM] [Warning] bagging_fraction is set=0.7916007384558362, subsample=1.0 will be ignored. Current value: bagging_fraction=0.7916007384558362\n",
      "[LightGBM] [Warning] lambda_l1 is set=4.8383326723072514e-05, reg_alpha=0.0 will be ignored. Current value: lambda_l1=4.8383326723072514e-05\n",
      "[LightGBM] [Warning] lambda_l2 is set=0.7386819381577258, reg_lambda=0.0 will be ignored. Current value: lambda_l2=0.7386819381577258\n",
      "[LightGBM] [Warning] num_iterations is set=811, num_rounds=811 will be ignored. Current value: num_iterations=811\n"
     ]
    },
    {
     "name": "stderr",
     "output_type": "stream",
     "text": [
      "\u001b[32m[I 2023-05-07 10:57:03,474]\u001b[0m Trial 3 finished with value: 0.8613493795842919 and parameters: {'n_estimators': 981, 'num_rounds': 811, 'learning_rate': 0.002314500791446639, 'num_leaves': 20, 'max_depth': 11, 'min_data_in_leaf': 20, 'lambda_l1': 4.8383326723072514e-05, 'lambda_l2': 0.7386819381577258, 'min_gain_to_split': 3.793844011565821, 'bagging_fraction': 0.7916007384558362, 'feature_fraction': 0.8314013095442243}. Best is trial 2 with value: 0.8697800523076318.\u001b[0m\n"
     ]
    },
    {
     "name": "stdout",
     "output_type": "stream",
     "text": [
      "[LightGBM] [Warning] feature_fraction is set=0.1904417295600937, colsample_bytree=1.0 will be ignored. Current value: feature_fraction=0.1904417295600937\n",
      "[LightGBM] [Warning] min_data_in_leaf is set=69, min_child_samples=20 will be ignored. Current value: min_data_in_leaf=69\n",
      "[LightGBM] [Warning] min_gain_to_split is set=2.5481406108781, min_split_gain=0.0 will be ignored. Current value: min_gain_to_split=2.5481406108781\n",
      "[LightGBM] [Warning] bagging_fraction is set=0.8134600766719878, subsample=1.0 will be ignored. Current value: bagging_fraction=0.8134600766719878\n",
      "[LightGBM] [Warning] lambda_l1 is set=1.0795711971901716e-06, reg_alpha=0.0 will be ignored. Current value: lambda_l1=1.0795711971901716e-06\n",
      "[LightGBM] [Warning] lambda_l2 is set=1.7702130221827277e-06, reg_lambda=0.0 will be ignored. Current value: lambda_l2=1.7702130221827277e-06\n",
      "[LightGBM] [Warning] num_iterations is set=577, num_rounds=577 will be ignored. Current value: num_iterations=577\n",
      "[LightGBM] [Warning] feature_fraction is set=0.1904417295600937, colsample_bytree=1.0 will be ignored. Current value: feature_fraction=0.1904417295600937\n",
      "[LightGBM] [Warning] min_data_in_leaf is set=69, min_child_samples=20 will be ignored. Current value: min_data_in_leaf=69\n",
      "[LightGBM] [Warning] min_gain_to_split is set=2.5481406108781, min_split_gain=0.0 will be ignored. Current value: min_gain_to_split=2.5481406108781\n",
      "[LightGBM] [Warning] bagging_fraction is set=0.8134600766719878, subsample=1.0 will be ignored. Current value: bagging_fraction=0.8134600766719878\n",
      "[LightGBM] [Warning] lambda_l1 is set=1.0795711971901716e-06, reg_alpha=0.0 will be ignored. Current value: lambda_l1=1.0795711971901716e-06\n",
      "[LightGBM] [Warning] lambda_l2 is set=1.7702130221827277e-06, reg_lambda=0.0 will be ignored. Current value: lambda_l2=1.7702130221827277e-06\n",
      "[LightGBM] [Warning] num_iterations is set=577, num_rounds=577 will be ignored. Current value: num_iterations=577\n",
      "[LightGBM] [Warning] feature_fraction is set=0.1904417295600937, colsample_bytree=1.0 will be ignored. Current value: feature_fraction=0.1904417295600937\n",
      "[LightGBM] [Warning] min_data_in_leaf is set=69, min_child_samples=20 will be ignored. Current value: min_data_in_leaf=69\n",
      "[LightGBM] [Warning] min_gain_to_split is set=2.5481406108781, min_split_gain=0.0 will be ignored. Current value: min_gain_to_split=2.5481406108781\n",
      "[LightGBM] [Warning] bagging_fraction is set=0.8134600766719878, subsample=1.0 will be ignored. Current value: bagging_fraction=0.8134600766719878\n",
      "[LightGBM] [Warning] lambda_l1 is set=1.0795711971901716e-06, reg_alpha=0.0 will be ignored. Current value: lambda_l1=1.0795711971901716e-06\n",
      "[LightGBM] [Warning] lambda_l2 is set=1.7702130221827277e-06, reg_lambda=0.0 will be ignored. Current value: lambda_l2=1.7702130221827277e-06\n",
      "[LightGBM] [Warning] num_iterations is set=577, num_rounds=577 will be ignored. Current value: num_iterations=577\n",
      "[LightGBM] [Warning] feature_fraction is set=0.1904417295600937, colsample_bytree=1.0 will be ignored. Current value: feature_fraction=0.1904417295600937\n",
      "[LightGBM] [Warning] min_data_in_leaf is set=69, min_child_samples=20 will be ignored. Current value: min_data_in_leaf=69\n",
      "[LightGBM] [Warning] min_gain_to_split is set=2.5481406108781, min_split_gain=0.0 will be ignored. Current value: min_gain_to_split=2.5481406108781\n",
      "[LightGBM] [Warning] bagging_fraction is set=0.8134600766719878, subsample=1.0 will be ignored. Current value: bagging_fraction=0.8134600766719878\n",
      "[LightGBM] [Warning] lambda_l1 is set=1.0795711971901716e-06, reg_alpha=0.0 will be ignored. Current value: lambda_l1=1.0795711971901716e-06\n",
      "[LightGBM] [Warning] lambda_l2 is set=1.7702130221827277e-06, reg_lambda=0.0 will be ignored. Current value: lambda_l2=1.7702130221827277e-06\n",
      "[LightGBM] [Warning] num_iterations is set=577, num_rounds=577 will be ignored. Current value: num_iterations=577\n",
      "[LightGBM] [Warning] feature_fraction is set=0.1904417295600937, colsample_bytree=1.0 will be ignored. Current value: feature_fraction=0.1904417295600937\n",
      "[LightGBM] [Warning] min_data_in_leaf is set=69, min_child_samples=20 will be ignored. Current value: min_data_in_leaf=69\n",
      "[LightGBM] [Warning] min_gain_to_split is set=2.5481406108781, min_split_gain=0.0 will be ignored. Current value: min_gain_to_split=2.5481406108781\n",
      "[LightGBM] [Warning] bagging_fraction is set=0.8134600766719878, subsample=1.0 will be ignored. Current value: bagging_fraction=0.8134600766719878\n",
      "[LightGBM] [Warning] lambda_l1 is set=1.0795711971901716e-06, reg_alpha=0.0 will be ignored. Current value: lambda_l1=1.0795711971901716e-06\n",
      "[LightGBM] [Warning] lambda_l2 is set=1.7702130221827277e-06, reg_lambda=0.0 will be ignored. Current value: lambda_l2=1.7702130221827277e-06\n",
      "[LightGBM] [Warning] num_iterations is set=577, num_rounds=577 will be ignored. Current value: num_iterations=577\n",
      "[LightGBM] [Warning] feature_fraction is set=0.1904417295600937, colsample_bytree=1.0 will be ignored. Current value: feature_fraction=0.1904417295600937\n",
      "[LightGBM] [Warning] min_data_in_leaf is set=69, min_child_samples=20 will be ignored. Current value: min_data_in_leaf=69\n",
      "[LightGBM] [Warning] min_gain_to_split is set=2.5481406108781, min_split_gain=0.0 will be ignored. Current value: min_gain_to_split=2.5481406108781\n",
      "[LightGBM] [Warning] bagging_fraction is set=0.8134600766719878, subsample=1.0 will be ignored. Current value: bagging_fraction=0.8134600766719878\n",
      "[LightGBM] [Warning] lambda_l1 is set=1.0795711971901716e-06, reg_alpha=0.0 will be ignored. Current value: lambda_l1=1.0795711971901716e-06\n",
      "[LightGBM] [Warning] lambda_l2 is set=1.7702130221827277e-06, reg_lambda=0.0 will be ignored. Current value: lambda_l2=1.7702130221827277e-06\n",
      "[LightGBM] [Warning] num_iterations is set=577, num_rounds=577 will be ignored. Current value: num_iterations=577\n",
      "[LightGBM] [Warning] feature_fraction is set=0.1904417295600937, colsample_bytree=1.0 will be ignored. Current value: feature_fraction=0.1904417295600937\n",
      "[LightGBM] [Warning] min_data_in_leaf is set=69, min_child_samples=20 will be ignored. Current value: min_data_in_leaf=69\n",
      "[LightGBM] [Warning] min_gain_to_split is set=2.5481406108781, min_split_gain=0.0 will be ignored. Current value: min_gain_to_split=2.5481406108781\n",
      "[LightGBM] [Warning] bagging_fraction is set=0.8134600766719878, subsample=1.0 will be ignored. Current value: bagging_fraction=0.8134600766719878\n",
      "[LightGBM] [Warning] lambda_l1 is set=1.0795711971901716e-06, reg_alpha=0.0 will be ignored. Current value: lambda_l1=1.0795711971901716e-06\n",
      "[LightGBM] [Warning] lambda_l2 is set=1.7702130221827277e-06, reg_lambda=0.0 will be ignored. Current value: lambda_l2=1.7702130221827277e-06\n",
      "[LightGBM] [Warning] num_iterations is set=577, num_rounds=577 will be ignored. Current value: num_iterations=577\n",
      "[LightGBM] [Warning] feature_fraction is set=0.1904417295600937, colsample_bytree=1.0 will be ignored. Current value: feature_fraction=0.1904417295600937\n",
      "[LightGBM] [Warning] min_data_in_leaf is set=69, min_child_samples=20 will be ignored. Current value: min_data_in_leaf=69\n",
      "[LightGBM] [Warning] min_gain_to_split is set=2.5481406108781, min_split_gain=0.0 will be ignored. Current value: min_gain_to_split=2.5481406108781\n",
      "[LightGBM] [Warning] bagging_fraction is set=0.8134600766719878, subsample=1.0 will be ignored. Current value: bagging_fraction=0.8134600766719878\n",
      "[LightGBM] [Warning] lambda_l1 is set=1.0795711971901716e-06, reg_alpha=0.0 will be ignored. Current value: lambda_l1=1.0795711971901716e-06\n",
      "[LightGBM] [Warning] lambda_l2 is set=1.7702130221827277e-06, reg_lambda=0.0 will be ignored. Current value: lambda_l2=1.7702130221827277e-06\n",
      "[LightGBM] [Warning] num_iterations is set=577, num_rounds=577 will be ignored. Current value: num_iterations=577\n",
      "[LightGBM] [Warning] feature_fraction is set=0.1904417295600937, colsample_bytree=1.0 will be ignored. Current value: feature_fraction=0.1904417295600937\n",
      "[LightGBM] [Warning] min_data_in_leaf is set=69, min_child_samples=20 will be ignored. Current value: min_data_in_leaf=69\n",
      "[LightGBM] [Warning] min_gain_to_split is set=2.5481406108781, min_split_gain=0.0 will be ignored. Current value: min_gain_to_split=2.5481406108781\n",
      "[LightGBM] [Warning] bagging_fraction is set=0.8134600766719878, subsample=1.0 will be ignored. Current value: bagging_fraction=0.8134600766719878\n",
      "[LightGBM] [Warning] lambda_l1 is set=1.0795711971901716e-06, reg_alpha=0.0 will be ignored. Current value: lambda_l1=1.0795711971901716e-06\n",
      "[LightGBM] [Warning] lambda_l2 is set=1.7702130221827277e-06, reg_lambda=0.0 will be ignored. Current value: lambda_l2=1.7702130221827277e-06\n",
      "[LightGBM] [Warning] num_iterations is set=577, num_rounds=577 will be ignored. Current value: num_iterations=577\n",
      "[LightGBM] [Warning] feature_fraction is set=0.1904417295600937, colsample_bytree=1.0 will be ignored. Current value: feature_fraction=0.1904417295600937\n",
      "[LightGBM] [Warning] min_data_in_leaf is set=69, min_child_samples=20 will be ignored. Current value: min_data_in_leaf=69\n",
      "[LightGBM] [Warning] min_gain_to_split is set=2.5481406108781, min_split_gain=0.0 will be ignored. Current value: min_gain_to_split=2.5481406108781\n",
      "[LightGBM] [Warning] bagging_fraction is set=0.8134600766719878, subsample=1.0 will be ignored. Current value: bagging_fraction=0.8134600766719878\n",
      "[LightGBM] [Warning] lambda_l1 is set=1.0795711971901716e-06, reg_alpha=0.0 will be ignored. Current value: lambda_l1=1.0795711971901716e-06\n",
      "[LightGBM] [Warning] lambda_l2 is set=1.7702130221827277e-06, reg_lambda=0.0 will be ignored. Current value: lambda_l2=1.7702130221827277e-06\n",
      "[LightGBM] [Warning] num_iterations is set=577, num_rounds=577 will be ignored. Current value: num_iterations=577\n"
     ]
    },
    {
     "name": "stderr",
     "output_type": "stream",
     "text": [
      "\u001b[32m[I 2023-05-07 10:57:05,244]\u001b[0m Trial 4 finished with value: 0.8632843686704815 and parameters: {'n_estimators': 365, 'num_rounds': 577, 'learning_rate': 0.0030511348822672875, 'num_leaves': 476, 'max_depth': 10, 'min_data_in_leaf': 69, 'lambda_l1': 1.0795711971901716e-06, 'lambda_l2': 1.7702130221827277e-06, 'min_gain_to_split': 2.5481406108781, 'bagging_fraction': 0.8134600766719878, 'feature_fraction': 0.1904417295600937}. Best is trial 2 with value: 0.8697800523076318.\u001b[0m\n"
     ]
    },
    {
     "name": "stdout",
     "output_type": "stream",
     "text": [
      "[LightGBM] [Warning] feature_fraction is set=0.6233361523376112, colsample_bytree=1.0 will be ignored. Current value: feature_fraction=0.6233361523376112\n",
      "[LightGBM] [Warning] min_data_in_leaf is set=14, min_child_samples=20 will be ignored. Current value: min_data_in_leaf=14\n",
      "[LightGBM] [Warning] min_gain_to_split is set=0.4313098900324275, min_split_gain=0.0 will be ignored. Current value: min_gain_to_split=0.4313098900324275\n",
      "[LightGBM] [Warning] bagging_fraction is set=0.49605080522094824, subsample=1.0 will be ignored. Current value: bagging_fraction=0.49605080522094824\n",
      "[LightGBM] [Warning] lambda_l1 is set=8.156843216708114e-07, reg_alpha=0.0 will be ignored. Current value: lambda_l1=8.156843216708114e-07\n",
      "[LightGBM] [Warning] lambda_l2 is set=0.0033313237315198375, reg_lambda=0.0 will be ignored. Current value: lambda_l2=0.0033313237315198375\n",
      "[LightGBM] [Warning] num_iterations is set=468, num_rounds=468 will be ignored. Current value: num_iterations=468\n",
      "[LightGBM] [Warning] feature_fraction is set=0.6233361523376112, colsample_bytree=1.0 will be ignored. Current value: feature_fraction=0.6233361523376112\n",
      "[LightGBM] [Warning] min_data_in_leaf is set=14, min_child_samples=20 will be ignored. Current value: min_data_in_leaf=14\n",
      "[LightGBM] [Warning] min_gain_to_split is set=0.4313098900324275, min_split_gain=0.0 will be ignored. Current value: min_gain_to_split=0.4313098900324275\n",
      "[LightGBM] [Warning] bagging_fraction is set=0.49605080522094824, subsample=1.0 will be ignored. Current value: bagging_fraction=0.49605080522094824\n",
      "[LightGBM] [Warning] lambda_l1 is set=8.156843216708114e-07, reg_alpha=0.0 will be ignored. Current value: lambda_l1=8.156843216708114e-07\n",
      "[LightGBM] [Warning] lambda_l2 is set=0.0033313237315198375, reg_lambda=0.0 will be ignored. Current value: lambda_l2=0.0033313237315198375\n",
      "[LightGBM] [Warning] num_iterations is set=468, num_rounds=468 will be ignored. Current value: num_iterations=468\n",
      "[LightGBM] [Warning] feature_fraction is set=0.6233361523376112, colsample_bytree=1.0 will be ignored. Current value: feature_fraction=0.6233361523376112\n",
      "[LightGBM] [Warning] min_data_in_leaf is set=14, min_child_samples=20 will be ignored. Current value: min_data_in_leaf=14\n",
      "[LightGBM] [Warning] min_gain_to_split is set=0.4313098900324275, min_split_gain=0.0 will be ignored. Current value: min_gain_to_split=0.4313098900324275\n",
      "[LightGBM] [Warning] bagging_fraction is set=0.49605080522094824, subsample=1.0 will be ignored. Current value: bagging_fraction=0.49605080522094824\n",
      "[LightGBM] [Warning] lambda_l1 is set=8.156843216708114e-07, reg_alpha=0.0 will be ignored. Current value: lambda_l1=8.156843216708114e-07\n",
      "[LightGBM] [Warning] lambda_l2 is set=0.0033313237315198375, reg_lambda=0.0 will be ignored. Current value: lambda_l2=0.0033313237315198375\n",
      "[LightGBM] [Warning] num_iterations is set=468, num_rounds=468 will be ignored. Current value: num_iterations=468\n",
      "[LightGBM] [Warning] feature_fraction is set=0.6233361523376112, colsample_bytree=1.0 will be ignored. Current value: feature_fraction=0.6233361523376112\n",
      "[LightGBM] [Warning] min_data_in_leaf is set=14, min_child_samples=20 will be ignored. Current value: min_data_in_leaf=14\n",
      "[LightGBM] [Warning] min_gain_to_split is set=0.4313098900324275, min_split_gain=0.0 will be ignored. Current value: min_gain_to_split=0.4313098900324275\n",
      "[LightGBM] [Warning] bagging_fraction is set=0.49605080522094824, subsample=1.0 will be ignored. Current value: bagging_fraction=0.49605080522094824\n",
      "[LightGBM] [Warning] lambda_l1 is set=8.156843216708114e-07, reg_alpha=0.0 will be ignored. Current value: lambda_l1=8.156843216708114e-07\n",
      "[LightGBM] [Warning] lambda_l2 is set=0.0033313237315198375, reg_lambda=0.0 will be ignored. Current value: lambda_l2=0.0033313237315198375\n",
      "[LightGBM] [Warning] num_iterations is set=468, num_rounds=468 will be ignored. Current value: num_iterations=468\n",
      "[LightGBM] [Warning] feature_fraction is set=0.6233361523376112, colsample_bytree=1.0 will be ignored. Current value: feature_fraction=0.6233361523376112\n",
      "[LightGBM] [Warning] min_data_in_leaf is set=14, min_child_samples=20 will be ignored. Current value: min_data_in_leaf=14\n",
      "[LightGBM] [Warning] min_gain_to_split is set=0.4313098900324275, min_split_gain=0.0 will be ignored. Current value: min_gain_to_split=0.4313098900324275\n",
      "[LightGBM] [Warning] bagging_fraction is set=0.49605080522094824, subsample=1.0 will be ignored. Current value: bagging_fraction=0.49605080522094824\n",
      "[LightGBM] [Warning] lambda_l1 is set=8.156843216708114e-07, reg_alpha=0.0 will be ignored. Current value: lambda_l1=8.156843216708114e-07\n",
      "[LightGBM] [Warning] lambda_l2 is set=0.0033313237315198375, reg_lambda=0.0 will be ignored. Current value: lambda_l2=0.0033313237315198375\n",
      "[LightGBM] [Warning] num_iterations is set=468, num_rounds=468 will be ignored. Current value: num_iterations=468\n",
      "[LightGBM] [Warning] feature_fraction is set=0.6233361523376112, colsample_bytree=1.0 will be ignored. Current value: feature_fraction=0.6233361523376112\n",
      "[LightGBM] [Warning] min_data_in_leaf is set=14, min_child_samples=20 will be ignored. Current value: min_data_in_leaf=14\n",
      "[LightGBM] [Warning] min_gain_to_split is set=0.4313098900324275, min_split_gain=0.0 will be ignored. Current value: min_gain_to_split=0.4313098900324275\n",
      "[LightGBM] [Warning] bagging_fraction is set=0.49605080522094824, subsample=1.0 will be ignored. Current value: bagging_fraction=0.49605080522094824\n",
      "[LightGBM] [Warning] lambda_l1 is set=8.156843216708114e-07, reg_alpha=0.0 will be ignored. Current value: lambda_l1=8.156843216708114e-07\n",
      "[LightGBM] [Warning] lambda_l2 is set=0.0033313237315198375, reg_lambda=0.0 will be ignored. Current value: lambda_l2=0.0033313237315198375\n",
      "[LightGBM] [Warning] num_iterations is set=468, num_rounds=468 will be ignored. Current value: num_iterations=468\n",
      "[LightGBM] [Warning] feature_fraction is set=0.6233361523376112, colsample_bytree=1.0 will be ignored. Current value: feature_fraction=0.6233361523376112\n",
      "[LightGBM] [Warning] min_data_in_leaf is set=14, min_child_samples=20 will be ignored. Current value: min_data_in_leaf=14\n",
      "[LightGBM] [Warning] min_gain_to_split is set=0.4313098900324275, min_split_gain=0.0 will be ignored. Current value: min_gain_to_split=0.4313098900324275\n",
      "[LightGBM] [Warning] bagging_fraction is set=0.49605080522094824, subsample=1.0 will be ignored. Current value: bagging_fraction=0.49605080522094824\n",
      "[LightGBM] [Warning] lambda_l1 is set=8.156843216708114e-07, reg_alpha=0.0 will be ignored. Current value: lambda_l1=8.156843216708114e-07\n",
      "[LightGBM] [Warning] lambda_l2 is set=0.0033313237315198375, reg_lambda=0.0 will be ignored. Current value: lambda_l2=0.0033313237315198375\n",
      "[LightGBM] [Warning] num_iterations is set=468, num_rounds=468 will be ignored. Current value: num_iterations=468\n",
      "[LightGBM] [Warning] feature_fraction is set=0.6233361523376112, colsample_bytree=1.0 will be ignored. Current value: feature_fraction=0.6233361523376112\n",
      "[LightGBM] [Warning] min_data_in_leaf is set=14, min_child_samples=20 will be ignored. Current value: min_data_in_leaf=14\n",
      "[LightGBM] [Warning] min_gain_to_split is set=0.4313098900324275, min_split_gain=0.0 will be ignored. Current value: min_gain_to_split=0.4313098900324275\n",
      "[LightGBM] [Warning] bagging_fraction is set=0.49605080522094824, subsample=1.0 will be ignored. Current value: bagging_fraction=0.49605080522094824\n",
      "[LightGBM] [Warning] lambda_l1 is set=8.156843216708114e-07, reg_alpha=0.0 will be ignored. Current value: lambda_l1=8.156843216708114e-07\n",
      "[LightGBM] [Warning] lambda_l2 is set=0.0033313237315198375, reg_lambda=0.0 will be ignored. Current value: lambda_l2=0.0033313237315198375\n",
      "[LightGBM] [Warning] num_iterations is set=468, num_rounds=468 will be ignored. Current value: num_iterations=468\n",
      "[LightGBM] [Warning] feature_fraction is set=0.6233361523376112, colsample_bytree=1.0 will be ignored. Current value: feature_fraction=0.6233361523376112\n",
      "[LightGBM] [Warning] min_data_in_leaf is set=14, min_child_samples=20 will be ignored. Current value: min_data_in_leaf=14\n",
      "[LightGBM] [Warning] min_gain_to_split is set=0.4313098900324275, min_split_gain=0.0 will be ignored. Current value: min_gain_to_split=0.4313098900324275\n",
      "[LightGBM] [Warning] bagging_fraction is set=0.49605080522094824, subsample=1.0 will be ignored. Current value: bagging_fraction=0.49605080522094824\n",
      "[LightGBM] [Warning] lambda_l1 is set=8.156843216708114e-07, reg_alpha=0.0 will be ignored. Current value: lambda_l1=8.156843216708114e-07\n",
      "[LightGBM] [Warning] lambda_l2 is set=0.0033313237315198375, reg_lambda=0.0 will be ignored. Current value: lambda_l2=0.0033313237315198375\n",
      "[LightGBM] [Warning] num_iterations is set=468, num_rounds=468 will be ignored. Current value: num_iterations=468\n"
     ]
    },
    {
     "name": "stdout",
     "output_type": "stream",
     "text": [
      "[LightGBM] [Warning] feature_fraction is set=0.6233361523376112, colsample_bytree=1.0 will be ignored. Current value: feature_fraction=0.6233361523376112\n",
      "[LightGBM] [Warning] min_data_in_leaf is set=14, min_child_samples=20 will be ignored. Current value: min_data_in_leaf=14\n",
      "[LightGBM] [Warning] min_gain_to_split is set=0.4313098900324275, min_split_gain=0.0 will be ignored. Current value: min_gain_to_split=0.4313098900324275\n",
      "[LightGBM] [Warning] bagging_fraction is set=0.49605080522094824, subsample=1.0 will be ignored. Current value: bagging_fraction=0.49605080522094824\n",
      "[LightGBM] [Warning] lambda_l1 is set=8.156843216708114e-07, reg_alpha=0.0 will be ignored. Current value: lambda_l1=8.156843216708114e-07\n",
      "[LightGBM] [Warning] lambda_l2 is set=0.0033313237315198375, reg_lambda=0.0 will be ignored. Current value: lambda_l2=0.0033313237315198375\n",
      "[LightGBM] [Warning] num_iterations is set=468, num_rounds=468 will be ignored. Current value: num_iterations=468\n"
     ]
    },
    {
     "name": "stderr",
     "output_type": "stream",
     "text": [
      "\u001b[32m[I 2023-05-07 10:57:07,944]\u001b[0m Trial 5 finished with value: 0.859727056417517 and parameters: {'n_estimators': 778, 'num_rounds': 468, 'learning_rate': 0.0016099196088321264, 'num_leaves': 117, 'max_depth': 5, 'min_data_in_leaf': 14, 'lambda_l1': 8.156843216708114e-07, 'lambda_l2': 0.0033313237315198375, 'min_gain_to_split': 0.4313098900324275, 'bagging_fraction': 0.49605080522094824, 'feature_fraction': 0.6233361523376112}. Best is trial 2 with value: 0.8697800523076318.\u001b[0m\n"
     ]
    },
    {
     "name": "stdout",
     "output_type": "stream",
     "text": [
      "[LightGBM] [Warning] feature_fraction is set=0.7503662867531303, colsample_bytree=1.0 will be ignored. Current value: feature_fraction=0.7503662867531303\n",
      "[LightGBM] [Warning] min_data_in_leaf is set=79, min_child_samples=20 will be ignored. Current value: min_data_in_leaf=79\n",
      "[LightGBM] [Warning] min_gain_to_split is set=4.944053272523419, min_split_gain=0.0 will be ignored. Current value: min_gain_to_split=4.944053272523419\n",
      "[LightGBM] [Warning] bagging_fraction is set=0.5077841653465035, subsample=1.0 will be ignored. Current value: bagging_fraction=0.5077841653465035\n",
      "[LightGBM] [Warning] lambda_l1 is set=9.13042068750366e-05, reg_alpha=0.0 will be ignored. Current value: lambda_l1=9.13042068750366e-05\n",
      "[LightGBM] [Warning] lambda_l2 is set=2.008634542852945e-06, reg_lambda=0.0 will be ignored. Current value: lambda_l2=2.008634542852945e-06\n",
      "[LightGBM] [Warning] num_iterations is set=887, num_rounds=887 will be ignored. Current value: num_iterations=887\n",
      "[LightGBM] [Warning] feature_fraction is set=0.7503662867531303, colsample_bytree=1.0 will be ignored. Current value: feature_fraction=0.7503662867531303\n",
      "[LightGBM] [Warning] min_data_in_leaf is set=79, min_child_samples=20 will be ignored. Current value: min_data_in_leaf=79\n",
      "[LightGBM] [Warning] min_gain_to_split is set=4.944053272523419, min_split_gain=0.0 will be ignored. Current value: min_gain_to_split=4.944053272523419\n",
      "[LightGBM] [Warning] bagging_fraction is set=0.5077841653465035, subsample=1.0 will be ignored. Current value: bagging_fraction=0.5077841653465035\n",
      "[LightGBM] [Warning] lambda_l1 is set=9.13042068750366e-05, reg_alpha=0.0 will be ignored. Current value: lambda_l1=9.13042068750366e-05\n",
      "[LightGBM] [Warning] lambda_l2 is set=2.008634542852945e-06, reg_lambda=0.0 will be ignored. Current value: lambda_l2=2.008634542852945e-06\n",
      "[LightGBM] [Warning] num_iterations is set=887, num_rounds=887 will be ignored. Current value: num_iterations=887\n",
      "[LightGBM] [Warning] feature_fraction is set=0.7503662867531303, colsample_bytree=1.0 will be ignored. Current value: feature_fraction=0.7503662867531303\n",
      "[LightGBM] [Warning] min_data_in_leaf is set=79, min_child_samples=20 will be ignored. Current value: min_data_in_leaf=79\n",
      "[LightGBM] [Warning] min_gain_to_split is set=4.944053272523419, min_split_gain=0.0 will be ignored. Current value: min_gain_to_split=4.944053272523419\n",
      "[LightGBM] [Warning] bagging_fraction is set=0.5077841653465035, subsample=1.0 will be ignored. Current value: bagging_fraction=0.5077841653465035\n",
      "[LightGBM] [Warning] lambda_l1 is set=9.13042068750366e-05, reg_alpha=0.0 will be ignored. Current value: lambda_l1=9.13042068750366e-05\n",
      "[LightGBM] [Warning] lambda_l2 is set=2.008634542852945e-06, reg_lambda=0.0 will be ignored. Current value: lambda_l2=2.008634542852945e-06\n",
      "[LightGBM] [Warning] num_iterations is set=887, num_rounds=887 will be ignored. Current value: num_iterations=887\n",
      "[LightGBM] [Warning] feature_fraction is set=0.7503662867531303, colsample_bytree=1.0 will be ignored. Current value: feature_fraction=0.7503662867531303\n",
      "[LightGBM] [Warning] min_data_in_leaf is set=79, min_child_samples=20 will be ignored. Current value: min_data_in_leaf=79\n",
      "[LightGBM] [Warning] min_gain_to_split is set=4.944053272523419, min_split_gain=0.0 will be ignored. Current value: min_gain_to_split=4.944053272523419\n",
      "[LightGBM] [Warning] bagging_fraction is set=0.5077841653465035, subsample=1.0 will be ignored. Current value: bagging_fraction=0.5077841653465035\n",
      "[LightGBM] [Warning] lambda_l1 is set=9.13042068750366e-05, reg_alpha=0.0 will be ignored. Current value: lambda_l1=9.13042068750366e-05\n",
      "[LightGBM] [Warning] lambda_l2 is set=2.008634542852945e-06, reg_lambda=0.0 will be ignored. Current value: lambda_l2=2.008634542852945e-06\n",
      "[LightGBM] [Warning] num_iterations is set=887, num_rounds=887 will be ignored. Current value: num_iterations=887\n",
      "[LightGBM] [Warning] feature_fraction is set=0.7503662867531303, colsample_bytree=1.0 will be ignored. Current value: feature_fraction=0.7503662867531303\n",
      "[LightGBM] [Warning] min_data_in_leaf is set=79, min_child_samples=20 will be ignored. Current value: min_data_in_leaf=79\n",
      "[LightGBM] [Warning] min_gain_to_split is set=4.944053272523419, min_split_gain=0.0 will be ignored. Current value: min_gain_to_split=4.944053272523419\n",
      "[LightGBM] [Warning] bagging_fraction is set=0.5077841653465035, subsample=1.0 will be ignored. Current value: bagging_fraction=0.5077841653465035\n",
      "[LightGBM] [Warning] lambda_l1 is set=9.13042068750366e-05, reg_alpha=0.0 will be ignored. Current value: lambda_l1=9.13042068750366e-05\n",
      "[LightGBM] [Warning] lambda_l2 is set=2.008634542852945e-06, reg_lambda=0.0 will be ignored. Current value: lambda_l2=2.008634542852945e-06\n",
      "[LightGBM] [Warning] num_iterations is set=887, num_rounds=887 will be ignored. Current value: num_iterations=887\n",
      "[LightGBM] [Warning] feature_fraction is set=0.7503662867531303, colsample_bytree=1.0 will be ignored. Current value: feature_fraction=0.7503662867531303\n",
      "[LightGBM] [Warning] min_data_in_leaf is set=79, min_child_samples=20 will be ignored. Current value: min_data_in_leaf=79\n",
      "[LightGBM] [Warning] min_gain_to_split is set=4.944053272523419, min_split_gain=0.0 will be ignored. Current value: min_gain_to_split=4.944053272523419\n",
      "[LightGBM] [Warning] bagging_fraction is set=0.5077841653465035, subsample=1.0 will be ignored. Current value: bagging_fraction=0.5077841653465035\n",
      "[LightGBM] [Warning] lambda_l1 is set=9.13042068750366e-05, reg_alpha=0.0 will be ignored. Current value: lambda_l1=9.13042068750366e-05\n",
      "[LightGBM] [Warning] lambda_l2 is set=2.008634542852945e-06, reg_lambda=0.0 will be ignored. Current value: lambda_l2=2.008634542852945e-06\n",
      "[LightGBM] [Warning] num_iterations is set=887, num_rounds=887 will be ignored. Current value: num_iterations=887\n",
      "[LightGBM] [Warning] feature_fraction is set=0.7503662867531303, colsample_bytree=1.0 will be ignored. Current value: feature_fraction=0.7503662867531303\n",
      "[LightGBM] [Warning] min_data_in_leaf is set=79, min_child_samples=20 will be ignored. Current value: min_data_in_leaf=79\n",
      "[LightGBM] [Warning] min_gain_to_split is set=4.944053272523419, min_split_gain=0.0 will be ignored. Current value: min_gain_to_split=4.944053272523419\n",
      "[LightGBM] [Warning] bagging_fraction is set=0.5077841653465035, subsample=1.0 will be ignored. Current value: bagging_fraction=0.5077841653465035\n",
      "[LightGBM] [Warning] lambda_l1 is set=9.13042068750366e-05, reg_alpha=0.0 will be ignored. Current value: lambda_l1=9.13042068750366e-05\n",
      "[LightGBM] [Warning] lambda_l2 is set=2.008634542852945e-06, reg_lambda=0.0 will be ignored. Current value: lambda_l2=2.008634542852945e-06\n",
      "[LightGBM] [Warning] num_iterations is set=887, num_rounds=887 will be ignored. Current value: num_iterations=887\n",
      "[LightGBM] [Warning] feature_fraction is set=0.7503662867531303, colsample_bytree=1.0 will be ignored. Current value: feature_fraction=0.7503662867531303\n",
      "[LightGBM] [Warning] min_data_in_leaf is set=79, min_child_samples=20 will be ignored. Current value: min_data_in_leaf=79\n",
      "[LightGBM] [Warning] min_gain_to_split is set=4.944053272523419, min_split_gain=0.0 will be ignored. Current value: min_gain_to_split=4.944053272523419\n",
      "[LightGBM] [Warning] bagging_fraction is set=0.5077841653465035, subsample=1.0 will be ignored. Current value: bagging_fraction=0.5077841653465035\n",
      "[LightGBM] [Warning] lambda_l1 is set=9.13042068750366e-05, reg_alpha=0.0 will be ignored. Current value: lambda_l1=9.13042068750366e-05\n",
      "[LightGBM] [Warning] lambda_l2 is set=2.008634542852945e-06, reg_lambda=0.0 will be ignored. Current value: lambda_l2=2.008634542852945e-06\n",
      "[LightGBM] [Warning] num_iterations is set=887, num_rounds=887 will be ignored. Current value: num_iterations=887\n",
      "[LightGBM] [Warning] feature_fraction is set=0.7503662867531303, colsample_bytree=1.0 will be ignored. Current value: feature_fraction=0.7503662867531303\n",
      "[LightGBM] [Warning] min_data_in_leaf is set=79, min_child_samples=20 will be ignored. Current value: min_data_in_leaf=79\n",
      "[LightGBM] [Warning] min_gain_to_split is set=4.944053272523419, min_split_gain=0.0 will be ignored. Current value: min_gain_to_split=4.944053272523419\n",
      "[LightGBM] [Warning] bagging_fraction is set=0.5077841653465035, subsample=1.0 will be ignored. Current value: bagging_fraction=0.5077841653465035\n",
      "[LightGBM] [Warning] lambda_l1 is set=9.13042068750366e-05, reg_alpha=0.0 will be ignored. Current value: lambda_l1=9.13042068750366e-05\n",
      "[LightGBM] [Warning] lambda_l2 is set=2.008634542852945e-06, reg_lambda=0.0 will be ignored. Current value: lambda_l2=2.008634542852945e-06\n",
      "[LightGBM] [Warning] num_iterations is set=887, num_rounds=887 will be ignored. Current value: num_iterations=887\n"
     ]
    },
    {
     "name": "stdout",
     "output_type": "stream",
     "text": [
      "[LightGBM] [Warning] feature_fraction is set=0.7503662867531303, colsample_bytree=1.0 will be ignored. Current value: feature_fraction=0.7503662867531303\n",
      "[LightGBM] [Warning] min_data_in_leaf is set=79, min_child_samples=20 will be ignored. Current value: min_data_in_leaf=79\n",
      "[LightGBM] [Warning] min_gain_to_split is set=4.944053272523419, min_split_gain=0.0 will be ignored. Current value: min_gain_to_split=4.944053272523419\n",
      "[LightGBM] [Warning] bagging_fraction is set=0.5077841653465035, subsample=1.0 will be ignored. Current value: bagging_fraction=0.5077841653465035\n",
      "[LightGBM] [Warning] lambda_l1 is set=9.13042068750366e-05, reg_alpha=0.0 will be ignored. Current value: lambda_l1=9.13042068750366e-05\n",
      "[LightGBM] [Warning] lambda_l2 is set=2.008634542852945e-06, reg_lambda=0.0 will be ignored. Current value: lambda_l2=2.008634542852945e-06\n",
      "[LightGBM] [Warning] num_iterations is set=887, num_rounds=887 will be ignored. Current value: num_iterations=887\n"
     ]
    },
    {
     "name": "stderr",
     "output_type": "stream",
     "text": [
      "\u001b[32m[I 2023-05-07 10:57:10,547]\u001b[0m Trial 6 finished with value: 0.8556043891215858 and parameters: {'n_estimators': 403, 'num_rounds': 887, 'learning_rate': 0.001681205722754157, 'num_leaves': 271, 'max_depth': 10, 'min_data_in_leaf': 79, 'lambda_l1': 9.13042068750366e-05, 'lambda_l2': 2.008634542852945e-06, 'min_gain_to_split': 4.944053272523419, 'bagging_fraction': 0.5077841653465035, 'feature_fraction': 0.7503662867531303}. Best is trial 2 with value: 0.8697800523076318.\u001b[0m\n"
     ]
    },
    {
     "name": "stdout",
     "output_type": "stream",
     "text": [
      "[LightGBM] [Warning] feature_fraction is set=0.7282141325645685, colsample_bytree=1.0 will be ignored. Current value: feature_fraction=0.7282141325645685\n",
      "[LightGBM] [Warning] min_data_in_leaf is set=95, min_child_samples=20 will be ignored. Current value: min_data_in_leaf=95\n",
      "[LightGBM] [Warning] min_gain_to_split is set=2.976984599879482, min_split_gain=0.0 will be ignored. Current value: min_gain_to_split=2.976984599879482\n",
      "[LightGBM] [Warning] bagging_fraction is set=0.7907263759437492, subsample=1.0 will be ignored. Current value: bagging_fraction=0.7907263759437492\n",
      "[LightGBM] [Warning] lambda_l1 is set=8.282440010720995, reg_alpha=0.0 will be ignored. Current value: lambda_l1=8.282440010720995\n",
      "[LightGBM] [Warning] lambda_l2 is set=0.0001369660193686484, reg_lambda=0.0 will be ignored. Current value: lambda_l2=0.0001369660193686484\n",
      "[LightGBM] [Warning] num_iterations is set=473, num_rounds=473 will be ignored. Current value: num_iterations=473\n",
      "[LightGBM] [Warning] feature_fraction is set=0.7282141325645685, colsample_bytree=1.0 will be ignored. Current value: feature_fraction=0.7282141325645685\n",
      "[LightGBM] [Warning] min_data_in_leaf is set=95, min_child_samples=20 will be ignored. Current value: min_data_in_leaf=95\n",
      "[LightGBM] [Warning] min_gain_to_split is set=2.976984599879482, min_split_gain=0.0 will be ignored. Current value: min_gain_to_split=2.976984599879482\n",
      "[LightGBM] [Warning] bagging_fraction is set=0.7907263759437492, subsample=1.0 will be ignored. Current value: bagging_fraction=0.7907263759437492\n",
      "[LightGBM] [Warning] lambda_l1 is set=8.282440010720995, reg_alpha=0.0 will be ignored. Current value: lambda_l1=8.282440010720995\n",
      "[LightGBM] [Warning] lambda_l2 is set=0.0001369660193686484, reg_lambda=0.0 will be ignored. Current value: lambda_l2=0.0001369660193686484\n",
      "[LightGBM] [Warning] num_iterations is set=473, num_rounds=473 will be ignored. Current value: num_iterations=473\n",
      "[LightGBM] [Warning] feature_fraction is set=0.7282141325645685, colsample_bytree=1.0 will be ignored. Current value: feature_fraction=0.7282141325645685\n",
      "[LightGBM] [Warning] min_data_in_leaf is set=95, min_child_samples=20 will be ignored. Current value: min_data_in_leaf=95\n",
      "[LightGBM] [Warning] min_gain_to_split is set=2.976984599879482, min_split_gain=0.0 will be ignored. Current value: min_gain_to_split=2.976984599879482\n",
      "[LightGBM] [Warning] bagging_fraction is set=0.7907263759437492, subsample=1.0 will be ignored. Current value: bagging_fraction=0.7907263759437492\n",
      "[LightGBM] [Warning] lambda_l1 is set=8.282440010720995, reg_alpha=0.0 will be ignored. Current value: lambda_l1=8.282440010720995\n",
      "[LightGBM] [Warning] lambda_l2 is set=0.0001369660193686484, reg_lambda=0.0 will be ignored. Current value: lambda_l2=0.0001369660193686484\n",
      "[LightGBM] [Warning] num_iterations is set=473, num_rounds=473 will be ignored. Current value: num_iterations=473\n",
      "[LightGBM] [Warning] feature_fraction is set=0.7282141325645685, colsample_bytree=1.0 will be ignored. Current value: feature_fraction=0.7282141325645685\n",
      "[LightGBM] [Warning] min_data_in_leaf is set=95, min_child_samples=20 will be ignored. Current value: min_data_in_leaf=95\n",
      "[LightGBM] [Warning] min_gain_to_split is set=2.976984599879482, min_split_gain=0.0 will be ignored. Current value: min_gain_to_split=2.976984599879482\n",
      "[LightGBM] [Warning] bagging_fraction is set=0.7907263759437492, subsample=1.0 will be ignored. Current value: bagging_fraction=0.7907263759437492\n",
      "[LightGBM] [Warning] lambda_l1 is set=8.282440010720995, reg_alpha=0.0 will be ignored. Current value: lambda_l1=8.282440010720995\n",
      "[LightGBM] [Warning] lambda_l2 is set=0.0001369660193686484, reg_lambda=0.0 will be ignored. Current value: lambda_l2=0.0001369660193686484\n",
      "[LightGBM] [Warning] num_iterations is set=473, num_rounds=473 will be ignored. Current value: num_iterations=473\n",
      "[LightGBM] [Warning] feature_fraction is set=0.7282141325645685, colsample_bytree=1.0 will be ignored. Current value: feature_fraction=0.7282141325645685\n",
      "[LightGBM] [Warning] min_data_in_leaf is set=95, min_child_samples=20 will be ignored. Current value: min_data_in_leaf=95\n",
      "[LightGBM] [Warning] min_gain_to_split is set=2.976984599879482, min_split_gain=0.0 will be ignored. Current value: min_gain_to_split=2.976984599879482\n",
      "[LightGBM] [Warning] bagging_fraction is set=0.7907263759437492, subsample=1.0 will be ignored. Current value: bagging_fraction=0.7907263759437492\n",
      "[LightGBM] [Warning] lambda_l1 is set=8.282440010720995, reg_alpha=0.0 will be ignored. Current value: lambda_l1=8.282440010720995\n",
      "[LightGBM] [Warning] lambda_l2 is set=0.0001369660193686484, reg_lambda=0.0 will be ignored. Current value: lambda_l2=0.0001369660193686484\n",
      "[LightGBM] [Warning] num_iterations is set=473, num_rounds=473 will be ignored. Current value: num_iterations=473\n",
      "[LightGBM] [Warning] feature_fraction is set=0.7282141325645685, colsample_bytree=1.0 will be ignored. Current value: feature_fraction=0.7282141325645685\n",
      "[LightGBM] [Warning] min_data_in_leaf is set=95, min_child_samples=20 will be ignored. Current value: min_data_in_leaf=95\n",
      "[LightGBM] [Warning] min_gain_to_split is set=2.976984599879482, min_split_gain=0.0 will be ignored. Current value: min_gain_to_split=2.976984599879482\n",
      "[LightGBM] [Warning] bagging_fraction is set=0.7907263759437492, subsample=1.0 will be ignored. Current value: bagging_fraction=0.7907263759437492\n",
      "[LightGBM] [Warning] lambda_l1 is set=8.282440010720995, reg_alpha=0.0 will be ignored. Current value: lambda_l1=8.282440010720995\n",
      "[LightGBM] [Warning] lambda_l2 is set=0.0001369660193686484, reg_lambda=0.0 will be ignored. Current value: lambda_l2=0.0001369660193686484\n",
      "[LightGBM] [Warning] num_iterations is set=473, num_rounds=473 will be ignored. Current value: num_iterations=473\n",
      "[LightGBM] [Warning] feature_fraction is set=0.7282141325645685, colsample_bytree=1.0 will be ignored. Current value: feature_fraction=0.7282141325645685\n",
      "[LightGBM] [Warning] min_data_in_leaf is set=95, min_child_samples=20 will be ignored. Current value: min_data_in_leaf=95\n",
      "[LightGBM] [Warning] min_gain_to_split is set=2.976984599879482, min_split_gain=0.0 will be ignored. Current value: min_gain_to_split=2.976984599879482\n",
      "[LightGBM] [Warning] bagging_fraction is set=0.7907263759437492, subsample=1.0 will be ignored. Current value: bagging_fraction=0.7907263759437492\n",
      "[LightGBM] [Warning] lambda_l1 is set=8.282440010720995, reg_alpha=0.0 will be ignored. Current value: lambda_l1=8.282440010720995\n",
      "[LightGBM] [Warning] lambda_l2 is set=0.0001369660193686484, reg_lambda=0.0 will be ignored. Current value: lambda_l2=0.0001369660193686484\n",
      "[LightGBM] [Warning] num_iterations is set=473, num_rounds=473 will be ignored. Current value: num_iterations=473\n",
      "[LightGBM] [Warning] feature_fraction is set=0.7282141325645685, colsample_bytree=1.0 will be ignored. Current value: feature_fraction=0.7282141325645685\n",
      "[LightGBM] [Warning] min_data_in_leaf is set=95, min_child_samples=20 will be ignored. Current value: min_data_in_leaf=95\n",
      "[LightGBM] [Warning] min_gain_to_split is set=2.976984599879482, min_split_gain=0.0 will be ignored. Current value: min_gain_to_split=2.976984599879482\n",
      "[LightGBM] [Warning] bagging_fraction is set=0.7907263759437492, subsample=1.0 will be ignored. Current value: bagging_fraction=0.7907263759437492\n",
      "[LightGBM] [Warning] lambda_l1 is set=8.282440010720995, reg_alpha=0.0 will be ignored. Current value: lambda_l1=8.282440010720995\n",
      "[LightGBM] [Warning] lambda_l2 is set=0.0001369660193686484, reg_lambda=0.0 will be ignored. Current value: lambda_l2=0.0001369660193686484\n",
      "[LightGBM] [Warning] num_iterations is set=473, num_rounds=473 will be ignored. Current value: num_iterations=473\n"
     ]
    },
    {
     "name": "stderr",
     "output_type": "stream",
     "text": [
      "\u001b[32m[I 2023-05-07 10:57:11,078]\u001b[0m Trial 7 finished with value: 0.8530317778695456 and parameters: {'n_estimators': 204, 'num_rounds': 473, 'learning_rate': 0.07005769585897134, 'num_leaves': 144, 'max_depth': 6, 'min_data_in_leaf': 95, 'lambda_l1': 8.282440010720995, 'lambda_l2': 0.0001369660193686484, 'min_gain_to_split': 2.976984599879482, 'bagging_fraction': 0.7907263759437492, 'feature_fraction': 0.7282141325645685}. Best is trial 2 with value: 0.8697800523076318.\u001b[0m\n"
     ]
    },
    {
     "name": "stdout",
     "output_type": "stream",
     "text": [
      "[LightGBM] [Warning] feature_fraction is set=0.7282141325645685, colsample_bytree=1.0 will be ignored. Current value: feature_fraction=0.7282141325645685\n",
      "[LightGBM] [Warning] min_data_in_leaf is set=95, min_child_samples=20 will be ignored. Current value: min_data_in_leaf=95\n",
      "[LightGBM] [Warning] min_gain_to_split is set=2.976984599879482, min_split_gain=0.0 will be ignored. Current value: min_gain_to_split=2.976984599879482\n",
      "[LightGBM] [Warning] bagging_fraction is set=0.7907263759437492, subsample=1.0 will be ignored. Current value: bagging_fraction=0.7907263759437492\n",
      "[LightGBM] [Warning] lambda_l1 is set=8.282440010720995, reg_alpha=0.0 will be ignored. Current value: lambda_l1=8.282440010720995\n",
      "[LightGBM] [Warning] lambda_l2 is set=0.0001369660193686484, reg_lambda=0.0 will be ignored. Current value: lambda_l2=0.0001369660193686484\n",
      "[LightGBM] [Warning] num_iterations is set=473, num_rounds=473 will be ignored. Current value: num_iterations=473\n",
      "[LightGBM] [Warning] feature_fraction is set=0.7282141325645685, colsample_bytree=1.0 will be ignored. Current value: feature_fraction=0.7282141325645685\n",
      "[LightGBM] [Warning] min_data_in_leaf is set=95, min_child_samples=20 will be ignored. Current value: min_data_in_leaf=95\n",
      "[LightGBM] [Warning] min_gain_to_split is set=2.976984599879482, min_split_gain=0.0 will be ignored. Current value: min_gain_to_split=2.976984599879482\n",
      "[LightGBM] [Warning] bagging_fraction is set=0.7907263759437492, subsample=1.0 will be ignored. Current value: bagging_fraction=0.7907263759437492\n",
      "[LightGBM] [Warning] lambda_l1 is set=8.282440010720995, reg_alpha=0.0 will be ignored. Current value: lambda_l1=8.282440010720995\n",
      "[LightGBM] [Warning] lambda_l2 is set=0.0001369660193686484, reg_lambda=0.0 will be ignored. Current value: lambda_l2=0.0001369660193686484\n",
      "[LightGBM] [Warning] num_iterations is set=473, num_rounds=473 will be ignored. Current value: num_iterations=473\n",
      "[LightGBM] [Warning] feature_fraction is set=0.29637304381922835, colsample_bytree=1.0 will be ignored. Current value: feature_fraction=0.29637304381922835\n",
      "[LightGBM] [Warning] min_data_in_leaf is set=99, min_child_samples=20 will be ignored. Current value: min_data_in_leaf=99\n",
      "[LightGBM] [Warning] min_gain_to_split is set=9.555828017337001, min_split_gain=0.0 will be ignored. Current value: min_gain_to_split=9.555828017337001\n",
      "[LightGBM] [Warning] bagging_fraction is set=0.5353117676646614, subsample=1.0 will be ignored. Current value: bagging_fraction=0.5353117676646614\n",
      "[LightGBM] [Warning] lambda_l1 is set=6.31681883867401e-06, reg_alpha=0.0 will be ignored. Current value: lambda_l1=6.31681883867401e-06\n",
      "[LightGBM] [Warning] lambda_l2 is set=0.12715007407820716, reg_lambda=0.0 will be ignored. Current value: lambda_l2=0.12715007407820716\n",
      "[LightGBM] [Warning] num_iterations is set=730, num_rounds=730 will be ignored. Current value: num_iterations=730\n",
      "[LightGBM] [Warning] feature_fraction is set=0.29637304381922835, colsample_bytree=1.0 will be ignored. Current value: feature_fraction=0.29637304381922835\n",
      "[LightGBM] [Warning] min_data_in_leaf is set=99, min_child_samples=20 will be ignored. Current value: min_data_in_leaf=99\n",
      "[LightGBM] [Warning] min_gain_to_split is set=9.555828017337001, min_split_gain=0.0 will be ignored. Current value: min_gain_to_split=9.555828017337001\n",
      "[LightGBM] [Warning] bagging_fraction is set=0.5353117676646614, subsample=1.0 will be ignored. Current value: bagging_fraction=0.5353117676646614\n",
      "[LightGBM] [Warning] lambda_l1 is set=6.31681883867401e-06, reg_alpha=0.0 will be ignored. Current value: lambda_l1=6.31681883867401e-06\n",
      "[LightGBM] [Warning] lambda_l2 is set=0.12715007407820716, reg_lambda=0.0 will be ignored. Current value: lambda_l2=0.12715007407820716\n",
      "[LightGBM] [Warning] num_iterations is set=730, num_rounds=730 will be ignored. Current value: num_iterations=730\n",
      "[LightGBM] [Warning] feature_fraction is set=0.29637304381922835, colsample_bytree=1.0 will be ignored. Current value: feature_fraction=0.29637304381922835\n",
      "[LightGBM] [Warning] min_data_in_leaf is set=99, min_child_samples=20 will be ignored. Current value: min_data_in_leaf=99\n",
      "[LightGBM] [Warning] min_gain_to_split is set=9.555828017337001, min_split_gain=0.0 will be ignored. Current value: min_gain_to_split=9.555828017337001\n",
      "[LightGBM] [Warning] bagging_fraction is set=0.5353117676646614, subsample=1.0 will be ignored. Current value: bagging_fraction=0.5353117676646614\n",
      "[LightGBM] [Warning] lambda_l1 is set=6.31681883867401e-06, reg_alpha=0.0 will be ignored. Current value: lambda_l1=6.31681883867401e-06\n",
      "[LightGBM] [Warning] lambda_l2 is set=0.12715007407820716, reg_lambda=0.0 will be ignored. Current value: lambda_l2=0.12715007407820716\n",
      "[LightGBM] [Warning] num_iterations is set=730, num_rounds=730 will be ignored. Current value: num_iterations=730\n",
      "[LightGBM] [Warning] feature_fraction is set=0.29637304381922835, colsample_bytree=1.0 will be ignored. Current value: feature_fraction=0.29637304381922835\n",
      "[LightGBM] [Warning] min_data_in_leaf is set=99, min_child_samples=20 will be ignored. Current value: min_data_in_leaf=99\n",
      "[LightGBM] [Warning] min_gain_to_split is set=9.555828017337001, min_split_gain=0.0 will be ignored. Current value: min_gain_to_split=9.555828017337001\n",
      "[LightGBM] [Warning] bagging_fraction is set=0.5353117676646614, subsample=1.0 will be ignored. Current value: bagging_fraction=0.5353117676646614\n",
      "[LightGBM] [Warning] lambda_l1 is set=6.31681883867401e-06, reg_alpha=0.0 will be ignored. Current value: lambda_l1=6.31681883867401e-06\n",
      "[LightGBM] [Warning] lambda_l2 is set=0.12715007407820716, reg_lambda=0.0 will be ignored. Current value: lambda_l2=0.12715007407820716\n",
      "[LightGBM] [Warning] num_iterations is set=730, num_rounds=730 will be ignored. Current value: num_iterations=730\n",
      "[LightGBM] [Warning] feature_fraction is set=0.29637304381922835, colsample_bytree=1.0 will be ignored. Current value: feature_fraction=0.29637304381922835\n",
      "[LightGBM] [Warning] min_data_in_leaf is set=99, min_child_samples=20 will be ignored. Current value: min_data_in_leaf=99\n",
      "[LightGBM] [Warning] min_gain_to_split is set=9.555828017337001, min_split_gain=0.0 will be ignored. Current value: min_gain_to_split=9.555828017337001\n",
      "[LightGBM] [Warning] bagging_fraction is set=0.5353117676646614, subsample=1.0 will be ignored. Current value: bagging_fraction=0.5353117676646614\n",
      "[LightGBM] [Warning] lambda_l1 is set=6.31681883867401e-06, reg_alpha=0.0 will be ignored. Current value: lambda_l1=6.31681883867401e-06\n",
      "[LightGBM] [Warning] lambda_l2 is set=0.12715007407820716, reg_lambda=0.0 will be ignored. Current value: lambda_l2=0.12715007407820716\n",
      "[LightGBM] [Warning] num_iterations is set=730, num_rounds=730 will be ignored. Current value: num_iterations=730\n",
      "[LightGBM] [Warning] feature_fraction is set=0.29637304381922835, colsample_bytree=1.0 will be ignored. Current value: feature_fraction=0.29637304381922835\n",
      "[LightGBM] [Warning] min_data_in_leaf is set=99, min_child_samples=20 will be ignored. Current value: min_data_in_leaf=99\n",
      "[LightGBM] [Warning] min_gain_to_split is set=9.555828017337001, min_split_gain=0.0 will be ignored. Current value: min_gain_to_split=9.555828017337001\n",
      "[LightGBM] [Warning] bagging_fraction is set=0.5353117676646614, subsample=1.0 will be ignored. Current value: bagging_fraction=0.5353117676646614\n",
      "[LightGBM] [Warning] lambda_l1 is set=6.31681883867401e-06, reg_alpha=0.0 will be ignored. Current value: lambda_l1=6.31681883867401e-06\n",
      "[LightGBM] [Warning] lambda_l2 is set=0.12715007407820716, reg_lambda=0.0 will be ignored. Current value: lambda_l2=0.12715007407820716\n",
      "[LightGBM] [Warning] num_iterations is set=730, num_rounds=730 will be ignored. Current value: num_iterations=730\n",
      "[LightGBM] [Warning] feature_fraction is set=0.29637304381922835, colsample_bytree=1.0 will be ignored. Current value: feature_fraction=0.29637304381922835\n",
      "[LightGBM] [Warning] min_data_in_leaf is set=99, min_child_samples=20 will be ignored. Current value: min_data_in_leaf=99\n",
      "[LightGBM] [Warning] min_gain_to_split is set=9.555828017337001, min_split_gain=0.0 will be ignored. Current value: min_gain_to_split=9.555828017337001\n",
      "[LightGBM] [Warning] bagging_fraction is set=0.5353117676646614, subsample=1.0 will be ignored. Current value: bagging_fraction=0.5353117676646614\n",
      "[LightGBM] [Warning] lambda_l1 is set=6.31681883867401e-06, reg_alpha=0.0 will be ignored. Current value: lambda_l1=6.31681883867401e-06\n",
      "[LightGBM] [Warning] lambda_l2 is set=0.12715007407820716, reg_lambda=0.0 will be ignored. Current value: lambda_l2=0.12715007407820716\n",
      "[LightGBM] [Warning] num_iterations is set=730, num_rounds=730 will be ignored. Current value: num_iterations=730\n",
      "[LightGBM] [Warning] feature_fraction is set=0.29637304381922835, colsample_bytree=1.0 will be ignored. Current value: feature_fraction=0.29637304381922835\n",
      "[LightGBM] [Warning] min_data_in_leaf is set=99, min_child_samples=20 will be ignored. Current value: min_data_in_leaf=99\n",
      "[LightGBM] [Warning] min_gain_to_split is set=9.555828017337001, min_split_gain=0.0 will be ignored. Current value: min_gain_to_split=9.555828017337001\n",
      "[LightGBM] [Warning] bagging_fraction is set=0.5353117676646614, subsample=1.0 will be ignored. Current value: bagging_fraction=0.5353117676646614\n",
      "[LightGBM] [Warning] lambda_l1 is set=6.31681883867401e-06, reg_alpha=0.0 will be ignored. Current value: lambda_l1=6.31681883867401e-06\n",
      "[LightGBM] [Warning] lambda_l2 is set=0.12715007407820716, reg_lambda=0.0 will be ignored. Current value: lambda_l2=0.12715007407820716\n",
      "[LightGBM] [Warning] num_iterations is set=730, num_rounds=730 will be ignored. Current value: num_iterations=730\n"
     ]
    },
    {
     "name": "stderr",
     "output_type": "stream",
     "text": [
      "\u001b[32m[I 2023-05-07 10:57:12,038]\u001b[0m Trial 8 finished with value: 0.857651465990207 and parameters: {'n_estimators': 515, 'num_rounds': 730, 'learning_rate': 0.030374667809072727, 'num_leaves': 186, 'max_depth': 9, 'min_data_in_leaf': 99, 'lambda_l1': 6.31681883867401e-06, 'lambda_l2': 0.12715007407820716, 'min_gain_to_split': 9.555828017337001, 'bagging_fraction': 0.5353117676646614, 'feature_fraction': 0.29637304381922835}. Best is trial 2 with value: 0.8697800523076318.\u001b[0m\n"
     ]
    },
    {
     "name": "stdout",
     "output_type": "stream",
     "text": [
      "[LightGBM] [Warning] feature_fraction is set=0.29637304381922835, colsample_bytree=1.0 will be ignored. Current value: feature_fraction=0.29637304381922835\n",
      "[LightGBM] [Warning] min_data_in_leaf is set=99, min_child_samples=20 will be ignored. Current value: min_data_in_leaf=99\n",
      "[LightGBM] [Warning] min_gain_to_split is set=9.555828017337001, min_split_gain=0.0 will be ignored. Current value: min_gain_to_split=9.555828017337001\n",
      "[LightGBM] [Warning] bagging_fraction is set=0.5353117676646614, subsample=1.0 will be ignored. Current value: bagging_fraction=0.5353117676646614\n",
      "[LightGBM] [Warning] lambda_l1 is set=6.31681883867401e-06, reg_alpha=0.0 will be ignored. Current value: lambda_l1=6.31681883867401e-06\n",
      "[LightGBM] [Warning] lambda_l2 is set=0.12715007407820716, reg_lambda=0.0 will be ignored. Current value: lambda_l2=0.12715007407820716\n",
      "[LightGBM] [Warning] num_iterations is set=730, num_rounds=730 will be ignored. Current value: num_iterations=730\n",
      "[LightGBM] [Warning] feature_fraction is set=0.29637304381922835, colsample_bytree=1.0 will be ignored. Current value: feature_fraction=0.29637304381922835\n",
      "[LightGBM] [Warning] min_data_in_leaf is set=99, min_child_samples=20 will be ignored. Current value: min_data_in_leaf=99\n",
      "[LightGBM] [Warning] min_gain_to_split is set=9.555828017337001, min_split_gain=0.0 will be ignored. Current value: min_gain_to_split=9.555828017337001\n",
      "[LightGBM] [Warning] bagging_fraction is set=0.5353117676646614, subsample=1.0 will be ignored. Current value: bagging_fraction=0.5353117676646614\n",
      "[LightGBM] [Warning] lambda_l1 is set=6.31681883867401e-06, reg_alpha=0.0 will be ignored. Current value: lambda_l1=6.31681883867401e-06\n",
      "[LightGBM] [Warning] lambda_l2 is set=0.12715007407820716, reg_lambda=0.0 will be ignored. Current value: lambda_l2=0.12715007407820716\n",
      "[LightGBM] [Warning] num_iterations is set=730, num_rounds=730 will be ignored. Current value: num_iterations=730\n",
      "[LightGBM] [Warning] feature_fraction is set=0.10177852580723282, colsample_bytree=1.0 will be ignored. Current value: feature_fraction=0.10177852580723282\n",
      "[LightGBM] [Warning] min_data_in_leaf is set=86, min_child_samples=20 will be ignored. Current value: min_data_in_leaf=86\n",
      "[LightGBM] [Warning] min_gain_to_split is set=4.8858586451202015, min_split_gain=0.0 will be ignored. Current value: min_gain_to_split=4.8858586451202015\n",
      "[LightGBM] [Warning] bagging_fraction is set=0.14076129374517393, subsample=1.0 will be ignored. Current value: bagging_fraction=0.14076129374517393\n",
      "[LightGBM] [Warning] lambda_l1 is set=0.0008344072759928541, reg_alpha=0.0 will be ignored. Current value: lambda_l1=0.0008344072759928541\n",
      "[LightGBM] [Warning] lambda_l2 is set=0.00026786798052243736, reg_lambda=0.0 will be ignored. Current value: lambda_l2=0.00026786798052243736\n",
      "[LightGBM] [Warning] num_iterations is set=885, num_rounds=885 will be ignored. Current value: num_iterations=885\n",
      "[LightGBM] [Warning] feature_fraction is set=0.10177852580723282, colsample_bytree=1.0 will be ignored. Current value: feature_fraction=0.10177852580723282\n",
      "[LightGBM] [Warning] min_data_in_leaf is set=86, min_child_samples=20 will be ignored. Current value: min_data_in_leaf=86\n",
      "[LightGBM] [Warning] min_gain_to_split is set=4.8858586451202015, min_split_gain=0.0 will be ignored. Current value: min_gain_to_split=4.8858586451202015\n",
      "[LightGBM] [Warning] bagging_fraction is set=0.14076129374517393, subsample=1.0 will be ignored. Current value: bagging_fraction=0.14076129374517393\n",
      "[LightGBM] [Warning] lambda_l1 is set=0.0008344072759928541, reg_alpha=0.0 will be ignored. Current value: lambda_l1=0.0008344072759928541\n",
      "[LightGBM] [Warning] lambda_l2 is set=0.00026786798052243736, reg_lambda=0.0 will be ignored. Current value: lambda_l2=0.00026786798052243736\n",
      "[LightGBM] [Warning] num_iterations is set=885, num_rounds=885 will be ignored. Current value: num_iterations=885\n",
      "[LightGBM] [Warning] feature_fraction is set=0.10177852580723282, colsample_bytree=1.0 will be ignored. Current value: feature_fraction=0.10177852580723282\n",
      "[LightGBM] [Warning] min_data_in_leaf is set=86, min_child_samples=20 will be ignored. Current value: min_data_in_leaf=86\n",
      "[LightGBM] [Warning] min_gain_to_split is set=4.8858586451202015, min_split_gain=0.0 will be ignored. Current value: min_gain_to_split=4.8858586451202015\n",
      "[LightGBM] [Warning] bagging_fraction is set=0.14076129374517393, subsample=1.0 will be ignored. Current value: bagging_fraction=0.14076129374517393\n",
      "[LightGBM] [Warning] lambda_l1 is set=0.0008344072759928541, reg_alpha=0.0 will be ignored. Current value: lambda_l1=0.0008344072759928541\n",
      "[LightGBM] [Warning] lambda_l2 is set=0.00026786798052243736, reg_lambda=0.0 will be ignored. Current value: lambda_l2=0.00026786798052243736\n",
      "[LightGBM] [Warning] num_iterations is set=885, num_rounds=885 will be ignored. Current value: num_iterations=885\n",
      "[LightGBM] [Warning] feature_fraction is set=0.10177852580723282, colsample_bytree=1.0 will be ignored. Current value: feature_fraction=0.10177852580723282\n",
      "[LightGBM] [Warning] min_data_in_leaf is set=86, min_child_samples=20 will be ignored. Current value: min_data_in_leaf=86\n",
      "[LightGBM] [Warning] min_gain_to_split is set=4.8858586451202015, min_split_gain=0.0 will be ignored. Current value: min_gain_to_split=4.8858586451202015\n",
      "[LightGBM] [Warning] bagging_fraction is set=0.14076129374517393, subsample=1.0 will be ignored. Current value: bagging_fraction=0.14076129374517393\n",
      "[LightGBM] [Warning] lambda_l1 is set=0.0008344072759928541, reg_alpha=0.0 will be ignored. Current value: lambda_l1=0.0008344072759928541\n",
      "[LightGBM] [Warning] lambda_l2 is set=0.00026786798052243736, reg_lambda=0.0 will be ignored. Current value: lambda_l2=0.00026786798052243736\n",
      "[LightGBM] [Warning] num_iterations is set=885, num_rounds=885 will be ignored. Current value: num_iterations=885\n",
      "[LightGBM] [Warning] feature_fraction is set=0.10177852580723282, colsample_bytree=1.0 will be ignored. Current value: feature_fraction=0.10177852580723282\n",
      "[LightGBM] [Warning] min_data_in_leaf is set=86, min_child_samples=20 will be ignored. Current value: min_data_in_leaf=86\n",
      "[LightGBM] [Warning] min_gain_to_split is set=4.8858586451202015, min_split_gain=0.0 will be ignored. Current value: min_gain_to_split=4.8858586451202015\n",
      "[LightGBM] [Warning] bagging_fraction is set=0.14076129374517393, subsample=1.0 will be ignored. Current value: bagging_fraction=0.14076129374517393\n",
      "[LightGBM] [Warning] lambda_l1 is set=0.0008344072759928541, reg_alpha=0.0 will be ignored. Current value: lambda_l1=0.0008344072759928541\n",
      "[LightGBM] [Warning] lambda_l2 is set=0.00026786798052243736, reg_lambda=0.0 will be ignored. Current value: lambda_l2=0.00026786798052243736\n",
      "[LightGBM] [Warning] num_iterations is set=885, num_rounds=885 will be ignored. Current value: num_iterations=885\n",
      "[LightGBM] [Warning] feature_fraction is set=0.10177852580723282, colsample_bytree=1.0 will be ignored. Current value: feature_fraction=0.10177852580723282\n",
      "[LightGBM] [Warning] min_data_in_leaf is set=86, min_child_samples=20 will be ignored. Current value: min_data_in_leaf=86\n",
      "[LightGBM] [Warning] min_gain_to_split is set=4.8858586451202015, min_split_gain=0.0 will be ignored. Current value: min_gain_to_split=4.8858586451202015\n",
      "[LightGBM] [Warning] bagging_fraction is set=0.14076129374517393, subsample=1.0 will be ignored. Current value: bagging_fraction=0.14076129374517393\n",
      "[LightGBM] [Warning] lambda_l1 is set=0.0008344072759928541, reg_alpha=0.0 will be ignored. Current value: lambda_l1=0.0008344072759928541\n",
      "[LightGBM] [Warning] lambda_l2 is set=0.00026786798052243736, reg_lambda=0.0 will be ignored. Current value: lambda_l2=0.00026786798052243736\n",
      "[LightGBM] [Warning] num_iterations is set=885, num_rounds=885 will be ignored. Current value: num_iterations=885\n",
      "[LightGBM] [Warning] feature_fraction is set=0.10177852580723282, colsample_bytree=1.0 will be ignored. Current value: feature_fraction=0.10177852580723282\n",
      "[LightGBM] [Warning] min_data_in_leaf is set=86, min_child_samples=20 will be ignored. Current value: min_data_in_leaf=86\n",
      "[LightGBM] [Warning] min_gain_to_split is set=4.8858586451202015, min_split_gain=0.0 will be ignored. Current value: min_gain_to_split=4.8858586451202015\n",
      "[LightGBM] [Warning] bagging_fraction is set=0.14076129374517393, subsample=1.0 will be ignored. Current value: bagging_fraction=0.14076129374517393\n",
      "[LightGBM] [Warning] lambda_l1 is set=0.0008344072759928541, reg_alpha=0.0 will be ignored. Current value: lambda_l1=0.0008344072759928541\n",
      "[LightGBM] [Warning] lambda_l2 is set=0.00026786798052243736, reg_lambda=0.0 will be ignored. Current value: lambda_l2=0.00026786798052243736\n",
      "[LightGBM] [Warning] num_iterations is set=885, num_rounds=885 will be ignored. Current value: num_iterations=885\n",
      "[LightGBM] [Warning] feature_fraction is set=0.10177852580723282, colsample_bytree=1.0 will be ignored. Current value: feature_fraction=0.10177852580723282\n",
      "[LightGBM] [Warning] min_data_in_leaf is set=86, min_child_samples=20 will be ignored. Current value: min_data_in_leaf=86\n",
      "[LightGBM] [Warning] min_gain_to_split is set=4.8858586451202015, min_split_gain=0.0 will be ignored. Current value: min_gain_to_split=4.8858586451202015\n",
      "[LightGBM] [Warning] bagging_fraction is set=0.14076129374517393, subsample=1.0 will be ignored. Current value: bagging_fraction=0.14076129374517393\n",
      "[LightGBM] [Warning] lambda_l1 is set=0.0008344072759928541, reg_alpha=0.0 will be ignored. Current value: lambda_l1=0.0008344072759928541\n",
      "[LightGBM] [Warning] lambda_l2 is set=0.00026786798052243736, reg_lambda=0.0 will be ignored. Current value: lambda_l2=0.00026786798052243736\n",
      "[LightGBM] [Warning] num_iterations is set=885, num_rounds=885 will be ignored. Current value: num_iterations=885\n",
      "[LightGBM] [Warning] feature_fraction is set=0.10177852580723282, colsample_bytree=1.0 will be ignored. Current value: feature_fraction=0.10177852580723282\n",
      "[LightGBM] [Warning] min_data_in_leaf is set=86, min_child_samples=20 will be ignored. Current value: min_data_in_leaf=86\n",
      "[LightGBM] [Warning] min_gain_to_split is set=4.8858586451202015, min_split_gain=0.0 will be ignored. Current value: min_gain_to_split=4.8858586451202015\n",
      "[LightGBM] [Warning] bagging_fraction is set=0.14076129374517393, subsample=1.0 will be ignored. Current value: bagging_fraction=0.14076129374517393\n",
      "[LightGBM] [Warning] lambda_l1 is set=0.0008344072759928541, reg_alpha=0.0 will be ignored. Current value: lambda_l1=0.0008344072759928541\n",
      "[LightGBM] [Warning] lambda_l2 is set=0.00026786798052243736, reg_lambda=0.0 will be ignored. Current value: lambda_l2=0.00026786798052243736\n",
      "[LightGBM] [Warning] num_iterations is set=885, num_rounds=885 will be ignored. Current value: num_iterations=885\n"
     ]
    },
    {
     "name": "stderr",
     "output_type": "stream",
     "text": [
      "\u001b[32m[I 2023-05-07 10:57:12,877]\u001b[0m Trial 9 finished with value: 0.8779049416946887 and parameters: {'n_estimators': 376, 'num_rounds': 885, 'learning_rate': 0.09364486468421027, 'num_leaves': 139, 'max_depth': 11, 'min_data_in_leaf': 86, 'lambda_l1': 0.0008344072759928541, 'lambda_l2': 0.00026786798052243736, 'min_gain_to_split': 4.8858586451202015, 'bagging_fraction': 0.14076129374517393, 'feature_fraction': 0.10177852580723282}. Best is trial 9 with value: 0.8779049416946887.\u001b[0m\n"
     ]
    },
    {
     "name": "stdout",
     "output_type": "stream",
     "text": [
      "[LightGBM] [Warning] feature_fraction is set=0.10177852580723282, colsample_bytree=1.0 will be ignored. Current value: feature_fraction=0.10177852580723282\n",
      "[LightGBM] [Warning] min_data_in_leaf is set=86, min_child_samples=20 will be ignored. Current value: min_data_in_leaf=86\n",
      "[LightGBM] [Warning] min_gain_to_split is set=4.8858586451202015, min_split_gain=0.0 will be ignored. Current value: min_gain_to_split=4.8858586451202015\n",
      "[LightGBM] [Warning] bagging_fraction is set=0.14076129374517393, subsample=1.0 will be ignored. Current value: bagging_fraction=0.14076129374517393\n",
      "[LightGBM] [Warning] lambda_l1 is set=0.0008344072759928541, reg_alpha=0.0 will be ignored. Current value: lambda_l1=0.0008344072759928541\n",
      "[LightGBM] [Warning] lambda_l2 is set=0.00026786798052243736, reg_lambda=0.0 will be ignored. Current value: lambda_l2=0.00026786798052243736\n",
      "[LightGBM] [Warning] num_iterations is set=885, num_rounds=885 will be ignored. Current value: num_iterations=885\n",
      "Best trial:\n",
      "  Avg_roc_auc_score: 0.8779049416946887\n",
      "  Params: \n",
      "    n_estimators: 376\n",
      "    num_rounds: 885\n",
      "    learning_rate: 0.09364486468421027\n",
      "    num_leaves: 139\n",
      "    max_depth: 11\n",
      "    min_data_in_leaf: 86\n",
      "    lambda_l1: 0.0008344072759928541\n",
      "    lambda_l2: 0.00026786798052243736\n",
      "    min_gain_to_split: 4.8858586451202015\n",
      "    bagging_fraction: 0.14076129374517393\n",
      "    feature_fraction: 0.10177852580723282\n",
      "[LightGBM] [Warning] feature_fraction is set=0.10177852580723282, colsample_bytree=1.0 will be ignored. Current value: feature_fraction=0.10177852580723282\n",
      "[LightGBM] [Warning] min_data_in_leaf is set=86, min_child_samples=20 will be ignored. Current value: min_data_in_leaf=86\n",
      "[LightGBM] [Warning] min_gain_to_split is set=4.8858586451202015, min_split_gain=0.0 will be ignored. Current value: min_gain_to_split=4.8858586451202015\n",
      "[LightGBM] [Warning] lambda_l1 is set=0.0008344072759928541, reg_alpha=0.0 will be ignored. Current value: lambda_l1=0.0008344072759928541\n",
      "[LightGBM] [Warning] bagging_fraction is set=0.14076129374517393, subsample=1.0 will be ignored. Current value: bagging_fraction=0.14076129374517393\n",
      "[LightGBM] [Warning] lambda_l2 is set=0.00026786798052243736, reg_lambda=0.0 will be ignored. Current value: lambda_l2=0.00026786798052243736\n",
      "[LightGBM] [Warning] num_iterations is set=885, num_rounds=885 will be ignored. Current value: num_iterations=885\n"
     ]
    },
    {
     "data": {
      "text/plain": [
       "LGBMClassifier(bagging_fraction=0.14076129374517393,\n",
       "               feature_fraction=0.10177852580723282,\n",
       "               lambda_l1=0.0008344072759928541,\n",
       "               lambda_l2=0.00026786798052243736,\n",
       "               learning_rate=0.09364486468421027, max_depth=11,\n",
       "               min_data_in_leaf=86, min_gain_to_split=4.8858586451202015,\n",
       "               n_estimators=376, num_leaves=139, num_rounds=885)"
      ]
     },
     "execution_count": 35,
     "metadata": {},
     "output_type": "execute_result"
    }
   ],
   "source": [
    "def objective(trial):\n",
    "    params = {\n",
    "        'n_estimators': trial.suggest_int('n_estimators', 100, 1000),\n",
    "        'num_rounds': trial.suggest_int('num_rounds', 100, 1000),\n",
    "        'learning_rate': trial.suggest_loguniform('learning_rate', 0.001, 0.1),\n",
    "        'num_leaves': trial.suggest_int('num_leaves', 10, 500),\n",
    "        'max_depth': trial.suggest_int('max_depth', 2, 15),\n",
    "        'min_data_in_leaf': trial.suggest_int('min_data_in_leaf', 1, 100),\n",
    "        'lambda_l1': trial.suggest_loguniform('lambda_l1', 1e-8, 10.0),\n",
    "        'lambda_l2': trial.suggest_loguniform('lambda_l2', 1e-8, 10.0),\n",
    "        'min_gain_to_split': trial.suggest_float('min_gain_to_split', 0.0, 10.0),\n",
    "        'bagging_fraction': trial.suggest_float('bagging_fraction', 0.1, 1.0),\n",
    "        'feature_fraction': trial.suggest_float('feature_fraction', 0.1, 1.0),\n",
    "        'random_state': 1337\n",
    "    }\n",
    "\n",
    "    skf = StratifiedKFold(n_splits=10, shuffle=True, random_state=42)\n",
    "    all_scores = []\n",
    "    all_recalls = []\n",
    "\n",
    "    for fold_id, (train_idx, val_idx) in enumerate(skf.split(X_train, y_train)):\n",
    "        X_tr, X_val = X_train[train_idx], X_train[val_idx]\n",
    "        y_tr, y_val = y_train[train_idx], y_train[val_idx]\n",
    "\n",
    "        model = lgbm.LGBMClassifier(**params)\n",
    "        model.fit(X_tr, y_tr)\n",
    "\n",
    "        y_pred = model.predict_proba(X_val)[:, 1]\n",
    "        #y_pred = (model.predict_proba(X_val)[:, 1] > 0.5).astype(int)\n",
    "\n",
    "        auc = roc_auc_score(y_val, y_pred)\n",
    "        #recall_value = recall_score(y_val, y_pred)\n",
    "\n",
    "        all_scores.append(auc)\n",
    "        #all_recalls.append(recall_value)\n",
    "\n",
    "    avg_auc = np.mean(all_scores)\n",
    "    #avg_recall = np.mean(all_recalls)\n",
    "\n",
    "    return avg_auc\n",
    "\n",
    "study = optuna.create_study(direction='maximize')\n",
    "study.optimize(objective, n_trials=10)\n",
    "\n",
    "print(\"Best trial:\")\n",
    "trial = study.best_trial\n",
    "print(\"  Avg_roc_auc_score: {}\".format(trial.value))\n",
    "print(\"  Params: \")\n",
    "for key, value in trial.params.items():\n",
    "    print(\"    {}: {}\".format(key, value))\n",
    "\n",
    "best_params = trial.params\n",
    "lgbm_clf = lgbm.LGBMClassifier(**best_params)\n",
    "lgbm_clf.fit(X_train, y_train, verbose=False)"
   ]
  },
  {
   "cell_type": "code",
   "execution_count": 36,
   "id": "07a62b9d",
   "metadata": {},
   "outputs": [
    {
     "name": "stdout",
     "output_type": "stream",
     "text": [
      "Accuracy_value:  0.9339285714285714\n",
      "f1_score_value:  0.44776119402985076\n",
      "recall_value:  0.3\n",
      "roc_auc_score:  0.6480392156862745\n"
     ]
    }
   ],
   "source": [
    "lgbm_pred = lgbm_clf.predict(X_test)\n",
    "\n",
    "print(\"Accuracy_value: \", accuracy_score(y_test, lgbm_pred))\n",
    "print(\"f1_score_value: \", f1_score(y_test, lgbm_pred))\n",
    "print(\"recall_value: \", recall_score(y_test, lgbm_pred))\n",
    "print(\"roc_auc_score: \", roc_auc_score(y_test, lgbm_pred))"
   ]
  },
  {
   "cell_type": "code",
   "execution_count": 72,
   "id": "ccc27e38",
   "metadata": {},
   "outputs": [
    {
     "data": {
      "image/png": "[encoded data removed]",
      "text/plain": [
       "<Figure size 800x600 with 1 Axes>"
      ]
     },
     "metadata": {},
     "output_type": "display_data"
    }
   ],
   "source": [
    "train_sizes, train_scores, test_scores = learning_curve(\n",
    "    estimator=lgbm_clf,\n",
    "    X=X_train,\n",
    "    y=y_train,\n",
    "    cv=10,\n",
    "    scoring='roc_auc',\n",
    "    train_sizes=np.linspace(0.1, 1.0, 10),\n",
    "    n_jobs=-1\n",
    ")\n",
    "\n",
    "train_scores_mean = np.mean(train_scores, axis=1)\n",
    "train_scores_std = np.std(train_scores, axis=1)\n",
    "test_scores_mean = np.mean(test_scores, axis=1)\n",
    "test_scores_std = np.std(test_scores, axis=1)\n",
    "\n",
    "plt.figure(figsize=(8, 6))\n",
    "plt.title(\"Learning Curve(LightGBM)\")\n",
    "plt.xlabel(\"Training examples\")\n",
    "plt.ylabel(\"Score\")\n",
    "plt.grid()\n",
    "plt.fill_between(train_sizes, train_scores_mean - train_scores_std,\n",
    "                 train_scores_mean + train_scores_std, alpha=0.1,\n",
    "                 color=\"r\")\n",
    "plt.fill_between(train_sizes, test_scores_mean - test_scores_std,\n",
    "                 test_scores_mean + test_scores_std, alpha=0.1,\n",
    "                 color=\"g\")\n",
    "plt.plot(train_sizes, train_scores_mean, 'o-', color=\"r\",\n",
    "         label=\"Training score\")\n",
    "plt.plot(train_sizes, test_scores_mean, 'o-', color=\"g\",\n",
    "         label=\"Cross-validation score\")\n",
    "plt.legend(loc=\"best\")\n",
    "plt.show()"
   ]
  },
  {
   "cell_type": "code",
   "execution_count": 37,
   "id": "eb78704b",
   "metadata": {},
   "outputs": [
    {
     "data": {
      "text/plain": [
       "['lgbm_model.joblib']"
      ]
     },
     "execution_count": 37,
     "metadata": {},
     "output_type": "execute_result"
    }
   ],
   "source": [
    "# Save the trained model to a file\n",
    "dump(lgbm_clf, 'lgbm_model.joblib')"
   ]
  },
  {
   "cell_type": "markdown",
   "id": "wKmJGaT9RKYg",
   "metadata": {
    "id": "wKmJGaT9RKYg"
   },
   "source": [
    "# KNN"
   ]
  },
  {
   "cell_type": "code",
   "execution_count": 38,
   "id": "ZCdkpSP0Q9cC",
   "metadata": {
    "colab": {
     "base_uri": "https://localhost:8080/",
     "height": 450
    },
    "id": "ZCdkpSP0Q9cC",
    "outputId": "25ca71d5-6f5f-40f2-9bb2-5f271833b04f"
   },
   "outputs": [
    {
     "name": "stdout",
     "output_type": "stream",
     "text": [
      "Fold 0 \t auc: 0.6031797534068786\n",
      "Fold 1 \t auc: 0.6996539043910881\n",
      "Fold 2 \t auc: 0.6698031581224313\n",
      "Fold 3 \t auc: 0.5499675535366646\n",
      "Fold 4 \t auc: 0.6838632922344797\n",
      "Fold 5 \t auc: 0.6108587497296128\n",
      "Fold 6 \t auc: 0.6560379918588873\n",
      "Fold 7 \t auc: 0.6689280868385347\n",
      "Fold 8 \t auc: 0.6867933061962913\n",
      "Fold 9 \t auc: 0.601763907734057\n",
      "Avg AUC: 0.6430849704048925\n"
     ]
    },
    {
     "data": {
      "text/plain": [
       "KNeighborsClassifier(n_neighbors=3)"
      ]
     },
     "execution_count": 38,
     "metadata": {},
     "output_type": "execute_result"
    }
   ],
   "source": [
    "# Default params\n",
    "knn_params = {\n",
    "    'n_neighbors': [3],\n",
    "    'weights': ['uniform'],\n",
    "    'p': [2]\n",
    "}\n",
    "\n",
    "knn_clf = KNeighborsClassifier(n_neighbors=3, weights='uniform', p=2)\n",
    "\n",
    "cross_validate(X_train, y_train, knn_clf)\n",
    "knn_clf.fit(X_train, y_train)"
   ]
  },
  {
   "cell_type": "code",
   "execution_count": 39,
   "id": "KtHiu_d9URc4",
   "metadata": {
    "colab": {
     "base_uri": "https://localhost:8080/",
     "height": 890
    },
    "id": "KtHiu_d9URc4",
    "outputId": "61cf398a-d5d9-4f83-c99e-4e7a413d8942",
    "scrolled": true
   },
   "outputs": [
    {
     "name": "stderr",
     "output_type": "stream",
     "text": [
      "\u001b[32m[I 2023-05-07 10:57:13,114]\u001b[0m A new study created in memory with name: no-name-5e32946a-bdb8-4085-97b7-9109561d805b\u001b[0m\n",
      "\u001b[32m[I 2023-05-07 10:57:15,837]\u001b[0m Trial 0 finished with value: 0.6735846459402592 and parameters: {'n_neighbors': 7, 'weights': 'uniform', 'p': 3}. Best is trial 0 with value: 0.6735846459402592.\u001b[0m\n",
      "\u001b[32m[I 2023-05-07 10:57:18,528]\u001b[0m Trial 1 finished with value: 0.6848214461290386 and parameters: {'n_neighbors': 9, 'weights': 'uniform', 'p': 3}. Best is trial 1 with value: 0.6848214461290386.\u001b[0m\n",
      "\u001b[32m[I 2023-05-07 10:57:21,216]\u001b[0m Trial 2 finished with value: 0.7030765146599022 and parameters: {'n_neighbors': 11, 'weights': 'distance', 'p': 3}. Best is trial 2 with value: 0.7030765146599022.\u001b[0m\n",
      "\u001b[32m[I 2023-05-07 10:57:21,313]\u001b[0m Trial 3 finished with value: 0.7426813560655223 and parameters: {'n_neighbors': 15, 'weights': 'distance', 'p': 2}. Best is trial 3 with value: 0.7426813560655223.\u001b[0m\n",
      "\u001b[32m[I 2023-05-07 10:57:24,039]\u001b[0m Trial 4 finished with value: 0.6954348809313118 and parameters: {'n_neighbors': 9, 'weights': 'distance', 'p': 3}. Best is trial 3 with value: 0.7426813560655223.\u001b[0m\n",
      "\u001b[32m[I 2023-05-07 10:57:24,137]\u001b[0m Trial 5 finished with value: 0.7348101390281793 and parameters: {'n_neighbors': 13, 'weights': 'distance', 'p': 2}. Best is trial 3 with value: 0.7426813560655223.\u001b[0m\n",
      "\u001b[32m[I 2023-05-07 10:57:24,315]\u001b[0m Trial 6 finished with value: 0.7573668220164003 and parameters: {'n_neighbors': 9, 'weights': 'distance', 'p': 1}. Best is trial 6 with value: 0.7573668220164003.\u001b[0m\n",
      "\u001b[32m[I 2023-05-07 10:57:24,414]\u001b[0m Trial 7 finished with value: 0.7277486087349812 and parameters: {'n_neighbors': 13, 'weights': 'uniform', 'p': 2}. Best is trial 6 with value: 0.7573668220164003.\u001b[0m\n",
      "\u001b[32m[I 2023-05-07 10:57:24,588]\u001b[0m Trial 8 finished with value: 0.7277132125931608 and parameters: {'n_neighbors': 6, 'weights': 'distance', 'p': 1}. Best is trial 6 with value: 0.7573668220164003.\u001b[0m\n",
      "\u001b[32m[I 2023-05-07 10:57:27,269]\u001b[0m Trial 9 finished with value: 0.6936581912571531 and parameters: {'n_neighbors': 11, 'weights': 'uniform', 'p': 3}. Best is trial 6 with value: 0.7573668220164003.\u001b[0m\n"
     ]
    },
    {
     "name": "stdout",
     "output_type": "stream",
     "text": [
      "Best trial:\n",
      "  Avg_roc_auc_score: 0.7573668220164003\n",
      "  Params: \n",
      "    n_neighbors: 9\n",
      "    weights: distance\n",
      "    p: 1\n"
     ]
    },
    {
     "data": {
      "text/plain": [
       "KNeighborsClassifier(n_neighbors=9, p=1, weights='distance')"
      ]
     },
     "execution_count": 39,
     "metadata": {},
     "output_type": "execute_result"
    }
   ],
   "source": [
    "def objective(trial):\n",
    "    knn_params = {\n",
    "        \"n_neighbors\": trial.suggest_int(\"n_neighbors\", 3, 15),\n",
    "        \"weights\": trial.suggest_categorical(\"weights\", ['uniform', 'distance']),\n",
    "        \"p\": trial.suggest_categorical(\"p\", [1, 2, 3])\n",
    "    }\n",
    "\n",
    "    skf = StratifiedKFold(n_splits=10, shuffle=True, random_state=42)\n",
    "    all_scores = []\n",
    "    all_recalls = []\n",
    "\n",
    "    for fold_id, (train_idx, val_idx) in enumerate(skf.split(X_train, y_train)):\n",
    "        X_tr, X_val = X_train[train_idx], X_train[val_idx]\n",
    "        y_tr, y_val = y_train[train_idx], y_train[val_idx]\n",
    "\n",
    "        knn_clf = KNeighborsClassifier(**knn_params)\n",
    "        knn_clf.fit(X_tr, y_tr)\n",
    "\n",
    "        y_pred = knn_clf.predict_proba(X_val)[:, 1]\n",
    "\n",
    "        auc = roc_auc_score(y_val, y_pred)\n",
    "        #recall_value = recall_score(y_val, y_pred)\n",
    "        \n",
    "        all_scores.append(auc)\n",
    "        #all_recalls.append(recall_value)\n",
    "\n",
    "    avg_auc = np.mean(all_scores)\n",
    "    #avg_recall = np.mean(all_recalls)\n",
    "\n",
    "    return avg_auc\n",
    "\n",
    "study = optuna.create_study(direction=\"maximize\")\n",
    "study.optimize(objective, n_trials=10)\n",
    "\n",
    "print(\"Best trial:\")\n",
    "trial = study.best_trial\n",
    "print(\"  Avg_roc_auc_score: {}\".format(trial.value))\n",
    "print(\"  Params: \")\n",
    "for key, value in trial.params.items():\n",
    "    print(\"    {}: {}\".format(key, value))\n",
    "\n",
    "best_params = trial.params\n",
    "knn_clf = KNeighborsClassifier(**best_params)\n",
    "knn_clf.fit(X_train, y_train)"
   ]
  },
  {
   "cell_type": "code",
   "execution_count": 40,
   "id": "284070eb",
   "metadata": {},
   "outputs": [
    {
     "name": "stdout",
     "output_type": "stream",
     "text": [
      "Accuracy_value:  0.9142857142857143\n",
      "f1_score_value:  0.14285714285714285\n",
      "recall_value:  0.08\n",
      "roc_auc_score:  0.5380392156862746\n"
     ]
    }
   ],
   "source": [
    "knn_pred = knn_clf.predict(X_test)\n",
    "\n",
    "print(\"Accuracy_value: \", accuracy_score(y_test, knn_pred))\n",
    "print(\"f1_score_value: \", f1_score(y_test, knn_pred))\n",
    "print(\"recall_value: \", recall_score(y_test, knn_pred))\n",
    "print(\"roc_auc_score: \", roc_auc_score(y_test, knn_pred))"
   ]
  },
  {
   "cell_type": "code",
   "execution_count": 73,
   "id": "c77ab405",
   "metadata": {},
   "outputs": [
    {
     "data": {
      "image/png": "[encoded data removed]",
      "text/plain": [
       "<Figure size 800x600 with 1 Axes>"
      ]
     },
     "metadata": {},
     "output_type": "display_data"
    }
   ],
   "source": [
    "train_sizes, train_scores, test_scores = learning_curve(\n",
    "    estimator=knn_clf,\n",
    "    X=X_train,\n",
    "    y=y_train,\n",
    "    cv=10,\n",
    "    scoring='roc_auc',\n",
    "    train_sizes=np.linspace(0.1, 1.0, 10),\n",
    "    n_jobs=-1\n",
    ")\n",
    "\n",
    "train_scores_mean = np.mean(train_scores, axis=1)\n",
    "train_scores_std = np.std(train_scores, axis=1)\n",
    "test_scores_mean = np.mean(test_scores, axis=1)\n",
    "test_scores_std = np.std(test_scores, axis=1)\n",
    "\n",
    "plt.figure(figsize=(8, 6))\n",
    "plt.title(\"Learning Curve(KNN)\")\n",
    "plt.xlabel(\"Training examples\")\n",
    "plt.ylabel(\"Score\")\n",
    "plt.grid()\n",
    "plt.fill_between(train_sizes, train_scores_mean - train_scores_std,\n",
    "                 train_scores_mean + train_scores_std, alpha=0.1,\n",
    "                 color=\"r\")\n",
    "plt.fill_between(train_sizes, test_scores_mean - test_scores_std,\n",
    "                 test_scores_mean + test_scores_std, alpha=0.1,\n",
    "                 color=\"g\")\n",
    "plt.plot(train_sizes, train_scores_mean, 'o-', color=\"r\",\n",
    "         label=\"Training score\")\n",
    "plt.plot(train_sizes, test_scores_mean, 'o-', color=\"g\",\n",
    "         label=\"Cross-validation score\")\n",
    "plt.legend(loc=\"best\")\n",
    "plt.show()"
   ]
  },
  {
   "cell_type": "code",
   "execution_count": 41,
   "id": "a293a8d1",
   "metadata": {},
   "outputs": [
    {
     "data": {
      "text/plain": [
       "['knn_model.joblib']"
      ]
     },
     "execution_count": 41,
     "metadata": {},
     "output_type": "execute_result"
    }
   ],
   "source": [
    "# Save the trained model to a file\n",
    "dump(knn_clf, 'knn_model.joblib')"
   ]
  },
  {
   "cell_type": "markdown",
   "id": "z0Pe8o2E6rzP",
   "metadata": {
    "id": "z0Pe8o2E6rzP"
   },
   "source": [
    "# Logistic Regression Classifier"
   ]
  },
  {
   "cell_type": "code",
   "execution_count": 42,
   "id": "4J0fK0Zl6LQz",
   "metadata": {
    "colab": {
     "base_uri": "https://localhost:8080/",
     "height": 450
    },
    "id": "4J0fK0Zl6LQz",
    "outputId": "b4221e25-5cb6-487c-e8e3-ca150e5863d2",
    "scrolled": true
   },
   "outputs": [
    {
     "name": "stdout",
     "output_type": "stream",
     "text": [
      "Fold 0 \t auc: 0.8382003028336578\n",
      "Fold 1 \t auc: 0.8671858100800346\n",
      "Fold 2 \t auc: 0.8555050832792559\n",
      "Fold 3 \t auc: 0.8070516980315813\n",
      "Fold 4 \t auc: 0.8247890979883192\n",
      "Fold 5 \t auc: 0.8985507246376812\n",
      "Fold 6 \t auc: 0.9145183175033921\n",
      "Fold 7 \t auc: 0.8274536408864768\n",
      "Fold 8 \t auc: 0.8995929443690638\n",
      "Fold 9 \t auc: 0.8561736770691994\n",
      "Avg AUC: 0.8589021296678663\n"
     ]
    },
    {
     "data": {
      "text/plain": [
       "LogisticRegression()"
      ]
     },
     "execution_count": 42,
     "metadata": {},
     "output_type": "execute_result"
    }
   ],
   "source": [
    "lr_params = {\n",
    "    'penalty': 'l2',\n",
    "    'dual': False,\n",
    "    'tol': 0.0001,\n",
    "    'C': 1.0,\n",
    "    'fit_intercept': True,\n",
    "    'intercept_scaling': 1,\n",
    "    'class_weight': None,\n",
    "    'random_state': None,\n",
    "    'solver': 'lbfgs',\n",
    "    'max_iter': 100,\n",
    "    'multi_class': 'auto',\n",
    "    'verbose': 0,\n",
    "    'warm_start': False,\n",
    "    'n_jobs': None,\n",
    "    'l1_ratio': None\n",
    "}\n",
    "\n",
    "lr_clf = LogisticRegression(**lr_params)\n",
    "cross_validate(X_train, y_train, lr_clf)\n",
    "lr_clf.fit(X_train, y_train)"
   ]
  },
  {
   "cell_type": "code",
   "execution_count": 43,
   "id": "slHz2LJj8R0x",
   "metadata": {
    "id": "slHz2LJj8R0x",
    "outputId": "713138e9-065d-4e8d-f24c-7456b9688b9e",
    "scrolled": true
   },
   "outputs": [
    {
     "name": "stderr",
     "output_type": "stream",
     "text": [
      "\u001b[32m[I 2023-05-07 10:57:27,864]\u001b[0m A new study created in memory with name: no-name-7e9c4055-df1d-4af9-b8ab-b1e265ce3daa\u001b[0m\n",
      "\u001b[32m[I 2023-05-07 10:57:27,936]\u001b[0m Trial 0 finished with value: 0.7999360902994906 and parameters: {'penalty': 'l2', 'C': 0.0022932807996588096, 'fit_intercept': False, 'solver': 'lbfgs'}. Best is trial 0 with value: 0.7999360902994906.\u001b[0m\n",
      "\u001b[32m[I 2023-05-07 10:57:28,071]\u001b[0m Trial 1 finished with value: 0.8586405915088589 and parameters: {'penalty': 'l2', 'C': 16.14507191615627, 'fit_intercept': True, 'solver': 'liblinear'}. Best is trial 1 with value: 0.8586405915088589.\u001b[0m\n",
      "\u001b[32m[I 2023-05-07 10:57:28,350]\u001b[0m Trial 2 finished with value: 0.7998820128605982 and parameters: {'penalty': 'l2', 'C': 0.00030328882369830615, 'fit_intercept': True, 'solver': 'saga'}. Best is trial 1 with value: 0.8586405915088589.\u001b[0m\n",
      "\u001b[32m[I 2023-05-07 10:57:28,536]\u001b[0m Trial 3 finished with value: 0.797772992743791 and parameters: {'penalty': 'l2', 'C': 0.00013233318646265144, 'fit_intercept': True, 'solver': 'saga'}. Best is trial 1 with value: 0.8586405915088589.\u001b[0m\n",
      "\u001b[32m[I 2023-05-07 10:57:28,808]\u001b[0m Trial 4 finished with value: 0.8580732700135686 and parameters: {'penalty': 'l2', 'C': 0.18901479799608606, 'fit_intercept': True, 'solver': 'lbfgs'}. Best is trial 1 with value: 0.8586405915088589.\u001b[0m\n",
      "\u001b[32m[I 2023-05-07 10:57:29,513]\u001b[0m Trial 5 finished with value: 0.8587939747900812 and parameters: {'penalty': 'l2', 'C': 47.10822304427045, 'fit_intercept': True, 'solver': 'saga'}. Best is trial 5 with value: 0.8587939747900812.\u001b[0m\n",
      "\u001b[32m[I 2023-05-07 10:57:29,559]\u001b[0m Trial 6 finished with value: 0.7706910113464299 and parameters: {'penalty': 'l2', 'C': 0.0012187330338503703, 'fit_intercept': False, 'solver': 'liblinear'}. Best is trial 5 with value: 0.8587939747900812.\u001b[0m\n",
      "\u001b[32m[I 2023-05-07 10:57:29,654]\u001b[0m Trial 7 finished with value: 0.8595972705641751 and parameters: {'penalty': 'l2', 'C': 0.45201271460956494, 'fit_intercept': True, 'solver': 'liblinear'}. Best is trial 7 with value: 0.8595972705641751.\u001b[0m\n",
      "\u001b[32m[I 2023-05-07 10:57:29,916]\u001b[0m Trial 8 finished with value: 0.8556663323697716 and parameters: {'penalty': 'l2', 'C': 0.07592769583828832, 'fit_intercept': False, 'solver': 'saga'}. Best is trial 7 with value: 0.8595972705641751.\u001b[0m\n",
      "\u001b[32m[I 2023-05-07 10:57:30,009]\u001b[0m Trial 9 finished with value: 0.8595707234578098 and parameters: {'penalty': 'l2', 'C': 7.990177314708676, 'fit_intercept': False, 'solver': 'liblinear'}. Best is trial 7 with value: 0.8595972705641751.\u001b[0m\n"
     ]
    },
    {
     "name": "stdout",
     "output_type": "stream",
     "text": [
      "Best trial:\n",
      "  Avg_roc_auc_score: 0.8595972705641751\n",
      "  Params: \n",
      "    penalty: l2\n",
      "    C: 0.45201271460956494\n",
      "    fit_intercept: True\n",
      "    solver: liblinear\n"
     ]
    },
    {
     "data": {
      "text/plain": [
       "LogisticRegression(C=0.45201271460956494, solver='liblinear')"
      ]
     },
     "execution_count": 43,
     "metadata": {},
     "output_type": "execute_result"
    }
   ],
   "source": [
    "def objective(trial):\n",
    "    # Define the hyperparameters to be tuned by Optuna\n",
    "    params = {\n",
    "        'penalty': trial.suggest_categorical('penalty', ['l2']),\n",
    "        'C': trial.suggest_loguniform('C', 1e-4, 100),\n",
    "        'fit_intercept': trial.suggest_categorical('fit_intercept', [True, False]),\n",
    "        'solver': trial.suggest_categorical('solver', ['lbfgs', 'liblinear', 'saga'])\n",
    "    }\n",
    "    \n",
    "    # Train and evaluate the logistic regression model using cross-validation\n",
    "    skf = StratifiedKFold(n_splits=10, shuffle=True, random_state=42)\n",
    "    all_scores = []\n",
    "    all_recalls = []\n",
    "    \n",
    "    for fold_id, (train_idx, val_idx) in enumerate(skf.split(X_train, y_train)):\n",
    "        X_tr, X_val = X_train[train_idx], X_train[val_idx]\n",
    "        y_tr, y_val = y_train[train_idx], y_train[val_idx]\n",
    "        \n",
    "        model = LogisticRegression(**params)\n",
    "        model.fit(X_tr, y_tr)\n",
    "        \n",
    "        y_pred = model.predict_proba(X_val)[:, 1]\n",
    "        auc = roc_auc_score(y_val, y_pred)\n",
    "        #recall_value = recall_score(y_val, y_pred)\n",
    "        all_scores.append(auc)\n",
    "        #all_recalls.append(recall_value)\n",
    "        \n",
    "    #avg_recall = np.mean(all_recalls)\n",
    "    avg_auc = np.mean(all_scores)\n",
    "    \n",
    "    return avg_auc\n",
    "\n",
    "study = optuna.create_study(direction='maximize')\n",
    "study.optimize(objective, n_trials=10)\n",
    "\n",
    "print(\"Best trial:\")\n",
    "trial = study.best_trial\n",
    "print(\"  Avg_roc_auc_score: {}\".format(trial.value))\n",
    "print(\"  Params: \")\n",
    "for key, value in trial.params.items():\n",
    "    print(\"    {}: {}\".format(key, value))\n",
    "\n",
    "best_params = trial.params\n",
    "lr_clf = LogisticRegression(**best_params)\n",
    "lr_clf.fit(X_train, y_train)"
   ]
  },
  {
   "cell_type": "code",
   "execution_count": 44,
   "id": "f757a397",
   "metadata": {},
   "outputs": [
    {
     "name": "stdout",
     "output_type": "stream",
     "text": [
      "Accuracy_value:  0.9303571428571429\n",
      "f1_score_value:  0.4799999999999999\n",
      "recall_value:  0.36\n",
      "roc_auc_score:  0.6731372549019607\n"
     ]
    }
   ],
   "source": [
    "lr_pred = lr_clf.predict(X_test)\n",
    "\n",
    "print(\"Accuracy_value: \", accuracy_score(y_test, lr_pred))\n",
    "print(\"f1_score_value: \", f1_score(y_test, lr_pred))\n",
    "print(\"recall_value: \", recall_score(y_test, lr_pred))\n",
    "print(\"roc_auc_score: \", roc_auc_score(y_test, lr_pred))"
   ]
  },
  {
   "cell_type": "code",
   "execution_count": 74,
   "id": "331a3a60",
   "metadata": {},
   "outputs": [
    {
     "data": {
      "image/png": "[encoded data removed]",
      "text/plain": [
       "<Figure size 800x600 with 1 Axes>"
      ]
     },
     "metadata": {},
     "output_type": "display_data"
    }
   ],
   "source": [
    "train_sizes, train_scores, test_scores = learning_curve(\n",
    "    estimator=lr_clf,\n",
    "    X=X_train,\n",
    "    y=y_train,\n",
    "    cv=10,\n",
    "    scoring='roc_auc',\n",
    "    train_sizes=np.linspace(0.1, 1.0, 10),\n",
    "    n_jobs=-1\n",
    ")\n",
    "\n",
    "train_scores_mean = np.mean(train_scores, axis=1)\n",
    "train_scores_std = np.std(train_scores, axis=1)\n",
    "test_scores_mean = np.mean(test_scores, axis=1)\n",
    "test_scores_std = np.std(test_scores, axis=1)\n",
    "\n",
    "plt.figure(figsize=(8, 6))\n",
    "plt.title(\"Learning Curve(LR)\")\n",
    "plt.xlabel(\"Training examples\")\n",
    "plt.ylabel(\"Score\")\n",
    "plt.grid()\n",
    "plt.fill_between(train_sizes, train_scores_mean - train_scores_std,\n",
    "                 train_scores_mean + train_scores_std, alpha=0.1,\n",
    "                 color=\"r\")\n",
    "plt.fill_between(train_sizes, test_scores_mean - test_scores_std,\n",
    "                 test_scores_mean + test_scores_std, alpha=0.1,\n",
    "                 color=\"g\")\n",
    "plt.plot(train_sizes, train_scores_mean, 'o-', color=\"r\",\n",
    "         label=\"Training score\")\n",
    "plt.plot(train_sizes, test_scores_mean, 'o-', color=\"g\",\n",
    "         label=\"Cross-validation score\")\n",
    "plt.legend(loc=\"best\")\n",
    "plt.show()"
   ]
  },
  {
   "cell_type": "code",
   "execution_count": 45,
   "id": "051bb6b2",
   "metadata": {},
   "outputs": [
    {
     "data": {
      "text/plain": [
       "['lr_model.joblib']"
      ]
     },
     "execution_count": 45,
     "metadata": {},
     "output_type": "execute_result"
    }
   ],
   "source": [
    "# Save the trained model to a file\n",
    "dump(lr_clf, 'lr_model.joblib')"
   ]
  },
  {
   "cell_type": "markdown",
   "id": "7_wJoZ4FulqO",
   "metadata": {
    "id": "7_wJoZ4FulqO"
   },
   "source": [
    "# Random Forest"
   ]
  },
  {
   "cell_type": "code",
   "execution_count": 46,
   "id": "Ta5kjYsJunpN",
   "metadata": {
    "colab": {
     "base_uri": "https://localhost:8080/",
     "height": 450
    },
    "id": "Ta5kjYsJunpN",
    "outputId": "485db055-4b62-4c99-f1b3-7c273fc68f15"
   },
   "outputs": [
    {
     "name": "stdout",
     "output_type": "stream",
     "text": [
      "Fold 0 \t auc: 0.8301968418775687\n",
      "Fold 1 \t auc: 0.8291152930997188\n",
      "Fold 2 \t auc: 0.863724853990915\n",
      "Fold 3 \t auc: 0.7769846420073545\n",
      "Fold 4 \t auc: 0.8669695003244646\n",
      "Fold 5 \t auc: 0.9149902660609993\n",
      "Fold 6 \t auc: 0.9224332881049299\n",
      "Fold 7 \t auc: 0.8629579375848033\n",
      "Fold 8 \t auc: 0.8717774762550882\n",
      "Fold 9 \t auc: 0.8349163274536409\n",
      "Avg AUC: 0.8574066426759483\n"
     ]
    },
    {
     "data": {
      "text/plain": [
       "RandomForestClassifier(max_depth=10, n_jobs=-1, random_state=42)"
      ]
     },
     "execution_count": 46,
     "metadata": {},
     "output_type": "execute_result"
    }
   ],
   "source": [
    "rf_params = { 'n_estimators': 100,\n",
    "              'criterion': 'gini',\n",
    "              'max_depth': 10,\n",
    "              'min_samples_split': 2,\n",
    "              'min_samples_leaf': 1,\n",
    "              'max_features': 'auto',\n",
    "              'bootstrap': True,\n",
    "              'min_impurity_decrease': 0.0,  \n",
    "              'random_state': 42,\n",
    "              'n_jobs': -1\n",
    "             }\n",
    "\n",
    "rf_clf = RandomForestClassifier(**rf_params)\n",
    "cross_validate(X_train, y_train, rf_clf)\n",
    "rf_clf.fit(X_train, y_train)"
   ]
  },
  {
   "cell_type": "code",
   "execution_count": 47,
   "id": "28fd9da1",
   "metadata": {
    "id": "28fd9da1",
    "outputId": "475c78fa-3c1c-43a1-f108-4e2077a13ac9",
    "scrolled": true
   },
   "outputs": [
    {
     "name": "stderr",
     "output_type": "stream",
     "text": [
      "\u001b[32m[I 2023-05-07 10:57:31,712]\u001b[0m A new study created in memory with name: no-name-bf069405-7cec-4a8b-8a12-1ab283872551\u001b[0m\n",
      "\u001b[32m[I 2023-05-07 10:58:12,442]\u001b[0m Trial 0 finished with value: 0.8707018292682928 and parameters: {'n_estimators': 600, 'criterion': 'gini', 'max_depth': 30, 'min_samples_split': 16, 'min_samples_leaf': 4, 'max_features': 'sqrt'}. Best is trial 0 with value: 0.8707018292682928.\u001b[0m\n",
      "\u001b[32m[I 2023-05-07 10:58:19,964]\u001b[0m Trial 1 finished with value: 0.87155 and parameters: {'n_estimators': 100, 'criterion': 'gini', 'max_depth': 35, 'min_samples_split': 12, 'min_samples_leaf': 2, 'max_features': 'sqrt'}. Best is trial 1 with value: 0.87155.\u001b[0m\n",
      "\u001b[32m[I 2023-05-07 10:58:43,528]\u001b[0m Trial 2 finished with value: 0.8729329268292684 and parameters: {'n_estimators': 300, 'criterion': 'entropy', 'max_depth': 50, 'min_samples_split': 10, 'min_samples_leaf': 3, 'max_features': 'log2'}. Best is trial 2 with value: 0.8729329268292684.\u001b[0m\n",
      "\u001b[32m[I 2023-05-07 10:59:26,518]\u001b[0m Trial 3 finished with value: 0.8693256097560976 and parameters: {'n_estimators': 600, 'criterion': 'entropy', 'max_depth': 20, 'min_samples_split': 8, 'min_samples_leaf': 8, 'max_features': 'sqrt'}. Best is trial 2 with value: 0.8729329268292684.\u001b[0m\n",
      "\u001b[32m[I 2023-05-07 10:59:54,713]\u001b[0m Trial 4 finished with value: 0.8676853658536586 and parameters: {'n_estimators': 400, 'criterion': 'gini', 'max_depth': 50, 'min_samples_split': 8, 'min_samples_leaf': 10, 'max_features': 'log2'}. Best is trial 2 with value: 0.8729329268292684.\u001b[0m\n",
      "\u001b[32m[I 2023-05-07 11:00:02,323]\u001b[0m Trial 5 finished with value: 0.8677006097560976 and parameters: {'n_estimators': 100, 'criterion': 'gini', 'max_depth': 15, 'min_samples_split': 10, 'min_samples_leaf': 6, 'max_features': 'auto'}. Best is trial 2 with value: 0.8729329268292684.\u001b[0m\n",
      "\u001b[32m[I 2023-05-07 11:00:17,007]\u001b[0m Trial 6 finished with value: 0.8674134146341462 and parameters: {'n_estimators': 200, 'criterion': 'entropy', 'max_depth': 45, 'min_samples_split': 18, 'min_samples_leaf': 4, 'max_features': 'log2'}. Best is trial 2 with value: 0.8729329268292684.\u001b[0m\n",
      "\u001b[32m[I 2023-05-07 11:00:24,705]\u001b[0m Trial 7 finished with value: 0.8639012195121951 and parameters: {'n_estimators': 100, 'criterion': 'gini', 'max_depth': 35, 'min_samples_split': 2, 'min_samples_leaf': 3, 'max_features': 'log2'}. Best is trial 2 with value: 0.8729329268292684.\u001b[0m\n",
      "\u001b[32m[I 2023-05-07 11:01:19,462]\u001b[0m Trial 8 finished with value: 0.8637621951219512 and parameters: {'n_estimators': 800, 'criterion': 'gini', 'max_depth': 5, 'min_samples_split': 20, 'min_samples_leaf': 5, 'max_features': 'log2'}. Best is trial 2 with value: 0.8729329268292684.\u001b[0m\n",
      "\u001b[32m[I 2023-05-07 11:01:55,331]\u001b[0m Trial 9 finished with value: 0.8695664634146343 and parameters: {'n_estimators': 500, 'criterion': 'gini', 'max_depth': 35, 'min_samples_split': 16, 'min_samples_leaf': 6, 'max_features': 'log2'}. Best is trial 2 with value: 0.8729329268292684.\u001b[0m\n"
     ]
    },
    {
     "name": "stdout",
     "output_type": "stream",
     "text": [
      "Best trial:\n",
      "  Avg_roc_auc_score: 0.8729329268292684\n",
      "  Params: \n",
      "    n_estimators: 300\n",
      "    criterion: entropy\n",
      "    max_depth: 50\n",
      "    min_samples_split: 10\n",
      "    min_samples_leaf: 3\n",
      "    max_features: log2\n"
     ]
    },
    {
     "data": {
      "text/plain": [
       "RandomForestClassifier(criterion='entropy', max_depth=50, max_features='log2',\n",
       "                       min_samples_leaf=3, min_samples_split=10,\n",
       "                       n_estimators=300)"
      ]
     },
     "execution_count": 47,
     "metadata": {},
     "output_type": "execute_result"
    }
   ],
   "source": [
    "def objective(trial):\n",
    "    n_estimators = trial.suggest_int('n_estimators', 100, 1000, step=100)\n",
    "    criterion = trial.suggest_categorical('criterion', ['gini', 'entropy'])\n",
    "    max_depth = trial.suggest_int('max_depth', 5, 50, step=5)\n",
    "    min_samples_split = trial.suggest_int('min_samples_split', 2, 20, step=2)\n",
    "    min_samples_leaf = trial.suggest_int('min_samples_leaf', 1, 10, step=1)\n",
    "    max_features = trial.suggest_categorical('max_features', ['auto', 'sqrt', 'log2'])\n",
    "    bootstrap = True\n",
    "    oob_score = False\n",
    "    random_state = 42\n",
    "    n_jobs = -1\n",
    "   \n",
    "    rf_params = {\n",
    "        'n_estimators': n_estimators,\n",
    "        'criterion': criterion,\n",
    "        'max_depth': max_depth,\n",
    "        'min_samples_split': min_samples_split,\n",
    "        'min_samples_leaf': min_samples_leaf,\n",
    "        'max_features': max_features,\n",
    "        'bootstrap': bootstrap,\n",
    "        'oob_score': oob_score,\n",
    "        'random_state': random_state,\n",
    "        'n_jobs': n_jobs\n",
    "    }\n",
    "    \n",
    "    model = RandomForestClassifier(**rf_params)\n",
    "    \n",
    "    skf = StratifiedKFold(n_splits=50, shuffle=True, random_state=42)\n",
    "    all_scores = []\n",
    "    all_recalls = []\n",
    "\n",
    "    for fold_id, (train_idx, val_idx) in enumerate(skf.split(X_train, y_train)):\n",
    "        X_tr, X_val = X_train[train_idx], X_train[val_idx]\n",
    "        y_tr, y_val = y_train[train_idx], y_train[val_idx]\n",
    "\n",
    "        model.fit(X_tr, y_tr)\n",
    "\n",
    "        y_pred = model.predict_proba(X_val)[:, 1]\n",
    "        #y_pred = (model.predict_proba(X_val)[:, 1] > 0.5).astype(int)\n",
    "\n",
    "        auc = roc_auc_score(y_val, y_pred)\n",
    "        #recall_value = recall_score(y_val, y_pred)\n",
    "\n",
    "        all_scores.append(auc)\n",
    "        #all_recalls.append(recall_value)\n",
    "\n",
    "    avg_auc = np.mean(all_scores)\n",
    "    #avg_recall = np.mean(all_recalls)\n",
    "\n",
    "    return avg_auc\n",
    "\n",
    "study = optuna.create_study(direction='maximize')\n",
    "study.optimize(objective, n_trials=10)\n",
    "\n",
    "print(\"Best trial:\")\n",
    "trial = study.best_trial\n",
    "print(\"  Avg_roc_auc_score: {}\".format(trial.value))\n",
    "print(\"  Params: \")\n",
    "for key, value in trial.params.items():\n",
    "    print(\"    {}: {}\".format(key, value))\n",
    "\n",
    "best_params = study.best_params\n",
    "rf_clf = RandomForestClassifier(**best_params)\n",
    "rf_clf.fit(X_train, y_train)"
   ]
  },
  {
   "cell_type": "code",
   "execution_count": 48,
   "id": "d0b4b402",
   "metadata": {},
   "outputs": [
    {
     "name": "stdout",
     "output_type": "stream",
     "text": [
      "Accuracy_value:  0.9267857142857143\n",
      "f1_score_value:  0.32786885245901637\n",
      "recall_value:  0.2\n",
      "roc_auc_score:  0.5990196078431372\n"
     ]
    }
   ],
   "source": [
    "rf_pred = rf_clf.predict(X_test)\n",
    "\n",
    "print(\"Accuracy_value: \", accuracy_score(y_test, rf_pred))\n",
    "print(\"f1_score_value: \", f1_score(y_test, rf_pred))\n",
    "print(\"recall_value: \", recall_score(y_test, rf_pred))\n",
    "print(\"roc_auc_score: \", roc_auc_score(y_test, rf_pred))"
   ]
  },
  {
   "cell_type": "code",
   "execution_count": 75,
   "id": "c9718c52",
   "metadata": {},
   "outputs": [
    {
     "data": {
      "image/png": "[encoded data removed]",
      "text/plain": [
       "<Figure size 800x600 with 1 Axes>"
      ]
     },
     "metadata": {},
     "output_type": "display_data"
    }
   ],
   "source": [
    "train_sizes, train_scores, test_scores = learning_curve(\n",
    "    estimator=rf_clf,\n",
    "    X=X_train,\n",
    "    y=y_train,\n",
    "    cv=10,\n",
    "    scoring='roc_auc',\n",
    "    train_sizes=np.linspace(0.1, 1.0, 10),\n",
    "    n_jobs=-1\n",
    ")\n",
    "\n",
    "train_scores_mean = np.mean(train_scores, axis=1)\n",
    "train_scores_std = np.std(train_scores, axis=1)\n",
    "test_scores_mean = np.mean(test_scores, axis=1)\n",
    "test_scores_std = np.std(test_scores, axis=1)\n",
    "\n",
    "plt.figure(figsize=(8, 6))\n",
    "plt.title(\"Learning Curve(RF)\")\n",
    "plt.xlabel(\"Training examples\")\n",
    "plt.ylabel(\"Score\")\n",
    "plt.grid()\n",
    "plt.fill_between(train_sizes, train_scores_mean - train_scores_std,\n",
    "                 train_scores_mean + train_scores_std, alpha=0.1,\n",
    "                 color=\"r\")\n",
    "plt.fill_between(train_sizes, test_scores_mean - test_scores_std,\n",
    "                 test_scores_mean + test_scores_std, alpha=0.1,\n",
    "                 color=\"g\")\n",
    "plt.plot(train_sizes, train_scores_mean, 'o-', color=\"r\",\n",
    "         label=\"Training score\")\n",
    "plt.plot(train_sizes, test_scores_mean, 'o-', color=\"g\",\n",
    "         label=\"Cross-validation score\")\n",
    "plt.legend(loc=\"best\")\n",
    "plt.show()"
   ]
  },
  {
   "cell_type": "code",
   "execution_count": 49,
   "id": "e7c5acc5",
   "metadata": {},
   "outputs": [
    {
     "data": {
      "text/plain": [
       "['rf_model.joblib']"
      ]
     },
     "execution_count": 49,
     "metadata": {},
     "output_type": "execute_result"
    }
   ],
   "source": [
    "# Save the trained model to a file\n",
    "dump(rf_clf, 'rf_model.joblib')"
   ]
  },
  {
   "cell_type": "markdown",
   "id": "834833b9",
   "metadata": {
    "id": "834833b9"
   },
   "source": [
    "# Suport Vector Machine"
   ]
  },
  {
   "cell_type": "code",
   "execution_count": 50,
   "id": "ac1cac38",
   "metadata": {
    "id": "ac1cac38",
    "outputId": "a108564b-6398-4a92-a650-5422eff11b04"
   },
   "outputs": [
    {
     "name": "stdout",
     "output_type": "stream",
     "text": [
      "Fold 0 \t auc: 0.7700627298291153\n",
      "Fold 1 \t auc: 0.8756218905472637\n",
      "Fold 2 \t auc: 0.8831927319922128\n",
      "Fold 3 \t auc: 0.7971014492753623\n",
      "Fold 4 \t auc: 0.8133246809431105\n",
      "Fold 5 \t auc: 0.8312783906554185\n",
      "Fold 6 \t auc: 0.8950701040253278\n",
      "Fold 7 \t auc: 0.8215739484396201\n",
      "Fold 8 \t auc: 0.8959746720940751\n",
      "Fold 9 \t auc: 0.8541383989145183\n",
      "Avg AUC: 0.8437338996716024\n"
     ]
    },
    {
     "data": {
      "text/plain": [
       "SVC(probability=True)"
      ]
     },
     "execution_count": 50,
     "metadata": {},
     "output_type": "execute_result"
    }
   ],
   "source": [
    "svm_params = {'C': 1.0,\n",
    "              'kernel': 'rbf',\n",
    "              'degree': 3,\n",
    "              'gamma': 'scale',\n",
    "              'coef0': 0.0,\n",
    "              'shrinking': True,\n",
    "              'probability': True,\n",
    "              'tol': 0.001,\n",
    "              'cache_size': 200,\n",
    "              'class_weight': None,\n",
    "              'verbose': False,\n",
    "              'max_iter': -1,\n",
    "              'decision_function_shape': 'ovr',\n",
    "              'break_ties': False,\n",
    "              'random_state': None}\n",
    "\n",
    "svm_clf = SVC(**svm_params)\n",
    "cross_validate(X_train, y_train, svm_clf)\n",
    "svm_clf.fit(X_train, y_train)"
   ]
  },
  {
   "cell_type": "code",
   "execution_count": 51,
   "id": "e21c4623",
   "metadata": {},
   "outputs": [
    {
     "name": "stdout",
     "output_type": "stream",
     "text": [
      "Accuracy_value:  0.9107142857142857\n",
      "f1_score_value:  0.0\n",
      "recall_value:  0.0\n",
      "roc_auc_score:  0.5\n"
     ]
    }
   ],
   "source": [
    "svm_pred = svm_clf.predict(X_test)\n",
    "\n",
    "print(\"Accuracy_value: \", accuracy_score(y_test, svm_pred))\n",
    "print(\"f1_score_value: \", f1_score(y_test, svm_pred))\n",
    "print(\"recall_value: \", recall_score(y_test, svm_pred))\n",
    "print(\"roc_auc_score: \", roc_auc_score(y_test, svm_pred))"
   ]
  },
  {
   "cell_type": "code",
   "execution_count": 71,
   "id": "755ec7b1",
   "metadata": {},
   "outputs": [
    {
     "data": {
      "image/png": "[encoded data removed]",
      "text/plain": [
       "<Figure size 800x600 with 1 Axes>"
      ]
     },
     "metadata": {},
     "output_type": "display_data"
    }
   ],
   "source": [
    "train_sizes, train_scores, test_scores = learning_curve(\n",
    "    estimator=svm_clf,\n",
    "    X=X_train,\n",
    "    y=y_train,\n",
    "    cv=10,\n",
    "    scoring='roc_auc',\n",
    "    train_sizes=np.linspace(0.1, 1.0, 10),\n",
    "    n_jobs=-1\n",
    ")\n",
    "\n",
    "train_scores_mean = np.mean(train_scores, axis=1)\n",
    "train_scores_std = np.std(train_scores, axis=1)\n",
    "test_scores_mean = np.mean(test_scores, axis=1)\n",
    "test_scores_std = np.std(test_scores, axis=1)\n",
    "\n",
    "plt.figure(figsize=(8, 6))\n",
    "plt.title(\"Learning Curve(SVM)\")\n",
    "plt.xlabel(\"Training examples\")\n",
    "plt.ylabel(\"Score\")\n",
    "plt.grid()\n",
    "plt.fill_between(train_sizes, train_scores_mean - train_scores_std,\n",
    "                 train_scores_mean + train_scores_std, alpha=0.1,\n",
    "                 color=\"r\")\n",
    "plt.fill_between(train_sizes, test_scores_mean - test_scores_std,\n",
    "                 test_scores_mean + test_scores_std, alpha=0.1,\n",
    "                 color=\"g\")\n",
    "plt.plot(train_sizes, train_scores_mean, 'o-', color=\"r\",\n",
    "         label=\"Training score\")\n",
    "plt.plot(train_sizes, test_scores_mean, 'o-', color=\"g\",\n",
    "         label=\"Cross-validation score\")\n",
    "plt.legend(loc=\"best\")\n",
    "plt.show()"
   ]
  },
  {
   "cell_type": "code",
   "execution_count": 52,
   "id": "072d260f",
   "metadata": {},
   "outputs": [
    {
     "data": {
      "text/plain": [
       "['svm_model.joblib']"
      ]
     },
     "execution_count": 52,
     "metadata": {},
     "output_type": "execute_result"
    }
   ],
   "source": [
    "# Save the trained model to a file\n",
    "dump(svm_clf, 'svm_model.joblib')"
   ]
  },
  {
   "cell_type": "code",
   "execution_count": 53,
   "id": "76bf97ec",
   "metadata": {
    "id": "76bf97ec",
    "outputId": "cc7f7349-a9ee-4f23-a08b-f13ccea3495a"
   },
   "outputs": [],
   "source": [
    "# def objective(trial):\n",
    "#     # Define the hyperparameters to be tuned by Optuna\n",
    "#     params = {\n",
    "#         'C': trial.suggest_loguniform('C', 1e-4, 100),\n",
    "#         'kernel': trial.suggest_categorical('kernel', ['linear', 'rbf']),\n",
    "#         'gamma': trial.suggest_loguniform('gamma', 1e-4, 100),\n",
    "#         'degree': trial.suggest_int('degree', 2, 5),\n",
    "#         'coef0': trial.suggest_uniform('coef0', -1, 1)\n",
    "#     }\n",
    "    \n",
    "#     # Train and evaluate the SVC model using cross-validation\n",
    "#     skf = StratifiedKFold(n_splits=10, shuffle=True, random_state=42)\n",
    "#     all_scores = []\n",
    "    \n",
    "#     for fold_id, (train_idx, val_idx) in enumerate(skf.split(X_train, y_train)):\n",
    "#         X_tr, X_val = X_train[train_idx], X_train[val_idx]\n",
    "#         y_tr, y_val = y_train[train_idx], y_train[val_idx]\n",
    "        \n",
    "#         model = SVC(**params, probability=True)\n",
    "#         model.fit(X_tr, y_tr)\n",
    "#         y_pred = model.predict_proba(X_val)[:, 1]\n",
    "#         auc = roc_auc_score(y_val, y_pred)\n",
    "#         all_scores.append(auc)\n",
    "#     avg_auc = np.mean(all_scores)\n",
    "\n",
    "#     return avg_auc\n",
    "\n",
    "# study = optuna.create_study(direction='maximize')\n",
    "# study.optimize(objective, n_trials=10)\n",
    "\n",
    "# print(\"Best trial:\")\n",
    "# trial = study.best_trial\n",
    "# print(\"  Avg_roc_auc_score: {}\".format(trial.value))\n",
    "# print(\"  Params: \")\n",
    "# for key, value in trial.params.items():\n",
    "#     print(\"    {}: {}\".format(key, value))\n",
    "\n",
    "# best_params = trial.params\n",
    "# svm_clf = SVC(**best_params, probability=True)\n",
    "# svm_clf.fit(X_train, y_train)"
   ]
  },
  {
   "cell_type": "markdown",
   "id": "558989f8",
   "metadata": {},
   "source": [
    "# AdaBoost Classifier"
   ]
  },
  {
   "cell_type": "code",
   "execution_count": 54,
   "id": "8f71f7b6",
   "metadata": {},
   "outputs": [
    {
     "name": "stdout",
     "output_type": "stream",
     "text": [
      "Fold 0 \t auc: 0.8390655418559376\n",
      "Fold 1 \t auc: 0.8513951979234263\n",
      "Fold 2 \t auc: 0.8455548345230369\n",
      "Fold 3 \t auc: 0.8691325978801644\n",
      "Fold 4 \t auc: 0.8074843175427211\n",
      "Fold 5 \t auc: 0.8924940514817218\n",
      "Fold 6 \t auc: 0.8471279963817278\n",
      "Fold 7 \t auc: 0.886250565355043\n",
      "Fold 8 \t auc: 0.8950701040253279\n",
      "Fold 9 \t auc: 0.882858435097241\n",
      "Avg AUC: 0.8616433642066348\n"
     ]
    },
    {
     "data": {
      "text/plain": [
       "AdaBoostClassifier(random_state=42)"
      ]
     },
     "execution_count": 54,
     "metadata": {},
     "output_type": "execute_result"
    }
   ],
   "source": [
    "from sklearn.ensemble import AdaBoostClassifier\n",
    "\n",
    "ada_params = {'n_estimators': 50,\n",
    "                  'learning_rate': 1.0,\n",
    "                  'algorithm': 'SAMME.R',\n",
    "                  'random_state': 42}\n",
    "\n",
    "ada_clf = AdaBoostClassifier(**ada_params)\n",
    "cross_validate(X_train, y_train, ada_clf)\n",
    "ada_clf.fit(X_train, y_train)"
   ]
  },
  {
   "cell_type": "code",
   "execution_count": 55,
   "id": "0c751319",
   "metadata": {
    "scrolled": true
   },
   "outputs": [
    {
     "name": "stderr",
     "output_type": "stream",
     "text": [
      "\u001b[32m[I 2023-05-07 11:02:02,398]\u001b[0m A new study created in memory with name: no-name-4f70eb64-2891-4148-b83f-98f72c9ac227\u001b[0m\n",
      "\u001b[32m[I 2023-05-07 11:02:03,897]\u001b[0m Trial 0 finished with value: 0.810873498122038 and parameters: {'n_estimators': 62, 'learning_rate': 0.0496112290557376, 'algorithm': 'SAMME'}. Best is trial 0 with value: 0.810873498122038.\u001b[0m\n",
      "\u001b[32m[I 2023-05-07 11:02:07,487]\u001b[0m Trial 1 finished with value: 0.8751966452323364 and parameters: {'n_estimators': 150, 'learning_rate': 0.19163705657744576, 'algorithm': 'SAMME'}. Best is trial 1 with value: 0.8751966452323364.\u001b[0m\n",
      "\u001b[32m[I 2023-05-07 11:02:10,683]\u001b[0m Trial 2 finished with value: 0.8732911529309971 and parameters: {'n_estimators': 121, 'learning_rate': 0.08290885397195111, 'algorithm': 'SAMME.R'}. Best is trial 1 with value: 0.8751966452323364.\u001b[0m\n",
      "\u001b[32m[I 2023-05-07 11:02:14,764]\u001b[0m Trial 3 finished with value: 0.8484484691168662 and parameters: {'n_estimators': 171, 'learning_rate': 0.04118659854191082, 'algorithm': 'SAMME'}. Best is trial 1 with value: 0.8751966452323364.\u001b[0m\n",
      "\u001b[32m[I 2023-05-07 11:02:19,131]\u001b[0m Trial 4 finished with value: 0.873023223801939 and parameters: {'n_estimators': 184, 'learning_rate': 0.11372076058536273, 'algorithm': 'SAMME'}. Best is trial 1 with value: 0.8751966452323364.\u001b[0m\n",
      "\u001b[32m[I 2023-05-07 11:02:22,135]\u001b[0m Trial 5 finished with value: 0.8736495388669303 and parameters: {'n_estimators': 126, 'learning_rate': 0.17031631133405273, 'algorithm': 'SAMME'}. Best is trial 1 with value: 0.8751966452323364.\u001b[0m\n",
      "\u001b[32m[I 2023-05-07 11:02:27,211]\u001b[0m Trial 6 finished with value: 0.8697343322911136 and parameters: {'n_estimators': 186, 'learning_rate': 0.04231334842794337, 'algorithm': 'SAMME.R'}. Best is trial 1 with value: 0.8751966452323364.\u001b[0m\n",
      "\u001b[32m[I 2023-05-07 11:02:30,142]\u001b[0m Trial 7 finished with value: 0.8776920732306845 and parameters: {'n_estimators': 111, 'learning_rate': 0.1644233631495588, 'algorithm': 'SAMME.R'}. Best is trial 7 with value: 0.8776920732306845.\u001b[0m\n",
      "\u001b[32m[I 2023-05-07 11:02:34,930]\u001b[0m Trial 8 finished with value: 0.8357751755058699 and parameters: {'n_estimators': 181, 'learning_rate': 0.010115347186306373, 'algorithm': 'SAMME.R'}. Best is trial 7 with value: 0.8776920732306845.\u001b[0m\n",
      "\u001b[32m[I 2023-05-07 11:02:39,196]\u001b[0m Trial 9 finished with value: 0.8445779993314062 and parameters: {'n_estimators': 161, 'learning_rate': 0.018952630925902762, 'algorithm': 'SAMME.R'}. Best is trial 7 with value: 0.8776920732306845.\u001b[0m\n"
     ]
    },
    {
     "name": "stdout",
     "output_type": "stream",
     "text": [
      "Best trial:\n",
      "  Avg_roc_auc_score: 0.8776920732306845\n",
      "  Params: \n",
      "    n_estimators: 111\n",
      "    learning_rate: 0.1644233631495588\n",
      "    algorithm: SAMME.R\n"
     ]
    },
    {
     "data": {
      "text/plain": [
       "AdaBoostClassifier(learning_rate=0.1644233631495588, n_estimators=111)"
      ]
     },
     "execution_count": 55,
     "metadata": {},
     "output_type": "execute_result"
    }
   ],
   "source": [
    "def objective(trial):\n",
    "    \n",
    "    # Define the hyperparameters to be tuned by Optuna\n",
    "    params = {\n",
    "        'n_estimators': trial.suggest_int('n_estimators', 50, 200),\n",
    "        'learning_rate': trial.suggest_loguniform('learning_rate', 0.01, 1.0),\n",
    "        'algorithm': trial.suggest_categorical('algorithm', ['SAMME', 'SAMME.R'])\n",
    "    }\n",
    "    \n",
    "    # Train and evaluate the AdaBoostClassifier model using cross-validation\n",
    "    skf = StratifiedKFold(n_splits=10, shuffle=True, random_state=42)\n",
    "    all_scores = []\n",
    "    all_recalls = []\n",
    "    \n",
    "    for fold_id, (train_idx, val_idx) in enumerate(skf.split(X_train, y_train)):\n",
    "        X_tr, X_val = X_train[train_idx], X_train[val_idx]\n",
    "        y_tr, y_val = y_train[train_idx], y_train[val_idx]\n",
    "        \n",
    "        model = AdaBoostClassifier(**params)\n",
    "        model.fit(X_tr, y_tr)\n",
    "        \n",
    "        y_pred = model.predict_proba(X_val)[:, 1]\n",
    "        auc = roc_auc_score(y_val, y_pred)\n",
    "        #recall_value = recall_score(y_val, y_pred)\n",
    "        all_scores.append(auc)\n",
    "        #all_recalls.append(recall_value)\n",
    "    #avg_recall = np.mean(all_recalls)\n",
    "    avg_auc = np.mean(all_scores)\n",
    "    \n",
    "    return avg_auc\n",
    "\n",
    "study = optuna.create_study(direction='maximize')\n",
    "study.optimize(objective, n_trials=10)\n",
    "\n",
    "print(\"Best trial:\")\n",
    "trial = study.best_trial\n",
    "print(\"  Avg_roc_auc_score: {}\".format(trial.value))\n",
    "print(\"  Params: \")\n",
    "for key, value in trial.params.items():\n",
    "    print(\"    {}: {}\".format(key, value))\n",
    "\n",
    "best_params = trial.params\n",
    "ada_clf = AdaBoostClassifier(**best_params)\n",
    "ada_clf.fit(X_train, y_train)"
   ]
  },
  {
   "cell_type": "code",
   "execution_count": 56,
   "id": "a43e6d35",
   "metadata": {},
   "outputs": [
    {
     "name": "stdout",
     "output_type": "stream",
     "text": [
      "Accuracy_value:  0.9392857142857143\n",
      "f1_score_value:  0.48484848484848486\n",
      "recall_value:  0.32\n",
      "roc_auc_score:  0.66\n"
     ]
    }
   ],
   "source": [
    "ada_pred = ada_clf.predict(X_test)\n",
    "\n",
    "print(\"Accuracy_value: \", accuracy_score(y_test, ada_pred))\n",
    "print(\"f1_score_value: \", f1_score(y_test, ada_pred))\n",
    "print(\"recall_value: \", recall_score(y_test, ada_pred))\n",
    "print(\"roc_auc_score: \", roc_auc_score(y_test, ada_pred))"
   ]
  },
  {
   "cell_type": "code",
   "execution_count": 70,
   "id": "6eed2bea",
   "metadata": {},
   "outputs": [
    {
     "data": {
      "image/png": "[encoded data removed]",
      "text/plain": [
       "<Figure size 800x600 with 1 Axes>"
      ]
     },
     "metadata": {},
     "output_type": "display_data"
    }
   ],
   "source": [
    "train_sizes, train_scores, test_scores = learning_curve(\n",
    "    estimator=ada_clf,\n",
    "    X=X_train,\n",
    "    y=y_train,\n",
    "    cv=10,\n",
    "    scoring='roc_auc',\n",
    "    train_sizes=np.linspace(0.1, 1.0, 10),\n",
    "    n_jobs=-1\n",
    ")\n",
    "\n",
    "train_scores_mean = np.mean(train_scores, axis=1)\n",
    "train_scores_std = np.std(train_scores, axis=1)\n",
    "test_scores_mean = np.mean(test_scores, axis=1)\n",
    "test_scores_std = np.std(test_scores, axis=1)\n",
    "\n",
    "plt.figure(figsize=(8, 6))\n",
    "plt.title(\"Learning Curve(AdaBoost)\")\n",
    "plt.xlabel(\"Training examples\")\n",
    "plt.ylabel(\"Score\")\n",
    "plt.grid()\n",
    "plt.fill_between(train_sizes, train_scores_mean - train_scores_std,\n",
    "                 train_scores_mean + train_scores_std, alpha=0.1,\n",
    "                 color=\"r\")\n",
    "plt.fill_between(train_sizes, test_scores_mean - test_scores_std,\n",
    "                 test_scores_mean + test_scores_std, alpha=0.1,\n",
    "                 color=\"g\")\n",
    "plt.plot(train_sizes, train_scores_mean, 'o-', color=\"r\",\n",
    "         label=\"Training score\")\n",
    "plt.plot(train_sizes, test_scores_mean, 'o-', color=\"g\",\n",
    "         label=\"Cross-validation score\")\n",
    "plt.legend(loc=\"best\")\n",
    "plt.show()"
   ]
  },
  {
   "cell_type": "code",
   "execution_count": 57,
   "id": "a5e48b76",
   "metadata": {},
   "outputs": [
    {
     "data": {
      "text/plain": [
       "['ada_model.joblib']"
      ]
     },
     "execution_count": 57,
     "metadata": {},
     "output_type": "execute_result"
    }
   ],
   "source": [
    "# Save the trained model to a file\n",
    "dump(ada_clf, 'ada_model.joblib')"
   ]
  },
  {
   "cell_type": "markdown",
   "id": "d7dbb03d",
   "metadata": {
    "id": "d7dbb03d"
   },
   "source": [
    "# Disagreement Heatmap"
   ]
  },
  {
   "cell_type": "code",
   "execution_count": 76,
   "id": "0a38f53a",
   "metadata": {
    "id": "0a38f53a"
   },
   "outputs": [],
   "source": [
    "# Define the trained models\n",
    "models = [rf_clf, lgbm_clf, lr_clf, xgb_clf, knn_clf, svm_clf, ada_clf]\n",
    "\n",
    "# Define the prediction function for a single model\n",
    "def predict_single_model(X, model):\n",
    "    y_pred = model.predict(X)\n",
    "    return y_pred\n",
    "\n",
    "# Define the disagreement function between two models\n",
    "def disagreement(y_pred1, y_pred2):\n",
    "    return np.sum(y_pred1 != y_pred2)\n",
    "\n",
    "# Compute the pairwise disagreements between all models\n",
    "disagreements = np.zeros((len(models), len(models)))\n",
    "for i in range(len(models)):\n",
    "    for j in range(i+1, len(models)):\n",
    "        y_pred1 = predict_single_model(X_train, models[i])\n",
    "        y_pred2 = predict_single_model(X_train, models[j])\n",
    "        disagreements[i][j] = disagreement(y_pred1, y_pred2)\n",
    "        disagreements[j][i] = disagreements[i][j]\n",
    "\n",
    "# Compute the disagreement scores for each model\n",
    "disagreement_scores = np.sum(disagreements, axis=1)"
   ]
  },
  {
   "cell_type": "code",
   "execution_count": 77,
   "id": "06681a51",
   "metadata": {
    "id": "06681a51",
    "outputId": "bf4ebc7a-94bc-4147-fbfb-c09d860aac2d"
   },
   "outputs": [
    {
     "data": {
      "image/png": "[encoded data removed]",
      "text/plain": [
       "<Figure size 1000x800 with 2 Axes>"
      ]
     },
     "metadata": {},
     "output_type": "display_data"
    }
   ],
   "source": [
    "# Define the names of the models\n",
    "model_names = ['RF', 'LightGBM', 'LR', 'XGBoost', 'KNN', 'AdaBoost','SVM']\n",
    "\n",
    "# Plot the heatmap\n",
    "sns.set()\n",
    "fig, ax = plt.subplots(figsize=(10,8))\n",
    "sns.heatmap(disagreements, cmap=\"coolwarm\", annot=True, linewidths=0.5, ax=ax)\n",
    "\n",
    "# Replace the tick labels with the model names\n",
    "ax.set_xticklabels(model_names)\n",
    "ax.set_yticklabels(model_names)\n",
    "\n",
    "# Add labels and title\n",
    "ax.set_xlabel('Models')\n",
    "ax.set_ylabel('Models')\n",
    "ax.set_title('Pairwise Disagreement Heatmap')\n",
    "plt.show()"
   ]
  },
  {
   "cell_type": "markdown",
   "id": "3355270d",
   "metadata": {
    "id": "3355270d"
   },
   "source": [
    "# Super Learner for Classification"
   ]
  },
  {
   "cell_type": "code",
   "execution_count": 78,
   "id": "kn4IuCPrJgmA",
   "metadata": {
    "id": "kn4IuCPrJgmA"
   },
   "outputs": [],
   "source": [
    "# create a list of base-models\n",
    "def get_models():\n",
    "    models_list = list()\n",
    "    models_list.append(LogisticRegression(solver='liblinear'))\n",
    "    models_list.append(XGBClassifier())\n",
    "    models_list.append(KNeighborsClassifier())\n",
    "    models_list.append(LGBMClassifier())\n",
    "    models_list.append(RandomForestClassifier(n_estimators=10))\n",
    "    models_list.append(AdaBoostClassifier())\n",
    "    models_list.append(SVC(gamma='scale', probability=True))\n",
    "    \n",
    "    #models.append(GaussianNB())\n",
    "    #models.append(BaggingClassifier(n_estimators=10))\n",
    "    #models.append(ExtraTreesClassifier(n_estimators=10))\n",
    "    return models_list"
   ]
  },
  {
   "cell_type": "code",
   "execution_count": 79,
   "id": "678edb50",
   "metadata": {},
   "outputs": [],
   "source": [
    "# from sklearn.ensemble import StackingClassifier\n",
    "# # rf_clf, lgbm_clf, lr_clf, xgb_clf, knn_clf, svm_clf, ada_clf\n",
    "# model_list = [\n",
    "#     #('ann',ann),\n",
    "#     ('rf',rf_clf),\n",
    "#    # ('lgbm',lgbm_clf),\n",
    "#     ('logistic_regrresion',lr_clf),\n",
    "#     ('xgb',xgb_clf),\n",
    "#     ('knn',knn_clf),\n",
    "#     ('svm',svm_clf),\n",
    "#     ('ada',ada_clf) ]\n",
    "\n",
    "# # define the meta-classifier\n",
    "# meta_clf = LogisticRegression()\n",
    "\n",
    "# # Build stack model\n",
    "# stack_model = StackingClassifier(estimators=model_list, final_estimator=LogisticRegression())\n",
    "\n",
    "# stack_model.fit(X_train, y_train)\n",
    "\n",
    "# yhat = stack_model.predict(X_test)\n",
    "\n",
    "# stack_model.score(X_test,y_test)\n",
    "# print('Stack Model: %.3f' % (accuracy_score(y_test, yhat) * 100))"
   ]
  },
  {
   "cell_type": "code",
   "execution_count": 80,
   "id": "7dba1524",
   "metadata": {},
   "outputs": [],
   "source": [
    "# import pickle\n",
    "# # Save the trained model to a file\n",
    "\n",
    "# with open('stack_model_ensemble_model.pickle', 'wb') as f:\n",
    "#     pickle.dump(stack_model, f)\n"
   ]
  },
  {
   "cell_type": "markdown",
   "id": "5d081d81",
   "metadata": {},
   "source": [
    "# Super Learner for Classification With the ML-Ensemble Library"
   ]
  },
  {
   "cell_type": "code",
   "execution_count": 81,
   "id": "fb624826",
   "metadata": {},
   "outputs": [
    {
     "name": "stdout",
     "output_type": "stream",
     "text": [
      "                                   score-m  score-s  ft-m  ft-s  pt-m  pt-s\n",
      "layer-1  adaboostclassifier           0.91     0.02  1.24  0.06  0.09  0.03\n",
      "layer-1  kneighborsclassifier         0.90     0.02  0.01  0.00  0.05  0.01\n",
      "layer-1  lgbmclassifier               0.92     0.01  1.79  1.04  0.00  0.00\n",
      "layer-1  logisticregression           0.91     0.01  0.02  0.00  0.00  0.00\n",
      "layer-1  randomforestclassifier       0.91     0.01  0.09  0.02  0.01  0.00\n",
      "layer-1  svc                          0.90     0.01  0.66  0.08  0.02  0.00\n",
      "layer-1  xgbclassifier                0.92     0.01  0.38  0.02  0.00  0.00\n",
      "\n",
      "Super Learner: 93.750\n"
     ]
    }
   ],
   "source": [
    "# create the super learner\n",
    "def get_super_learner(X):\n",
    "    ensemble = SuperLearner(scorer=accuracy_score, folds=10, shuffle=True, sample_size=len(X))\n",
    "\n",
    "    # add base models\n",
    "    models = get_models()\n",
    "    ensemble.add(models)\n",
    "\n",
    "    # add the meta model\n",
    "    ensemble.add_meta(LogisticRegression(solver='lbfgs'))\n",
    "    return ensemble\n",
    " \n",
    "# create the super learner\n",
    "ensemble = get_super_learner(X_train)\n",
    "\n",
    "# fit the super learner\n",
    "ensemble.fit(X_train, y_train)\n",
    " \n",
    "# summarize base learners\n",
    "print(ensemble.data)\n",
    "\n",
    "# make predictions on hold out set\n",
    "yhat = ensemble.predict(X_test)\n",
    "print('Super Learner: %.3f' % (accuracy_score(y_test, yhat) * 100))\n",
    "\n",
    "# \"ft-m\" column shows the mean feature importance score\n",
    "# \"ft-s\" column shows the standard deviation of the feature importance scores\n",
    "# \"pt-m\" column shows the mean prediction time (in seconds)\n",
    "# \"pt-s\" column shows the standard deviation of the prediction times"
   ]
  },
  {
   "cell_type": "code",
   "execution_count": 82,
   "id": "4a8f6615",
   "metadata": {},
   "outputs": [
    {
     "name": "stdout",
     "output_type": "stream",
     "text": [
      "Accuracy_value:  0.9375\n",
      "f1_score_value:  0.5333333333333333\n",
      "recall_value  :  0.4\n"
     ]
    }
   ],
   "source": [
    "print(\"Accuracy_value: \", accuracy_score(y_test, yhat))\n",
    "print(\"f1_score_value: \", f1_score(y_test, yhat))\n",
    "print(\"recall_value  : \", recall_score(y_test, yhat))"
   ]
  },
  {
   "cell_type": "code",
   "execution_count": 83,
   "id": "7f0043df",
   "metadata": {},
   "outputs": [
    {
     "data": {
      "image/png": "[encoded data removed]",
      "text/plain": [
       "<Figure size 800x600 with 1 Axes>"
      ]
     },
     "metadata": {},
     "output_type": "display_data"
    }
   ],
   "source": [
    "# calculate the learning curve scores\n",
    "train_sizes, train_scores, test_scores = learning_curve(\n",
    "    ensemble, X_train, y_train, cv=10, scoring='accuracy')\n",
    "\n",
    "# plot the learning curve\n",
    "plt.figure(figsize=(8, 6))\n",
    "plt.title('Learning Curve(Super Learner)')\n",
    "plt.xlabel('Training Examples')\n",
    "plt.ylabel('Score')\n",
    "plt.ylim(0.5, 1.0)\n",
    "plt.grid()\n",
    "\n",
    "# plot the mean training and test scores\n",
    "train_scores_mean = np.mean(train_scores, axis=1)\n",
    "test_scores_mean = np.mean(test_scores, axis=1)\n",
    "plt.plot(train_sizes, train_scores_mean, 'o-', color='r',\n",
    "         label='Training score')\n",
    "plt.plot(train_sizes, test_scores_mean, 'o-', color='g',\n",
    "         label='Cross-validation score')\n",
    "\n",
    "# add a legend\n",
    "plt.legend(loc='best')\n",
    "\n",
    "plt.show()\n"
   ]
  },
  {
   "cell_type": "code",
   "execution_count": 84,
   "id": "a476546c",
   "metadata": {},
   "outputs": [
    {
     "data": {
      "text/plain": [
       "['super_learner_ensemble_model.joblib']"
      ]
     },
     "execution_count": 84,
     "metadata": {},
     "output_type": "execute_result"
    }
   ],
   "source": [
    "# Save the trained model to a file\n",
    "dump(ensemble, 'super_learner_ensemble_model.joblib')"
   ]
  },
  {
   "cell_type": "code",
   "execution_count": 85,
   "id": "c6bad2d7",
   "metadata": {},
   "outputs": [],
   "source": [
    "ensemble = joblib.load('super_learner_ensemble_model.joblib')"
   ]
  },
  {
   "cell_type": "markdown",
   "id": "63577c50",
   "metadata": {},
   "source": [
    "# Precision, Recall & F1 score"
   ]
  },
  {
   "cell_type": "code",
   "execution_count": 86,
   "id": "4ddc28f8",
   "metadata": {},
   "outputs": [
    {
     "name": "stdout",
     "output_type": "stream",
     "text": [
      "RandomForestClassifier\n",
      "              precision    recall  f1-score   support\n",
      "\n",
      "           0       0.93      1.00      0.96       510\n",
      "           1       0.91      0.20      0.33        50\n",
      "\n",
      "    accuracy                           0.93       560\n",
      "   macro avg       0.92      0.60      0.64       560\n",
      "weighted avg       0.93      0.93      0.90       560\n",
      "\n",
      "LGBMClassifier\n",
      "              precision    recall  f1-score   support\n",
      "\n",
      "           0       0.94      1.00      0.96       510\n",
      "           1       0.88      0.30      0.45        50\n",
      "\n",
      "    accuracy                           0.93       560\n",
      "   macro avg       0.91      0.65      0.71       560\n",
      "weighted avg       0.93      0.93      0.92       560\n",
      "\n",
      "LogisticRegression\n",
      "              precision    recall  f1-score   support\n",
      "\n",
      "           0       0.94      0.99      0.96       510\n",
      "           1       0.72      0.36      0.48        50\n",
      "\n",
      "    accuracy                           0.93       560\n",
      "   macro avg       0.83      0.67      0.72       560\n",
      "weighted avg       0.92      0.93      0.92       560\n",
      "\n",
      "XGBClassifier\n",
      "              precision    recall  f1-score   support\n",
      "\n",
      "           0       0.95      0.99      0.97       510\n",
      "           1       0.79      0.44      0.56        50\n",
      "\n",
      "    accuracy                           0.94       560\n",
      "   macro avg       0.87      0.71      0.77       560\n",
      "weighted avg       0.93      0.94      0.93       560\n",
      "\n",
      "KNeighborsClassifier\n",
      "              precision    recall  f1-score   support\n",
      "\n",
      "           0       0.92      1.00      0.95       510\n",
      "           1       0.67      0.08      0.14        50\n",
      "\n",
      "    accuracy                           0.91       560\n",
      "   macro avg       0.79      0.54      0.55       560\n",
      "weighted avg       0.89      0.91      0.88       560\n",
      "\n",
      "SVC\n",
      "              precision    recall  f1-score   support\n",
      "\n",
      "           0       0.91      1.00      0.95       510\n",
      "           1       0.00      0.00      0.00        50\n",
      "\n",
      "    accuracy                           0.91       560\n",
      "   macro avg       0.46      0.50      0.48       560\n",
      "weighted avg       0.83      0.91      0.87       560\n",
      "\n",
      "AdaBoostClassifier\n",
      "              precision    recall  f1-score   support\n",
      "\n",
      "           0       0.94      1.00      0.97       510\n",
      "           1       1.00      0.32      0.48        50\n",
      "\n",
      "    accuracy                           0.94       560\n",
      "   macro avg       0.97      0.66      0.73       560\n",
      "weighted avg       0.94      0.94      0.92       560\n",
      "\n",
      "SuperLearner\n",
      "              precision    recall  f1-score   support\n",
      "\n",
      "           0       0.94      0.99      0.97       510\n",
      "           1       0.80      0.40      0.53        50\n",
      "\n",
      "    accuracy                           0.94       560\n",
      "   macro avg       0.87      0.70      0.75       560\n",
      "weighted avg       0.93      0.94      0.93       560\n",
      "\n"
     ]
    }
   ],
   "source": [
    "from sklearn.metrics import classification_report\n",
    "\n",
    "# get classification report for each model\n",
    "for model in models + [ensemble]:\n",
    "    yhat = model.predict(X_test)\n",
    "    report = classification_report(y_test, yhat)\n",
    "    print(model.__class__.__name__)\n",
    "    print(report)"
   ]
  },
  {
   "cell_type": "markdown",
   "id": "91ef3f1f",
   "metadata": {},
   "source": [
    "# AUC/ROC Curve"
   ]
  },
  {
   "cell_type": "code",
   "execution_count": 87,
   "id": "6e33a52d",
   "metadata": {},
   "outputs": [
    {
     "name": "stdout",
     "output_type": "stream",
     "text": [
      "AUC_Scores\n",
      "\n",
      "Random Forest : 0.8869019607843137\n",
      "LightGBM      : 0.8785098039215687\n",
      "Logistic Regression: 0.8848627450980392\n",
      "XGBoost       : 0.8983529411764707\n",
      "KNN           : 0.7631764705882352\n",
      "AdaBoost      : 0.8832941176470589\n",
      "SVM           : 0.868549019607843\n"
     ]
    }
   ],
   "source": [
    "# predict probabilities\n",
    "pred_prob1 = rf_clf.predict_proba(X_test)\n",
    "pred_prob2 = lgbm_clf.predict_proba(X_test)\n",
    "pred_prob3 = lr_clf.predict_proba(X_test)\n",
    "pred_prob4 = xgb_clf.predict_proba(X_test)\n",
    "pred_prob5 = knn_clf.predict_proba(X_test)\n",
    "pred_prob6 = svm_clf.predict_proba(X_test)\n",
    "pred_prob7 = ada_clf.predict_proba(X_test)\n",
    "pred_prob8 = ensemble.predict_proba(X_test)\n",
    "\n",
    "# roc curve for models\n",
    "fpr1, tpr1, thresh1 = roc_curve(y_test, pred_prob1[:,1], pos_label=1)\n",
    "fpr2, tpr2, thresh2 = roc_curve(y_test, pred_prob2[:,1], pos_label=1)\n",
    "fpr3, tpr3, thresh3 = roc_curve(y_test, pred_prob3[:,1], pos_label=1)\n",
    "fpr4, tpr4, thresh4 = roc_curve(y_test, pred_prob4[:,1], pos_label=1)\n",
    "fpr5, tpr5, thresh5 = roc_curve(y_test, pred_prob5[:,1], pos_label=1)\n",
    "fpr6, tpr6, thresh6 = roc_curve(y_test, pred_prob6[:,1], pos_label=1)\n",
    "fpr7, tpr7, thresh7 = roc_curve(y_test, pred_prob7[:,1], pos_label=1)\n",
    "#fpr8, tpr6, thresh6 = roc_curve(y_test, pred_prob6[:,1], pos_label=1)\n",
    "\n",
    "# roc curve for tpr = fpr \n",
    "random_probs = [0 for i in range(len(y_test))]\n",
    "p_fpr, p_tpr, _ = roc_curve(y_test, random_probs, pos_label=1)\n",
    "\n",
    "# auc scores\n",
    "auc_score1 = roc_auc_score(y_test, pred_prob1[:,1])\n",
    "auc_score2 = roc_auc_score(y_test, pred_prob2[:,1])\n",
    "auc_score3 = roc_auc_score(y_test, pred_prob3[:,1])\n",
    "auc_score4 = roc_auc_score(y_test, pred_prob4[:,1])\n",
    "auc_score5 = roc_auc_score(y_test, pred_prob5[:,1])\n",
    "auc_score6 = roc_auc_score(y_test, pred_prob6[:,1])\n",
    "auc_score7 = roc_auc_score(y_test, pred_prob7[:,1])\n",
    "\n",
    "# print classifier name and AUC score\n",
    "print(\"AUC_Scores\")\n",
    "print(\"\")\n",
    "print(\"Random Forest :\", auc_score1)\n",
    "print(\"LightGBM      :\", auc_score2)\n",
    "print(\"Logistic Regression:\", auc_score3)\n",
    "print(\"XGBoost       :\", auc_score4)\n",
    "print(\"KNN           :\", auc_score5)\n",
    "print(\"AdaBoost      :\", auc_score6)\n",
    "print(\"SVM           :\", auc_score7)"
   ]
  },
  {
   "cell_type": "code",
   "execution_count": 88,
   "id": "ae179c42",
   "metadata": {},
   "outputs": [
    {
     "name": "stdout",
     "output_type": "stream",
     "text": [
      "AUC_Scores\n",
      "\n",
      "Random Forest : 0.8869019607843137\n",
      "LightGBM      : 0.8785098039215687\n",
      "Logistic Regression: 0.8848627450980392\n",
      "XGBoost       : 0.8983529411764707\n",
      "KNN           : 0.7631764705882352\n",
      "AdaBoost      : 0.8832941176470589\n",
      "SVM           : 0.868549019607843\n"
     ]
    }
   ],
   "source": [
    "# predict probabilities\n",
    "pred_prob1 = rf_clf.predict_proba(X_test)\n",
    "pred_prob2 = lgbm_clf.predict_proba(X_test)\n",
    "pred_prob3 = lr_clf.predict_proba(X_test)\n",
    "pred_prob4 = xgb_clf.predict_proba(X_test)\n",
    "pred_prob5 = knn_clf.predict_proba(X_test)\n",
    "pred_prob6 = svm_clf.predict_proba(X_test)\n",
    "pred_prob7 = ada_clf.predict_proba(X_test)\n",
    "pred_prob8 = ensemble.predict_proba(X_test)\n",
    "\n",
    "# roc curve for models\n",
    "fpr1, tpr1, thresh1 = roc_curve(y_test, pred_prob1[:,1], pos_label=1)\n",
    "fpr2, tpr2, thresh2 = roc_curve(y_test, pred_prob2[:,1], pos_label=1)\n",
    "fpr3, tpr3, thresh3 = roc_curve(y_test, pred_prob3[:,1], pos_label=1)\n",
    "fpr4, tpr4, thresh4 = roc_curve(y_test, pred_prob4[:,1], pos_label=1)\n",
    "fpr5, tpr5, thresh5 = roc_curve(y_test, pred_prob5[:,1], pos_label=1)\n",
    "fpr6, tpr6, thresh6 = roc_curve(y_test, pred_prob6[:,1], pos_label=1)\n",
    "fpr7, tpr7, thresh7 = roc_curve(y_test, pred_prob7[:,1], pos_label=1)\n",
    "#fpr8, tpr6, thresh6 = roc_curve(y_test, pred_prob6[:,1], pos_label=1)\n",
    "\n",
    "# roc curve for tpr = fpr \n",
    "random_probs = [0 for i in range(len(y_test))]\n",
    "p_fpr, p_tpr, _ = roc_curve(y_test, random_probs, pos_label=1)\n",
    "\n",
    "# auc scores\n",
    "auc_score1 = roc_auc_score(y_test, pred_prob1[:,1])\n",
    "auc_score2 = roc_auc_score(y_test, pred_prob2[:,1])\n",
    "auc_score3 = roc_auc_score(y_test, pred_prob3[:,1])\n",
    "auc_score4 = roc_auc_score(y_test, pred_prob4[:,1])\n",
    "auc_score5 = roc_auc_score(y_test, pred_prob5[:,1])\n",
    "auc_score6 = roc_auc_score(y_test, pred_prob6[:,1])\n",
    "auc_score7 = roc_auc_score(y_test, pred_prob7[:,1])\n",
    "\n",
    "# print classifier name and AUC score\n",
    "print(\"AUC_Scores\")\n",
    "print(\"\")\n",
    "print(\"Random Forest :\", auc_score1)\n",
    "print(\"LightGBM      :\", auc_score2)\n",
    "print(\"Logistic Regression:\", auc_score3)\n",
    "print(\"XGBoost       :\", auc_score4)\n",
    "print(\"KNN           :\", auc_score5)\n",
    "print(\"AdaBoost      :\", auc_score6)\n",
    "print(\"SVM           :\", auc_score7)"
   ]
  },
  {
   "cell_type": "code",
   "execution_count": 89,
   "id": "a9009520",
   "metadata": {},
   "outputs": [
    {
     "data": {
      "image/png": "[encoded data removed]",
      "text/plain": [
       "<Figure size 800x550 with 1 Axes>"
      ]
     },
     "metadata": {},
     "output_type": "display_data"
    }
   ],
   "source": [
    "plt.style.use('seaborn')\n",
    "\n",
    "# plot roc curves\n",
    "plt.plot(fpr1, tpr1, linestyle='-',color='orange', label='Random Forest')\n",
    "plt.plot(fpr2, tpr2, linestyle='-',color='green', label='LightGBM')\n",
    "plt.plot(fpr3, tpr3, linestyle='-',color='blue', label='Logistic Regression')\n",
    "plt.plot(fpr4, tpr4, linestyle='-',color='red', label='XGBoost')\n",
    "plt.plot(fpr5, tpr5, linestyle='-',color='purple', label='KNN')\n",
    "plt.plot(fpr5, tpr5, linestyle='-',color='pink', label='AdaBoost')\n",
    "plt.plot(fpr6, tpr6, linestyle='-',color='yellow', label='SVM')\n",
    "plt.plot(p_fpr, p_tpr, linestyle='--', color='black')\n",
    "\n",
    "# title\n",
    "plt.title('AUC/ROC Curve')\n",
    "# x label\n",
    "plt.xlabel('False Positive Rate')\n",
    "# y label\n",
    "plt.ylabel('True Positive rate')\n",
    "\n",
    "plt.legend(loc='best')\n",
    "plt.savefig('ROC',dpi=300)\n",
    "plt.show();"
   ]
  },
  {
   "cell_type": "markdown",
   "id": "0a594197",
   "metadata": {
    "id": "0a594197",
    "papermill": {
     "duration": 0.035065,
     "end_time": "2023-01-28T05:46:08.165886",
     "exception": false,
     "start_time": "2023-01-28T05:46:08.130821",
     "status": "completed"
    },
    "tags": []
   },
   "source": [
    "# Making Submission"
   ]
  },
  {
   "cell_type": "code",
   "execution_count": null,
   "id": "c4483846",
   "metadata": {},
   "outputs": [],
   "source": []
  },
  {
   "cell_type": "code",
   "execution_count": null,
   "id": "34cc8c3b",
   "metadata": {},
   "outputs": [],
   "source": []
  }
 ],
 "metadata": {
  "accelerator": "GPU",
  "colab": {
   "provenance": []
  },
  "gpuClass": "standard",
  "kernelspec": {
   "display_name": "Python 3 (ipykernel)",
   "language": "python",
   "name": "python3"
  },
  "language_info": {
   "codemirror_mode": {
    "name": "ipython",
    "version": 3
   },
   "file_extension": ".py",
   "mimetype": "text/x-python",
   "name": "python",
   "nbconvert_exporter": "python",
   "pygments_lexer": "ipython3",
   "version": "3.9.13"
  },
  "papermill": {
   "default_parameters": {},
   "duration": 48.731334,
   "end_time": "2023-01-28T05:46:10.125689",
   "environment_variables": {},
   "exception": null,
   "input_path": "__notebook__.ipynb",
   "output_path": "__notebook__.ipynb",
   "parameters": {},
   "start_time": "2023-01-28T05:45:21.394355",
   "version": "2.3.4"
  }
 },
 "nbformat": 4,
 "nbformat_minor": 5
}
